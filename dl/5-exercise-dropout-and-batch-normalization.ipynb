{
 "cells": [
  {
   "cell_type": "markdown",
   "id": "9a1d7131",
   "metadata": {
    "papermill": {
     "duration": 0.004325,
     "end_time": "2025-02-19T14:20:12.224785",
     "exception": false,
     "start_time": "2025-02-19T14:20:12.220460",
     "status": "completed"
    },
    "tags": []
   },
   "source": [
    "**This notebook is an exercise in the [Intro to Deep Learning](https://www.kaggle.com/learn/intro-to-deep-learning) course.  You can reference the tutorial at [this link](https://www.kaggle.com/ryanholbrook/dropout-and-batch-normalization).**\n",
    "\n",
    "---\n"
   ]
  },
  {
   "cell_type": "markdown",
   "id": "2d0302f6",
   "metadata": {
    "papermill": {
     "duration": 0.003626,
     "end_time": "2025-02-19T14:20:12.232241",
     "exception": false,
     "start_time": "2025-02-19T14:20:12.228615",
     "status": "completed"
    },
    "tags": []
   },
   "source": [
    "# Introduction #\n",
    "\n",
    "In this exercise, you'll add dropout to the *Spotify* model from Exercise 4 and see how batch normalization can let you successfully train models on difficult datasets.\n",
    "\n",
    "Run the next cell to get started!"
   ]
  },
  {
   "cell_type": "code",
   "execution_count": 1,
   "id": "09309911",
   "metadata": {
    "execution": {
     "iopub.execute_input": "2025-02-19T14:20:12.242170Z",
     "iopub.status.busy": "2025-02-19T14:20:12.241205Z",
     "iopub.status.idle": "2025-02-19T14:20:13.049503Z",
     "shell.execute_reply": "2025-02-19T14:20:13.048565Z"
    },
    "papermill": {
     "duration": 0.815969,
     "end_time": "2025-02-19T14:20:13.051975",
     "exception": false,
     "start_time": "2025-02-19T14:20:12.236006",
     "status": "completed"
    },
    "tags": []
   },
   "outputs": [
    {
     "name": "stderr",
     "output_type": "stream",
     "text": [
      "/tmp/ipykernel_26/195640296.py:3: MatplotlibDeprecationWarning: The seaborn styles shipped by Matplotlib are deprecated since 3.6, as they no longer correspond to the styles shipped by seaborn. However, they will remain available as 'seaborn-v0_8-<style>'. Alternatively, directly use the seaborn API instead.\n",
      "  plt.style.use('seaborn-whitegrid')\n"
     ]
    }
   ],
   "source": [
    "# Setup plotting\n",
    "import matplotlib.pyplot as plt\n",
    "plt.style.use('seaborn-whitegrid')\n",
    "# Set Matplotlib defaults\n",
    "plt.rc('figure', autolayout=True)\n",
    "plt.rc('axes', labelweight='bold', labelsize='large',\n",
    "       titleweight='bold', titlesize=18, titlepad=10)\n",
    "plt.rc('animation', html='html5')\n",
    "\n",
    "# Setup feedback system\n",
    "from learntools.core import binder\n",
    "binder.bind(globals())\n",
    "from learntools.deep_learning_intro.ex5 import *"
   ]
  },
  {
   "cell_type": "markdown",
   "id": "057f53fd",
   "metadata": {
    "papermill": {
     "duration": 0.003675,
     "end_time": "2025-02-19T14:20:13.060009",
     "exception": false,
     "start_time": "2025-02-19T14:20:13.056334",
     "status": "completed"
    },
    "tags": []
   },
   "source": [
    "First load the *Spotify* dataset."
   ]
  },
  {
   "cell_type": "code",
   "execution_count": 2,
   "id": "54a19f5e",
   "metadata": {
    "execution": {
     "iopub.execute_input": "2025-02-19T14:20:13.069159Z",
     "iopub.status.busy": "2025-02-19T14:20:13.068732Z",
     "iopub.status.idle": "2025-02-19T14:20:27.730013Z",
     "shell.execute_reply": "2025-02-19T14:20:27.728787Z"
    },
    "papermill": {
     "duration": 14.668712,
     "end_time": "2025-02-19T14:20:27.732564",
     "exception": false,
     "start_time": "2025-02-19T14:20:13.063852",
     "status": "completed"
    },
    "tags": []
   },
   "outputs": [
    {
     "name": "stderr",
     "output_type": "stream",
     "text": [
      "2025-02-19 14:20:16.359110: E external/local_xla/xla/stream_executor/cuda/cuda_dnn.cc:9261] Unable to register cuDNN factory: Attempting to register factory for plugin cuDNN when one has already been registered\n",
      "2025-02-19 14:20:16.359231: E external/local_xla/xla/stream_executor/cuda/cuda_fft.cc:607] Unable to register cuFFT factory: Attempting to register factory for plugin cuFFT when one has already been registered\n",
      "2025-02-19 14:20:16.501034: E external/local_xla/xla/stream_executor/cuda/cuda_blas.cc:1515] Unable to register cuBLAS factory: Attempting to register factory for plugin cuBLAS when one has already been registered\n"
     ]
    },
    {
     "name": "stdout",
     "output_type": "stream",
     "text": [
      "Input shape: [18]\n"
     ]
    }
   ],
   "source": [
    "import pandas as pd\n",
    "from sklearn.preprocessing import StandardScaler, OneHotEncoder\n",
    "from sklearn.compose import make_column_transformer\n",
    "from sklearn.model_selection import GroupShuffleSplit\n",
    "\n",
    "from tensorflow import keras\n",
    "from tensorflow.keras import layers\n",
    "from tensorflow.keras import callbacks\n",
    "\n",
    "spotify = pd.read_csv('../input/dl-course-data/spotify.csv')\n",
    "\n",
    "X = spotify.copy().dropna()\n",
    "y = X.pop('track_popularity')\n",
    "artists = X['track_artist']\n",
    "\n",
    "features_num = ['danceability', 'energy', 'key', 'loudness', 'mode',\n",
    "                'speechiness', 'acousticness', 'instrumentalness',\n",
    "                'liveness', 'valence', 'tempo', 'duration_ms']\n",
    "features_cat = ['playlist_genre']\n",
    "\n",
    "preprocessor = make_column_transformer(\n",
    "    (StandardScaler(), features_num),\n",
    "    (OneHotEncoder(), features_cat),\n",
    ")\n",
    "\n",
    "def group_split(X, y, group, train_size=0.75):\n",
    "    splitter = GroupShuffleSplit(train_size=train_size)\n",
    "    train, test = next(splitter.split(X, y, groups=group))\n",
    "    return (X.iloc[train], X.iloc[test], y.iloc[train], y.iloc[test])\n",
    "\n",
    "X_train, X_valid, y_train, y_valid = group_split(X, y, artists)\n",
    "\n",
    "X_train = preprocessor.fit_transform(X_train)\n",
    "X_valid = preprocessor.transform(X_valid)\n",
    "y_train = y_train / 100\n",
    "y_valid = y_valid / 100\n",
    "\n",
    "input_shape = [X_train.shape[1]]\n",
    "print(\"Input shape: {}\".format(input_shape))"
   ]
  },
  {
   "cell_type": "markdown",
   "id": "3e1e577e",
   "metadata": {
    "papermill": {
     "duration": 0.004154,
     "end_time": "2025-02-19T14:20:27.748765",
     "exception": false,
     "start_time": "2025-02-19T14:20:27.744611",
     "status": "completed"
    },
    "tags": []
   },
   "source": [
    "# 1) Add Dropout to Spotify Model\n",
    "\n",
    "Here is the last model from Exercise 4. Add two dropout layers, one after the `Dense` layer with 128 units, and one after the `Dense` layer with 64 units. Set the dropout rate on both to `0.3`."
   ]
  },
  {
   "cell_type": "code",
   "execution_count": 3,
   "id": "36e1b7c5",
   "metadata": {
    "execution": {
     "iopub.execute_input": "2025-02-19T14:20:27.760498Z",
     "iopub.status.busy": "2025-02-19T14:20:27.759702Z",
     "iopub.status.idle": "2025-02-19T14:20:28.898982Z",
     "shell.execute_reply": "2025-02-19T14:20:28.898084Z"
    },
    "lines_to_next_cell": 2,
    "papermill": {
     "duration": 1.147265,
     "end_time": "2025-02-19T14:20:28.900668",
     "exception": false,
     "start_time": "2025-02-19T14:20:27.753403",
     "status": "completed"
    },
    "tags": []
   },
   "outputs": [
    {
     "data": {
      "application/javascript": [
       "parent.postMessage({\"jupyterEvent\": \"custom.exercise_interaction\", \"data\": {\"outcomeType\": 1, \"valueTowardsCompletion\": 0.25, \"interactionType\": 1, \"questionType\": 2, \"questionId\": \"1_Q1\", \"learnToolsVersion\": \"0.3.4\", \"failureMessage\": \"\", \"exceptionClass\": \"\", \"trace\": \"\"}}, \"*\")"
      ],
      "text/plain": [
       "<IPython.core.display.Javascript object>"
      ]
     },
     "metadata": {},
     "output_type": "display_data"
    },
    {
     "data": {
      "text/markdown": [
       "<span style=\"color:#33cc33\">Correct</span>"
      ],
      "text/plain": [
       "Correct"
      ]
     },
     "metadata": {},
     "output_type": "display_data"
    }
   ],
   "source": [
    "# YOUR CODE HERE: Add two 30% dropout layers, one after 128 and one after 64\n",
    "model = keras.Sequential([\n",
    "    layers.Dense(128, activation='relu', input_shape=input_shape),\n",
    "    layers.Dropout(rate=0.3),\n",
    "    layers.Dense(64, activation='relu'),\n",
    "    layers.Dropout(rate=0.3),\n",
    "    layers.Dense(1)\n",
    "])\n",
    "\n",
    "# Check your answer\n",
    "q_1.check()"
   ]
  },
  {
   "cell_type": "code",
   "execution_count": 4,
   "id": "798b8be1",
   "metadata": {
    "execution": {
     "iopub.execute_input": "2025-02-19T14:20:28.911102Z",
     "iopub.status.busy": "2025-02-19T14:20:28.910219Z",
     "iopub.status.idle": "2025-02-19T14:20:28.913924Z",
     "shell.execute_reply": "2025-02-19T14:20:28.913233Z"
    },
    "papermill": {
     "duration": 0.010582,
     "end_time": "2025-02-19T14:20:28.915618",
     "exception": false,
     "start_time": "2025-02-19T14:20:28.905036",
     "status": "completed"
    },
    "tags": []
   },
   "outputs": [],
   "source": [
    "# Lines below will give you a hint or solution code\n",
    "#q_1.hint()\n",
    "#q_1.solution()"
   ]
  },
  {
   "cell_type": "markdown",
   "id": "c21a6146",
   "metadata": {
    "papermill": {
     "duration": 0.003867,
     "end_time": "2025-02-19T14:20:28.923850",
     "exception": false,
     "start_time": "2025-02-19T14:20:28.919983",
     "status": "completed"
    },
    "tags": []
   },
   "source": [
    "Now run this next cell to train the model see the effect of adding dropout."
   ]
  },
  {
   "cell_type": "code",
   "execution_count": 5,
   "id": "212ae736",
   "metadata": {
    "execution": {
     "iopub.execute_input": "2025-02-19T14:20:28.934992Z",
     "iopub.status.busy": "2025-02-19T14:20:28.934140Z",
     "iopub.status.idle": "2025-02-19T14:20:40.567257Z",
     "shell.execute_reply": "2025-02-19T14:20:40.566362Z"
    },
    "papermill": {
     "duration": 11.641248,
     "end_time": "2025-02-19T14:20:40.569027",
     "exception": false,
     "start_time": "2025-02-19T14:20:28.927779",
     "status": "completed"
    },
    "tags": []
   },
   "outputs": [
    {
     "name": "stderr",
     "output_type": "stream",
     "text": [
      "WARNING: All log messages before absl::InitializeLog() is called are written to STDERR\n",
      "I0000 00:00:1739974831.392256      69 device_compiler.h:186] Compiled cluster using XLA!  This line is logged at most once for the lifetime of the process.\n"
     ]
    },
    {
     "name": "stdout",
     "output_type": "stream",
     "text": [
      "Minimum Validation Loss: 0.1949\n"
     ]
    },
    {
     "data": {
      "image/png": "[encoded data removed]",
      "text/plain": [
       "<Figure size 640x480 with 1 Axes>"
      ]
     },
     "metadata": {},
     "output_type": "display_data"
    }
   ],
   "source": [
    "model.compile(\n",
    "    optimizer='adam',\n",
    "    loss='mae',\n",
    ")\n",
    "history = model.fit(\n",
    "    X_train, y_train,\n",
    "    validation_data=(X_valid, y_valid),\n",
    "    batch_size=512,\n",
    "    epochs=50,\n",
    "    verbose=0,\n",
    ")\n",
    "history_df = pd.DataFrame(history.history)\n",
    "history_df.loc[:, ['loss', 'val_loss']].plot()\n",
    "print(\"Minimum Validation Loss: {:0.4f}\".format(history_df['val_loss'].min()))"
   ]
  },
  {
   "cell_type": "markdown",
   "id": "96e67bea",
   "metadata": {
    "papermill": {
     "duration": 0.004643,
     "end_time": "2025-02-19T14:20:40.578451",
     "exception": false,
     "start_time": "2025-02-19T14:20:40.573808",
     "status": "completed"
    },
    "tags": []
   },
   "source": [
    "# 2) Evaluate Dropout\n",
    "\n",
    "Recall from Exercise 4 that this model tended to overfit the data around epoch 5. Did adding dropout seem to help prevent overfitting this time?"
   ]
  },
  {
   "cell_type": "code",
   "execution_count": 6,
   "id": "04a164e0",
   "metadata": {
    "execution": {
     "iopub.execute_input": "2025-02-19T14:20:40.589409Z",
     "iopub.status.busy": "2025-02-19T14:20:40.588654Z",
     "iopub.status.idle": "2025-02-19T14:20:40.595975Z",
     "shell.execute_reply": "2025-02-19T14:20:40.595023Z"
    },
    "papermill": {
     "duration": 0.014685,
     "end_time": "2025-02-19T14:20:40.597699",
     "exception": false,
     "start_time": "2025-02-19T14:20:40.583014",
     "status": "completed"
    },
    "tags": []
   },
   "outputs": [
    {
     "data": {
      "application/javascript": [
       "parent.postMessage({\"jupyterEvent\": \"custom.exercise_interaction\", \"data\": {\"outcomeType\": 1, \"valueTowardsCompletion\": 0.25, \"interactionType\": 1, \"questionType\": 4, \"questionId\": \"2_Q2\", \"learnToolsVersion\": \"0.3.4\", \"failureMessage\": \"\", \"exceptionClass\": \"\", \"trace\": \"\"}}, \"*\")"
      ],
      "text/plain": [
       "<IPython.core.display.Javascript object>"
      ]
     },
     "metadata": {},
     "output_type": "display_data"
    },
    {
     "data": {
      "text/markdown": [
       "<span style=\"color:#33cc33\">Correct:</span> \n",
       "\n",
       "\n",
       "From the learning curves, you can see that the validation loss remains near a constant minimum even though the training loss continues to decrease. So we can see that adding dropout did prevent overfitting this time. Moreover, by making it harder for the network to fit spurious patterns, dropout may have encouraged the network to seek out more of the true patterns, possibly improving the validation loss some as well).\n"
      ],
      "text/plain": [
       "Correct: \n",
       "\n",
       "\n",
       "From the learning curves, you can see that the validation loss remains near a constant minimum even though the training loss continues to decrease. So we can see that adding dropout did prevent overfitting this time. Moreover, by making it harder for the network to fit spurious patterns, dropout may have encouraged the network to seek out more of the true patterns, possibly improving the validation loss some as well)."
      ]
     },
     "metadata": {},
     "output_type": "display_data"
    }
   ],
   "source": [
    "# View the solution (Run this cell to receive credit!)\n",
    "q_2.check()"
   ]
  },
  {
   "cell_type": "markdown",
   "id": "f15d9d4f",
   "metadata": {
    "papermill": {
     "duration": 0.005018,
     "end_time": "2025-02-19T14:20:40.607519",
     "exception": false,
     "start_time": "2025-02-19T14:20:40.602501",
     "status": "completed"
    },
    "tags": []
   },
   "source": [
    "Now, we'll switch topics to explore how batch normalization can fix problems in training.\n",
    "\n",
    "Load the *Concrete* dataset. We won't do any standardization this time. This will make the effect of batch normalization much more apparent."
   ]
  },
  {
   "cell_type": "code",
   "execution_count": 7,
   "id": "4f904fe0",
   "metadata": {
    "execution": {
     "iopub.execute_input": "2025-02-19T14:20:40.619327Z",
     "iopub.status.busy": "2025-02-19T14:20:40.618511Z",
     "iopub.status.idle": "2025-02-19T14:20:40.637642Z",
     "shell.execute_reply": "2025-02-19T14:20:40.636622Z"
    },
    "papermill": {
     "duration": 0.027139,
     "end_time": "2025-02-19T14:20:40.639657",
     "exception": false,
     "start_time": "2025-02-19T14:20:40.612518",
     "status": "completed"
    },
    "tags": []
   },
   "outputs": [],
   "source": [
    "import pandas as pd\n",
    "\n",
    "concrete = pd.read_csv('../input/dl-course-data/concrete.csv')\n",
    "df = concrete.copy()\n",
    "\n",
    "df_train = df.sample(frac=0.7, random_state=0)\n",
    "df_valid = df.drop(df_train.index)\n",
    "\n",
    "X_train = df_train.drop('CompressiveStrength', axis=1)\n",
    "X_valid = df_valid.drop('CompressiveStrength', axis=1)\n",
    "y_train = df_train['CompressiveStrength']\n",
    "y_valid = df_valid['CompressiveStrength']\n",
    "\n",
    "input_shape = [X_train.shape[1]]"
   ]
  },
  {
   "cell_type": "markdown",
   "id": "aa02d17b",
   "metadata": {
    "papermill": {
     "duration": 0.00466,
     "end_time": "2025-02-19T14:20:40.649482",
     "exception": false,
     "start_time": "2025-02-19T14:20:40.644822",
     "status": "completed"
    },
    "tags": []
   },
   "source": [
    "Run the following cell to train the network on the unstandardized *Concrete* data."
   ]
  },
  {
   "cell_type": "code",
   "execution_count": 8,
   "id": "1b1d5426",
   "metadata": {
    "execution": {
     "iopub.execute_input": "2025-02-19T14:20:40.660818Z",
     "iopub.status.busy": "2025-02-19T14:20:40.660133Z",
     "iopub.status.idle": "2025-02-19T14:20:48.171169Z",
     "shell.execute_reply": "2025-02-19T14:20:48.170171Z"
    },
    "papermill": {
     "duration": 7.518662,
     "end_time": "2025-02-19T14:20:48.172950",
     "exception": false,
     "start_time": "2025-02-19T14:20:40.654288",
     "status": "completed"
    },
    "tags": []
   },
   "outputs": [
    {
     "name": "stdout",
     "output_type": "stream",
     "text": [
      "Minimum Validation Loss: nan\n"
     ]
    },
    {
     "data": {
      "image/png": "[encoded data removed]",
      "text/plain": [
       "<Figure size 640x480 with 1 Axes>"
      ]
     },
     "metadata": {},
     "output_type": "display_data"
    }
   ],
   "source": [
    "model = keras.Sequential([\n",
    "    layers.Dense(512, activation='relu', input_shape=input_shape),\n",
    "    layers.Dense(512, activation='relu'),    \n",
    "    layers.Dense(512, activation='relu'),\n",
    "    layers.Dense(1),\n",
    "])\n",
    "model.compile(\n",
    "    optimizer='sgd', # SGD is more sensitive to differences of scale\n",
    "    loss='mae',\n",
    "    metrics=['mae'],\n",
    ")\n",
    "history = model.fit(\n",
    "    X_train, y_train,\n",
    "    validation_data=(X_valid, y_valid),\n",
    "    batch_size=64,\n",
    "    epochs=100,\n",
    "    verbose=0,\n",
    ")\n",
    "\n",
    "history_df = pd.DataFrame(history.history)\n",
    "history_df.loc[0:, ['loss', 'val_loss']].plot()\n",
    "print((\"Minimum Validation Loss: {:0.4f}\").format(history_df['val_loss'].min()))"
   ]
  },
  {
   "cell_type": "markdown",
   "id": "90afc3e9",
   "metadata": {
    "papermill": {
     "duration": 0.005062,
     "end_time": "2025-02-19T14:20:48.183461",
     "exception": false,
     "start_time": "2025-02-19T14:20:48.178399",
     "status": "completed"
    },
    "tags": []
   },
   "source": [
    "Did you end up with a blank graph? Trying to train this network on this dataset will usually fail. Even when it does converge (due to a lucky weight initialization), it tends to converge to a very large number.\n",
    "\n",
    "# 3) Add Batch Normalization Layers\n",
    "\n",
    "Batch normalization can help correct problems like this.\n",
    "\n",
    "Add four `BatchNormalization` layers, one before each of the dense layers. (Remember to move the `input_shape` argument to the new first layer.)"
   ]
  },
  {
   "cell_type": "code",
   "execution_count": 9,
   "id": "b3b45575",
   "metadata": {
    "execution": {
     "iopub.execute_input": "2025-02-19T14:20:48.195558Z",
     "iopub.status.busy": "2025-02-19T14:20:48.195099Z",
     "iopub.status.idle": "2025-02-19T14:20:48.318708Z",
     "shell.execute_reply": "2025-02-19T14:20:48.317739Z"
    },
    "lines_to_next_cell": 0,
    "papermill": {
     "duration": 0.131632,
     "end_time": "2025-02-19T14:20:48.320417",
     "exception": false,
     "start_time": "2025-02-19T14:20:48.188785",
     "status": "completed"
    },
    "tags": []
   },
   "outputs": [
    {
     "data": {
      "application/javascript": [
       "parent.postMessage({\"jupyterEvent\": \"custom.exercise_interaction\", \"data\": {\"outcomeType\": 1, \"valueTowardsCompletion\": 0.25, \"interactionType\": 1, \"questionType\": 2, \"questionId\": \"3_Q3\", \"learnToolsVersion\": \"0.3.4\", \"failureMessage\": \"\", \"exceptionClass\": \"\", \"trace\": \"\"}}, \"*\")"
      ],
      "text/plain": [
       "<IPython.core.display.Javascript object>"
      ]
     },
     "metadata": {},
     "output_type": "display_data"
    },
    {
     "data": {
      "text/markdown": [
       "<span style=\"color:#33cc33\">Correct</span>"
      ],
      "text/plain": [
       "Correct"
      ]
     },
     "metadata": {},
     "output_type": "display_data"
    }
   ],
   "source": [
    "# YOUR CODE HERE: Add a BatchNormalization layer before each Dense layer\n",
    "model = keras.Sequential([\n",
    "    layers.BatchNormalization(input_shape=input_shape),\n",
    "    layers.Dense(512, activation='relu'),\n",
    "    layers.BatchNormalization(),\n",
    "    layers.Dense(512, activation='relu'),\n",
    "    layers.BatchNormalization(),\n",
    "    layers.Dense(512, activation='relu'),\n",
    "    layers.BatchNormalization(),\n",
    "    layers.Dense(1),\n",
    "])\n",
    "\n",
    "# Check your answer\n",
    "q_3.check()"
   ]
  },
  {
   "cell_type": "code",
   "execution_count": 10,
   "id": "a08b40c7",
   "metadata": {
    "execution": {
     "iopub.execute_input": "2025-02-19T14:20:48.332501Z",
     "iopub.status.busy": "2025-02-19T14:20:48.332195Z",
     "iopub.status.idle": "2025-02-19T14:20:48.335903Z",
     "shell.execute_reply": "2025-02-19T14:20:48.335137Z"
    },
    "papermill": {
     "duration": 0.01157,
     "end_time": "2025-02-19T14:20:48.337518",
     "exception": false,
     "start_time": "2025-02-19T14:20:48.325948",
     "status": "completed"
    },
    "tags": []
   },
   "outputs": [],
   "source": [
    "# Lines below will give you a hint or solution code\n",
    "#q_3.hint()\n",
    "#q_3.solution()"
   ]
  },
  {
   "cell_type": "markdown",
   "id": "4afbf4f1",
   "metadata": {
    "papermill": {
     "duration": 0.005014,
     "end_time": "2025-02-19T14:20:48.347986",
     "exception": false,
     "start_time": "2025-02-19T14:20:48.342972",
     "status": "completed"
    },
    "tags": []
   },
   "source": [
    "Run the next cell to see if batch normalization will let us train the model."
   ]
  },
  {
   "cell_type": "code",
   "execution_count": 11,
   "id": "c0d71950",
   "metadata": {
    "execution": {
     "iopub.execute_input": "2025-02-19T14:20:48.359817Z",
     "iopub.status.busy": "2025-02-19T14:20:48.359498Z",
     "iopub.status.idle": "2025-02-19T14:21:00.078838Z",
     "shell.execute_reply": "2025-02-19T14:21:00.077863Z"
    },
    "papermill": {
     "duration": 11.727647,
     "end_time": "2025-02-19T14:21:00.080775",
     "exception": false,
     "start_time": "2025-02-19T14:20:48.353128",
     "status": "completed"
    },
    "tags": []
   },
   "outputs": [
    {
     "name": "stdout",
     "output_type": "stream",
     "text": [
      "Minimum Validation Loss: 4.0284\n"
     ]
    },
    {
     "data": {
      "image/png": "[encoded data removed]",
      "text/plain": [
       "<Figure size 640x480 with 1 Axes>"
      ]
     },
     "metadata": {},
     "output_type": "display_data"
    }
   ],
   "source": [
    "model.compile(\n",
    "    optimizer='sgd',\n",
    "    loss='mae',\n",
    "    metrics=['mae'],\n",
    ")\n",
    "EPOCHS = 100\n",
    "history = model.fit(\n",
    "    X_train, y_train,\n",
    "    validation_data=(X_valid, y_valid),\n",
    "    batch_size=64,\n",
    "    epochs=EPOCHS,\n",
    "    verbose=0,\n",
    ")\n",
    "\n",
    "history_df = pd.DataFrame(history.history)\n",
    "history_df.loc[0:, ['loss', 'val_loss']].plot()\n",
    "print((\"Minimum Validation Loss: {:0.4f}\").format(history_df['val_loss'].min()))"
   ]
  },
  {
   "cell_type": "markdown",
   "id": "d60ebaad",
   "metadata": {
    "papermill": {
     "duration": 0.005554,
     "end_time": "2025-02-19T14:21:00.092623",
     "exception": false,
     "start_time": "2025-02-19T14:21:00.087069",
     "status": "completed"
    },
    "tags": []
   },
   "source": [
    "# 4) Evaluate Batch Normalization\n",
    "\n",
    "Did adding batch normalization help?"
   ]
  },
  {
   "cell_type": "code",
   "execution_count": 12,
   "id": "9ed43c88",
   "metadata": {
    "execution": {
     "iopub.execute_input": "2025-02-19T14:21:00.105822Z",
     "iopub.status.busy": "2025-02-19T14:21:00.105072Z",
     "iopub.status.idle": "2025-02-19T14:21:00.112378Z",
     "shell.execute_reply": "2025-02-19T14:21:00.111512Z"
    },
    "lines_to_next_cell": 0,
    "papermill": {
     "duration": 0.015773,
     "end_time": "2025-02-19T14:21:00.114066",
     "exception": false,
     "start_time": "2025-02-19T14:21:00.098293",
     "status": "completed"
    },
    "tags": []
   },
   "outputs": [
    {
     "data": {
      "application/javascript": [
       "parent.postMessage({\"jupyterEvent\": \"custom.exercise_interaction\", \"data\": {\"outcomeType\": 1, \"valueTowardsCompletion\": 0.25, \"interactionType\": 1, \"questionType\": 4, \"questionId\": \"4_Q4\", \"learnToolsVersion\": \"0.3.4\", \"failureMessage\": \"\", \"exceptionClass\": \"\", \"trace\": \"\"}}, \"*\")"
      ],
      "text/plain": [
       "<IPython.core.display.Javascript object>"
      ]
     },
     "metadata": {},
     "output_type": "display_data"
    },
    {
     "data": {
      "text/markdown": [
       "<span style=\"color:#33cc33\">Correct:</span> \n",
       "\n",
       "\n",
       "You can see that adding batch normalization was a big improvement on the first attempt! By adaptively scaling the data as it passes through the network, batch normalization can let you train models on difficult datasets.\n"
      ],
      "text/plain": [
       "Correct: \n",
       "\n",
       "\n",
       "You can see that adding batch normalization was a big improvement on the first attempt! By adaptively scaling the data as it passes through the network, batch normalization can let you train models on difficult datasets."
      ]
     },
     "metadata": {},
     "output_type": "display_data"
    }
   ],
   "source": [
    "# View the solution (Run this cell to receive credit!)\n",
    "q_4.check()"
   ]
  },
  {
   "cell_type": "markdown",
   "id": "f60b2619",
   "metadata": {
    "papermill": {
     "duration": 0.00574,
     "end_time": "2025-02-19T14:21:00.125731",
     "exception": false,
     "start_time": "2025-02-19T14:21:00.119991",
     "status": "completed"
    },
    "tags": []
   },
   "source": [
    "# Keep Going #\n",
    "\n",
    "[**Create neural networks**](https://www.kaggle.com/ryanholbrook/binary-classification) for binary classification."
   ]
  },
  {
   "cell_type": "markdown",
   "id": "a8f70f55",
   "metadata": {
    "papermill": {
     "duration": 0.005689,
     "end_time": "2025-02-19T14:21:00.137277",
     "exception": false,
     "start_time": "2025-02-19T14:21:00.131588",
     "status": "completed"
    },
    "tags": []
   },
   "source": [
    "---\n",
    "\n",
    "\n",
    "\n",
    "\n",
    "*Have questions or comments? Visit the [course discussion forum](https://www.kaggle.com/learn/intro-to-deep-learning/discussion) to chat with other learners.*"
   ]
  }
 ],
 "metadata": {
  "jupytext": {
   "cell_metadata_filter": "-all",
   "formats": "ipynb"
  },
  "kaggle": {
   "accelerator": "gpu",
   "dataSources": [
    {
     "datasetId": 829369,
     "sourceId": 1480608,
     "sourceType": "datasetVersion"
    }
   ],
   "dockerImageVersionId": 30648,
   "isGpuEnabled": true,
   "isInternetEnabled": false,
   "language": "python",
   "sourceType": "notebook"
  },
  "kernelspec": {
   "display_name": "Python 3",
   "language": "python",
   "name": "python3"
  },
  "language_info": {
   "codemirror_mode": {
    "name": "ipython",
    "version": 3
   },
   "file_extension": ".py",
   "mimetype": "text/x-python",
   "name": "python",
   "nbconvert_exporter": "python",
   "pygments_lexer": "ipython3",
   "version": "3.10.13"
  },
  "papermill": {
   "default_parameters": {},
   "duration": 53.225938,
   "end_time": "2025-02-19T14:21:02.756637",
   "environment_variables": {},
   "exception": null,
   "input_path": "__notebook__.ipynb",
   "output_path": "__notebook__.ipynb",
   "parameters": {},
   "start_time": "2025-02-19T14:20:09.530699",
   "version": "2.5.0"
  }
 },
 "nbformat": 4,
 "nbformat_minor": 5
}
