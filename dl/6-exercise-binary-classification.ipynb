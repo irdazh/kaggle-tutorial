{
 "cells": [
  {
   "cell_type": "markdown",
   "id": "e6ce1bf0",
   "metadata": {
    "papermill": {
     "duration": 0.003177,
     "end_time": "2025-02-19T14:40:59.190454",
     "exception": false,
     "start_time": "2025-02-19T14:40:59.187277",
     "status": "completed"
    },
    "tags": []
   },
   "source": [
    "**This notebook is an exercise in the [Intro to Deep Learning](https://www.kaggle.com/learn/intro-to-deep-learning) course.  You can reference the tutorial at [this link](https://www.kaggle.com/ryanholbrook/binary-classification).**\n",
    "\n",
    "---\n"
   ]
  },
  {
   "cell_type": "markdown",
   "id": "9ef2ebb8",
   "metadata": {
    "papermill": {
     "duration": 0.002495,
     "end_time": "2025-02-19T14:40:59.195845",
     "exception": false,
     "start_time": "2025-02-19T14:40:59.193350",
     "status": "completed"
    },
    "tags": []
   },
   "source": [
    "# Introduction #\n",
    "\n",
    "In this exercise, you'll build a model to predict hotel cancellations with a binary classifier."
   ]
  },
  {
   "cell_type": "code",
   "execution_count": 1,
   "id": "511324cd",
   "metadata": {
    "execution": {
     "iopub.execute_input": "2025-02-19T14:40:59.202807Z",
     "iopub.status.busy": "2025-02-19T14:40:59.202119Z",
     "iopub.status.idle": "2025-02-19T14:40:59.976237Z",
     "shell.execute_reply": "2025-02-19T14:40:59.975617Z"
    },
    "lines_to_next_cell": 0,
    "papermill": {
     "duration": 0.77978,
     "end_time": "2025-02-19T14:40:59.978154",
     "exception": false,
     "start_time": "2025-02-19T14:40:59.198374",
     "status": "completed"
    },
    "tags": []
   },
   "outputs": [
    {
     "name": "stderr",
     "output_type": "stream",
     "text": [
      "/tmp/ipykernel_26/3338970720.py:3: MatplotlibDeprecationWarning: The seaborn styles shipped by Matplotlib are deprecated since 3.6, as they no longer correspond to the styles shipped by seaborn. However, they will remain available as 'seaborn-v0_8-<style>'. Alternatively, directly use the seaborn API instead.\n",
      "  plt.style.use('seaborn-whitegrid')\n"
     ]
    }
   ],
   "source": [
    "# Setup plotting\n",
    "import matplotlib.pyplot as plt\n",
    "plt.style.use('seaborn-whitegrid')\n",
    "# Set Matplotlib defaults\n",
    "plt.rc('figure', autolayout=True)\n",
    "plt.rc('axes', labelweight='bold', labelsize='large',\n",
    "       titleweight='bold', titlesize=18, titlepad=10)\n",
    "plt.rc('animation', html='html5')\n",
    "\n",
    "# Setup feedback system\n",
    "from learntools.core import binder\n",
    "binder.bind(globals())\n",
    "from learntools.deep_learning_intro.ex6 import *"
   ]
  },
  {
   "cell_type": "markdown",
   "id": "4bc6da30",
   "metadata": {
    "papermill": {
     "duration": 0.002544,
     "end_time": "2025-02-19T14:40:59.983683",
     "exception": false,
     "start_time": "2025-02-19T14:40:59.981139",
     "status": "completed"
    },
    "tags": []
   },
   "source": [
    "First, load the *Hotel Cancellations* dataset."
   ]
  },
  {
   "cell_type": "code",
   "execution_count": 2,
   "id": "c9c64854",
   "metadata": {
    "execution": {
     "iopub.execute_input": "2025-02-19T14:40:59.990151Z",
     "iopub.status.busy": "2025-02-19T14:40:59.989826Z",
     "iopub.status.idle": "2025-02-19T14:41:02.190032Z",
     "shell.execute_reply": "2025-02-19T14:41:02.189315Z"
    },
    "lines_to_next_cell": 2,
    "papermill": {
     "duration": 2.205657,
     "end_time": "2025-02-19T14:41:02.191938",
     "exception": false,
     "start_time": "2025-02-19T14:40:59.986281",
     "status": "completed"
    },
    "tags": []
   },
   "outputs": [],
   "source": [
    "import pandas as pd\n",
    "\n",
    "from sklearn.model_selection import train_test_split\n",
    "from sklearn.preprocessing import StandardScaler, OneHotEncoder\n",
    "from sklearn.impute import SimpleImputer\n",
    "from sklearn.pipeline import make_pipeline\n",
    "from sklearn.compose import make_column_transformer\n",
    "\n",
    "hotel = pd.read_csv('../input/dl-course-data/hotel.csv')\n",
    "\n",
    "X = hotel.copy()\n",
    "y = X.pop('is_canceled')\n",
    "\n",
    "X['arrival_date_month'] = \\\n",
    "    X['arrival_date_month'].map(\n",
    "        {'January':1, 'February': 2, 'March':3,\n",
    "         'April':4, 'May':5, 'June':6, 'July':7,\n",
    "         'August':8, 'September':9, 'October':10,\n",
    "         'November':11, 'December':12}\n",
    "    )\n",
    "\n",
    "features_num = [\n",
    "    \"lead_time\", \"arrival_date_week_number\",\n",
    "    \"arrival_date_day_of_month\", \"stays_in_weekend_nights\",\n",
    "    \"stays_in_week_nights\", \"adults\", \"children\", \"babies\",\n",
    "    \"is_repeated_guest\", \"previous_cancellations\",\n",
    "    \"previous_bookings_not_canceled\", \"required_car_parking_spaces\",\n",
    "    \"total_of_special_requests\", \"adr\",\n",
    "]\n",
    "\n",
    "features_cat = [\n",
    "    \"hotel\", \"arrival_date_month\", \"meal\",\n",
    "    \"market_segment\", \"distribution_channel\",\n",
    "    \"reserved_room_type\", \"deposit_type\", \"customer_type\",\n",
    "]\n",
    "\n",
    "transformer_num = make_pipeline(\n",
    "    SimpleImputer(strategy=\"constant\"), # there are a few missing values\n",
    "    StandardScaler(),\n",
    ")\n",
    "transformer_cat = make_pipeline(\n",
    "    SimpleImputer(strategy=\"constant\", fill_value=\"NA\"),\n",
    "    OneHotEncoder(handle_unknown='ignore'),\n",
    ")\n",
    "\n",
    "preprocessor = make_column_transformer(\n",
    "    (transformer_num, features_num),\n",
    "    (transformer_cat, features_cat),\n",
    ")\n",
    "\n",
    "# stratify - make sure classes are evenlly represented across splits\n",
    "X_train, X_valid, y_train, y_valid = \\\n",
    "    train_test_split(X, y, stratify=y, train_size=0.75)\n",
    "\n",
    "X_train = preprocessor.fit_transform(X_train)\n",
    "X_valid = preprocessor.transform(X_valid)\n",
    "\n",
    "input_shape = [X_train.shape[1]]"
   ]
  },
  {
   "cell_type": "markdown",
   "id": "f812a63d",
   "metadata": {
    "papermill": {
     "duration": 0.00269,
     "end_time": "2025-02-19T14:41:02.197604",
     "exception": false,
     "start_time": "2025-02-19T14:41:02.194914",
     "status": "completed"
    },
    "tags": []
   },
   "source": [
    "# 1) Define Model #\n",
    "\n",
    "The model we'll use this time will have both batch normalization and dropout layers. To ease reading we've broken the diagram into blocks, but you can define it layer by layer as usual.\n",
    "\n",
    "Define a model with an architecture given by this diagram:\n",
    "\n",
    "<figure style=\"padding: 1em;\">\n",
    "<img src=\"https://storage.googleapis.com/kaggle-media/learn/images/V04o59Z.png\" width=\"400\" alt=\"Diagram of network architecture: BatchNorm, Dense, BatchNorm, Dropout, Dense, BatchNorm, Dropout, Dense.\">\n",
    "<figcaption style=\"textalign: center; font-style: italic\"><center>Diagram of a binary classifier.</center></figcaption>\n",
    "</figure>\n"
   ]
  },
  {
   "cell_type": "code",
   "execution_count": 3,
   "id": "dbe52c79",
   "metadata": {
    "execution": {
     "iopub.execute_input": "2025-02-19T14:41:02.204287Z",
     "iopub.status.busy": "2025-02-19T14:41:02.203731Z",
     "iopub.status.idle": "2025-02-19T14:41:14.597741Z",
     "shell.execute_reply": "2025-02-19T14:41:14.596644Z"
    },
    "lines_to_next_cell": 2,
    "papermill": {
     "duration": 12.407844,
     "end_time": "2025-02-19T14:41:14.608107",
     "exception": false,
     "start_time": "2025-02-19T14:41:02.200263",
     "status": "completed"
    },
    "tags": []
   },
   "outputs": [
    {
     "name": "stderr",
     "output_type": "stream",
     "text": [
      "2025-02-19 14:41:03.998630: E external/local_xla/xla/stream_executor/cuda/cuda_dnn.cc:9261] Unable to register cuDNN factory: Attempting to register factory for plugin cuDNN when one has already been registered\n",
      "2025-02-19 14:41:03.998762: E external/local_xla/xla/stream_executor/cuda/cuda_fft.cc:607] Unable to register cuFFT factory: Attempting to register factory for plugin cuFFT when one has already been registered\n",
      "2025-02-19 14:41:04.136004: E external/local_xla/xla/stream_executor/cuda/cuda_blas.cc:1515] Unable to register cuBLAS factory: Attempting to register factory for plugin cuBLAS when one has already been registered\n"
     ]
    },
    {
     "data": {
      "application/javascript": [
       "parent.postMessage({\"jupyterEvent\": \"custom.exercise_interaction\", \"data\": {\"outcomeType\": 1, \"valueTowardsCompletion\": 0.3333333333333333, \"interactionType\": 1, \"questionType\": 2, \"questionId\": \"1_Q1\", \"learnToolsVersion\": \"0.3.4\", \"failureMessage\": \"\", \"exceptionClass\": \"\", \"trace\": \"\"}}, \"*\")"
      ],
      "text/plain": [
       "<IPython.core.display.Javascript object>"
      ]
     },
     "metadata": {},
     "output_type": "display_data"
    },
    {
     "data": {
      "text/markdown": [
       "<span style=\"color:#33cc33\">Correct</span>"
      ],
      "text/plain": [
       "Correct"
      ]
     },
     "metadata": {},
     "output_type": "display_data"
    }
   ],
   "source": [
    "from tensorflow import keras\n",
    "from tensorflow.keras import layers\n",
    "\n",
    "# YOUR CODE HERE: define the model given in the diagram\n",
    "model = keras.Sequential([\n",
    "    layers.BatchNormalization(input_shape=input_shape),\n",
    "    \n",
    "    layers.Dense(256, activation='relu'),\n",
    "    layers.BatchNormalization(),\n",
    "    layers.Dropout(0.3),\n",
    "\n",
    "    layers.Dense(256, activation='relu'),\n",
    "    layers.BatchNormalization(),\n",
    "    layers.Dropout(0.3),\n",
    "\n",
    "    layers.Dense(1, activation='sigmoid')\n",
    "])\n",
    "\n",
    "# Check your answer\n",
    "q_1.check()"
   ]
  },
  {
   "cell_type": "markdown",
   "id": "ba731120",
   "metadata": {
    "papermill": {
     "duration": 0.003197,
     "end_time": "2025-02-19T14:41:14.616261",
     "exception": false,
     "start_time": "2025-02-19T14:41:14.613064",
     "status": "completed"
    },
    "tags": []
   },
   "source": [
    "# 2) Add Optimizer, Loss, and Metric #\n",
    "\n",
    "Now compile the model with the Adam optimizer and binary versions of the cross-entropy loss and accuracy metric."
   ]
  },
  {
   "cell_type": "code",
   "execution_count": 4,
   "id": "4ff3254f",
   "metadata": {
    "execution": {
     "iopub.execute_input": "2025-02-19T14:41:14.624949Z",
     "iopub.status.busy": "2025-02-19T14:41:14.624339Z",
     "iopub.status.idle": "2025-02-19T14:41:14.645249Z",
     "shell.execute_reply": "2025-02-19T14:41:14.644421Z"
    },
    "lines_to_next_cell": 0,
    "papermill": {
     "duration": 0.026571,
     "end_time": "2025-02-19T14:41:14.646794",
     "exception": false,
     "start_time": "2025-02-19T14:41:14.620223",
     "status": "completed"
    },
    "tags": []
   },
   "outputs": [
    {
     "data": {
      "application/javascript": [
       "parent.postMessage({\"jupyterEvent\": \"custom.exercise_interaction\", \"data\": {\"outcomeType\": 1, \"valueTowardsCompletion\": 0.3333333333333333, \"interactionType\": 1, \"questionType\": 2, \"questionId\": \"2_Q2\", \"learnToolsVersion\": \"0.3.4\", \"failureMessage\": \"\", \"exceptionClass\": \"\", \"trace\": \"\"}}, \"*\")"
      ],
      "text/plain": [
       "<IPython.core.display.Javascript object>"
      ]
     },
     "metadata": {},
     "output_type": "display_data"
    },
    {
     "data": {
      "text/markdown": [
       "<span style=\"color:#33cc33\">Correct</span>"
      ],
      "text/plain": [
       "Correct"
      ]
     },
     "metadata": {},
     "output_type": "display_data"
    }
   ],
   "source": [
    "# YOUR CODE HERE\n",
    "model.compile(\n",
    "    optimizer=\"adam\",\n",
    "    loss=\"binary_crossentropy\",\n",
    "    metrics=[\"binary_accuracy\"]\n",
    ")\n",
    "\n",
    "# Check your answer\n",
    "q_2.check()"
   ]
  },
  {
   "cell_type": "code",
   "execution_count": 5,
   "id": "86cd0443",
   "metadata": {
    "execution": {
     "iopub.execute_input": "2025-02-19T14:41:14.654307Z",
     "iopub.status.busy": "2025-02-19T14:41:14.653699Z",
     "iopub.status.idle": "2025-02-19T14:41:14.657013Z",
     "shell.execute_reply": "2025-02-19T14:41:14.656372Z"
    },
    "lines_to_next_cell": 0,
    "papermill": {
     "duration": 0.008722,
     "end_time": "2025-02-19T14:41:14.658649",
     "exception": false,
     "start_time": "2025-02-19T14:41:14.649927",
     "status": "completed"
    },
    "tags": []
   },
   "outputs": [],
   "source": [
    "# Lines below will give you a hint or solution code\n",
    "#q_2.hint()\n",
    "#q_2.solution()"
   ]
  },
  {
   "cell_type": "markdown",
   "id": "579ac693",
   "metadata": {
    "papermill": {
     "duration": 0.00289,
     "end_time": "2025-02-19T14:41:14.664652",
     "exception": false,
     "start_time": "2025-02-19T14:41:14.661762",
     "status": "completed"
    },
    "tags": []
   },
   "source": [
    "Finally, run this cell to train the model and view the learning curves. It may run for around 60 to 70 epochs, which could take a minute or two."
   ]
  },
  {
   "cell_type": "code",
   "execution_count": 6,
   "id": "eca52240",
   "metadata": {
    "execution": {
     "iopub.execute_input": "2025-02-19T14:41:14.671876Z",
     "iopub.status.busy": "2025-02-19T14:41:14.671436Z",
     "iopub.status.idle": "2025-02-19T14:41:53.246632Z",
     "shell.execute_reply": "2025-02-19T14:41:53.245717Z"
    },
    "papermill": {
     "duration": 38.580649,
     "end_time": "2025-02-19T14:41:53.248362",
     "exception": false,
     "start_time": "2025-02-19T14:41:14.667713",
     "status": "completed"
    },
    "tags": []
   },
   "outputs": [
    {
     "name": "stdout",
     "output_type": "stream",
     "text": [
      "Epoch 1/200\n"
     ]
    },
    {
     "name": "stderr",
     "output_type": "stream",
     "text": [
      "WARNING: All log messages before absl::InitializeLog() is called are written to STDERR\n",
      "I0000 00:00:1739976078.579348      68 device_compiler.h:186] Compiled cluster using XLA!  This line is logged at most once for the lifetime of the process.\n"
     ]
    },
    {
     "name": "stdout",
     "output_type": "stream",
     "text": [
      "175/175 [==============================] - 6s 6ms/step - loss: 0.4833 - binary_accuracy: 0.7705 - val_loss: 0.4300 - val_binary_accuracy: 0.8053\n",
      "Epoch 2/200\n",
      "175/175 [==============================] - 1s 5ms/step - loss: 0.4245 - binary_accuracy: 0.8001 - val_loss: 0.3993 - val_binary_accuracy: 0.8158\n",
      "Epoch 3/200\n",
      "175/175 [==============================] - 1s 5ms/step - loss: 0.4098 - binary_accuracy: 0.8080 - val_loss: 0.3901 - val_binary_accuracy: 0.8184\n",
      "Epoch 4/200\n",
      "175/175 [==============================] - 1s 5ms/step - loss: 0.4033 - binary_accuracy: 0.8118 - val_loss: 0.3863 - val_binary_accuracy: 0.8217\n",
      "Epoch 5/200\n",
      "175/175 [==============================] - 1s 5ms/step - loss: 0.3982 - binary_accuracy: 0.8139 - val_loss: 0.3837 - val_binary_accuracy: 0.8237\n",
      "Epoch 6/200\n",
      "175/175 [==============================] - 1s 5ms/step - loss: 0.3944 - binary_accuracy: 0.8157 - val_loss: 0.3804 - val_binary_accuracy: 0.8265\n",
      "Epoch 7/200\n",
      "175/175 [==============================] - 1s 5ms/step - loss: 0.3901 - binary_accuracy: 0.8182 - val_loss: 0.3785 - val_binary_accuracy: 0.8283\n",
      "Epoch 8/200\n",
      "175/175 [==============================] - 1s 5ms/step - loss: 0.3885 - binary_accuracy: 0.8194 - val_loss: 0.3772 - val_binary_accuracy: 0.8277\n",
      "Epoch 9/200\n",
      "175/175 [==============================] - 1s 5ms/step - loss: 0.3844 - binary_accuracy: 0.8208 - val_loss: 0.3730 - val_binary_accuracy: 0.8293\n",
      "Epoch 10/200\n",
      "175/175 [==============================] - 1s 5ms/step - loss: 0.3807 - binary_accuracy: 0.8235 - val_loss: 0.3710 - val_binary_accuracy: 0.8321\n",
      "Epoch 11/200\n",
      "175/175 [==============================] - 1s 5ms/step - loss: 0.3783 - binary_accuracy: 0.8239 - val_loss: 0.3699 - val_binary_accuracy: 0.8326\n",
      "Epoch 12/200\n",
      "175/175 [==============================] - 1s 6ms/step - loss: 0.3765 - binary_accuracy: 0.8255 - val_loss: 0.3652 - val_binary_accuracy: 0.8327\n",
      "Epoch 13/200\n",
      "175/175 [==============================] - 1s 5ms/step - loss: 0.3748 - binary_accuracy: 0.8253 - val_loss: 0.3674 - val_binary_accuracy: 0.8356\n",
      "Epoch 14/200\n",
      "175/175 [==============================] - 1s 5ms/step - loss: 0.3712 - binary_accuracy: 0.8283 - val_loss: 0.3646 - val_binary_accuracy: 0.8340\n",
      "Epoch 15/200\n",
      "175/175 [==============================] - 1s 5ms/step - loss: 0.3686 - binary_accuracy: 0.8293 - val_loss: 0.3618 - val_binary_accuracy: 0.8363\n",
      "Epoch 16/200\n",
      "175/175 [==============================] - 1s 5ms/step - loss: 0.3674 - binary_accuracy: 0.8300 - val_loss: 0.3600 - val_binary_accuracy: 0.8362\n",
      "Epoch 17/200\n",
      "175/175 [==============================] - 1s 5ms/step - loss: 0.3660 - binary_accuracy: 0.8311 - val_loss: 0.3579 - val_binary_accuracy: 0.8382\n",
      "Epoch 18/200\n",
      "175/175 [==============================] - 1s 5ms/step - loss: 0.3651 - binary_accuracy: 0.8309 - val_loss: 0.3572 - val_binary_accuracy: 0.8365\n",
      "Epoch 19/200\n",
      "175/175 [==============================] - 1s 5ms/step - loss: 0.3620 - binary_accuracy: 0.8308 - val_loss: 0.3581 - val_binary_accuracy: 0.8390\n",
      "Epoch 20/200\n",
      "175/175 [==============================] - 1s 5ms/step - loss: 0.3600 - binary_accuracy: 0.8338 - val_loss: 0.3564 - val_binary_accuracy: 0.8388\n",
      "Epoch 21/200\n",
      "175/175 [==============================] - 1s 5ms/step - loss: 0.3599 - binary_accuracy: 0.8337 - val_loss: 0.3553 - val_binary_accuracy: 0.8402\n",
      "Epoch 22/200\n",
      "175/175 [==============================] - 1s 5ms/step - loss: 0.3573 - binary_accuracy: 0.8358 - val_loss: 0.3579 - val_binary_accuracy: 0.8380\n",
      "Epoch 23/200\n",
      "175/175 [==============================] - 1s 5ms/step - loss: 0.3568 - binary_accuracy: 0.8345 - val_loss: 0.3534 - val_binary_accuracy: 0.8403\n",
      "Epoch 24/200\n",
      "175/175 [==============================] - 1s 5ms/step - loss: 0.3550 - binary_accuracy: 0.8352 - val_loss: 0.3544 - val_binary_accuracy: 0.8398\n",
      "Epoch 25/200\n",
      "175/175 [==============================] - 1s 5ms/step - loss: 0.3543 - binary_accuracy: 0.8366 - val_loss: 0.3540 - val_binary_accuracy: 0.8411\n",
      "Epoch 26/200\n",
      "175/175 [==============================] - 1s 5ms/step - loss: 0.3545 - binary_accuracy: 0.8363 - val_loss: 0.3528 - val_binary_accuracy: 0.8399\n",
      "Epoch 27/200\n",
      "175/175 [==============================] - 1s 5ms/step - loss: 0.3528 - binary_accuracy: 0.8367 - val_loss: 0.3513 - val_binary_accuracy: 0.8406\n",
      "Epoch 28/200\n",
      "175/175 [==============================] - 1s 5ms/step - loss: 0.3514 - binary_accuracy: 0.8380 - val_loss: 0.3519 - val_binary_accuracy: 0.8418\n",
      "Epoch 29/200\n",
      "175/175 [==============================] - 1s 5ms/step - loss: 0.3493 - binary_accuracy: 0.8386 - val_loss: 0.3494 - val_binary_accuracy: 0.8420\n",
      "Epoch 30/200\n",
      "175/175 [==============================] - 1s 5ms/step - loss: 0.3489 - binary_accuracy: 0.8386 - val_loss: 0.3489 - val_binary_accuracy: 0.8420\n",
      "Epoch 31/200\n",
      "175/175 [==============================] - 1s 5ms/step - loss: 0.3494 - binary_accuracy: 0.8385 - val_loss: 0.3493 - val_binary_accuracy: 0.8417\n",
      "Epoch 32/200\n",
      "175/175 [==============================] - 1s 5ms/step - loss: 0.3457 - binary_accuracy: 0.8398 - val_loss: 0.3483 - val_binary_accuracy: 0.8423\n",
      "Epoch 33/200\n",
      "175/175 [==============================] - 1s 5ms/step - loss: 0.3465 - binary_accuracy: 0.8402 - val_loss: 0.3506 - val_binary_accuracy: 0.8429\n",
      "Epoch 34/200\n",
      "175/175 [==============================] - 1s 5ms/step - loss: 0.3458 - binary_accuracy: 0.8397 - val_loss: 0.3481 - val_binary_accuracy: 0.8428\n",
      "Epoch 35/200\n",
      "175/175 [==============================] - 1s 5ms/step - loss: 0.3441 - binary_accuracy: 0.8420 - val_loss: 0.3495 - val_binary_accuracy: 0.8429\n",
      "Epoch 36/200\n",
      "175/175 [==============================] - 1s 5ms/step - loss: 0.3436 - binary_accuracy: 0.8414 - val_loss: 0.3496 - val_binary_accuracy: 0.8431\n",
      "Epoch 37/200\n",
      "175/175 [==============================] - 1s 5ms/step - loss: 0.3439 - binary_accuracy: 0.8396 - val_loss: 0.3497 - val_binary_accuracy: 0.8439\n"
     ]
    },
    {
     "data": {
      "text/plain": [
       "<Axes: title={'center': 'Accuracy'}>"
      ]
     },
     "execution_count": 6,
     "metadata": {},
     "output_type": "execute_result"
    },
    {
     "data": {
      "image/png": "[encoded data removed]",
      "text/plain": [
       "<Figure size 640x480 with 1 Axes>"
      ]
     },
     "metadata": {},
     "output_type": "display_data"
    },
    {
     "data": {
      "image/png": "[encoded data removed]",
      "text/plain": [
       "<Figure size 640x480 with 1 Axes>"
      ]
     },
     "metadata": {},
     "output_type": "display_data"
    }
   ],
   "source": [
    "early_stopping = keras.callbacks.EarlyStopping(\n",
    "    patience=5,\n",
    "    min_delta=0.001,\n",
    "    restore_best_weights=True,\n",
    ")\n",
    "history = model.fit(\n",
    "    X_train, y_train,\n",
    "    validation_data=(X_valid, y_valid),\n",
    "    batch_size=512,\n",
    "    epochs=200,\n",
    "    callbacks=[early_stopping],\n",
    ")\n",
    "\n",
    "history_df = pd.DataFrame(history.history)\n",
    "history_df.loc[:, ['loss', 'val_loss']].plot(title=\"Cross-entropy\")\n",
    "history_df.loc[:, ['binary_accuracy', 'val_binary_accuracy']].plot(title=\"Accuracy\")"
   ]
  },
  {
   "cell_type": "markdown",
   "id": "46359ffd",
   "metadata": {
    "papermill": {
     "duration": 0.030465,
     "end_time": "2025-02-19T14:41:53.310104",
     "exception": false,
     "start_time": "2025-02-19T14:41:53.279639",
     "status": "completed"
    },
    "tags": []
   },
   "source": [
    "# 3) Train and Evaluate #\n",
    "\n",
    "\n",
    "What do you think about the learning curves? Does it look like the model underfit or overfit? Was the cross-entropy loss a good stand-in for accuracy?"
   ]
  },
  {
   "cell_type": "code",
   "execution_count": 7,
   "id": "a2015e7d",
   "metadata": {
    "execution": {
     "iopub.execute_input": "2025-02-19T14:41:53.374080Z",
     "iopub.status.busy": "2025-02-19T14:41:53.373437Z",
     "iopub.status.idle": "2025-02-19T14:41:53.380149Z",
     "shell.execute_reply": "2025-02-19T14:41:53.379330Z"
    },
    "papermill": {
     "duration": 0.040203,
     "end_time": "2025-02-19T14:41:53.381689",
     "exception": false,
     "start_time": "2025-02-19T14:41:53.341486",
     "status": "completed"
    },
    "tags": []
   },
   "outputs": [
    {
     "data": {
      "application/javascript": [
       "parent.postMessage({\"jupyterEvent\": \"custom.exercise_interaction\", \"data\": {\"outcomeType\": 1, \"valueTowardsCompletion\": 0.3333333333333333, \"interactionType\": 1, \"questionType\": 4, \"questionId\": \"3_Q3\", \"learnToolsVersion\": \"0.3.4\", \"failureMessage\": \"\", \"exceptionClass\": \"\", \"trace\": \"\"}}, \"*\")"
      ],
      "text/plain": [
       "<IPython.core.display.Javascript object>"
      ]
     },
     "metadata": {},
     "output_type": "display_data"
    },
    {
     "data": {
      "text/markdown": [
       "<span style=\"color:#33cc33\">Correct:</span> \n",
       "\n",
       "Though we can see the training loss continuing to fall, the early stopping callback prevented any overfitting. Moreover, the accuracy rose at the same rate as the cross-entropy fell, so it appears that minimizing cross-entropy was a good stand-in. All in all, it looks like this training was a success!"
      ],
      "text/plain": [
       "Correct: \n",
       "\n",
       "Though we can see the training loss continuing to fall, the early stopping callback prevented any overfitting. Moreover, the accuracy rose at the same rate as the cross-entropy fell, so it appears that minimizing cross-entropy was a good stand-in. All in all, it looks like this training was a success!"
      ]
     },
     "metadata": {},
     "output_type": "display_data"
    }
   ],
   "source": [
    "# View the solution (Run this cell to receive credit!)\n",
    "q_3.check()"
   ]
  },
  {
   "cell_type": "markdown",
   "id": "815437b5",
   "metadata": {
    "papermill": {
     "duration": 0.031325,
     "end_time": "2025-02-19T14:41:53.443998",
     "exception": false,
     "start_time": "2025-02-19T14:41:53.412673",
     "status": "completed"
    },
    "tags": []
   },
   "source": [
    "# Conclusion #\n",
    "\n",
    "Congratulations! You've completed Kaggle's *Introduction to Deep Learning* course!\n",
    "\n",
    "With your new skills you're ready to take on more advanced applications like computer vision and sentiment classification. What would you like to do next?\n",
    "\n",
    "Why not try one of our *Getting Started* competitions?\n",
    "\n",
    "- Classify images with TPUs in [**Petals to the Metal**](https://www.kaggle.com/c/tpu-getting-started)\n",
    "- Create art with GANs in [**I'm Something of a Painter Myself**](https://www.kaggle.com/c/gan-getting-started)\n",
    "- Classify Tweets in [**Real or Not? NLP with Disaster Tweets**](https://www.kaggle.com/c/nlp-getting-started)\n",
    "- Detect contradiction and entailment in [**Contradictory, My Dear Watson**](https://www.kaggle.com/c/contradictory-my-dear-watson)\n",
    "\n",
    "Until next time, Kagglers!"
   ]
  },
  {
   "cell_type": "markdown",
   "id": "5f0d98cf",
   "metadata": {
    "papermill": {
     "duration": 0.032096,
     "end_time": "2025-02-19T14:41:53.507486",
     "exception": false,
     "start_time": "2025-02-19T14:41:53.475390",
     "status": "completed"
    },
    "tags": []
   },
   "source": [
    "---\n",
    "\n",
    "\n",
    "\n",
    "\n",
    "*Have questions or comments? Visit the [course discussion forum](https://www.kaggle.com/learn/intro-to-deep-learning/discussion) to chat with other learners.*"
   ]
  }
 ],
 "metadata": {
  "jupytext": {
   "cell_metadata_filter": "-all",
   "formats": "ipynb"
  },
  "kaggle": {
   "accelerator": "gpu",
   "dataSources": [
    {
     "datasetId": 829369,
     "sourceId": 1480608,
     "sourceType": "datasetVersion"
    }
   ],
   "dockerImageVersionId": 30648,
   "isGpuEnabled": true,
   "isInternetEnabled": false,
   "language": "python",
   "sourceType": "notebook"
  },
  "kernelspec": {
   "display_name": "Python 3",
   "language": "python",
   "name": "python3"
  },
  "language_info": {
   "codemirror_mode": {
    "name": "ipython",
    "version": 3
   },
   "file_extension": ".py",
   "mimetype": "text/x-python",
   "name": "python",
   "nbconvert_exporter": "python",
   "pygments_lexer": "ipython3",
   "version": "3.10.13"
  },
  "papermill": {
   "default_parameters": {},
   "duration": 58.923108,
   "end_time": "2025-02-19T14:41:55.563692",
   "environment_variables": {},
   "exception": null,
   "input_path": "__notebook__.ipynb",
   "output_path": "__notebook__.ipynb",
   "parameters": {},
   "start_time": "2025-02-19T14:40:56.640584",
   "version": "2.5.0"
  }
 },
 "nbformat": 4,
 "nbformat_minor": 5
}
