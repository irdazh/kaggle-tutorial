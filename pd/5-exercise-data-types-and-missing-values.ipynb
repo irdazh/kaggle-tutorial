{
 "cells": [
  {
   "cell_type": "markdown",
   "id": "805548cc",
   "metadata": {
    "papermill": {
     "duration": 0.003992,
     "end_time": "2025-04-24T07:15:22.953786",
     "exception": false,
     "start_time": "2025-04-24T07:15:22.949794",
     "status": "completed"
    },
    "tags": []
   },
   "source": [
    "**This notebook is an exercise in the [Pandas](https://www.kaggle.com/learn/pandas) course.  You can reference the tutorial at [this link](https://www.kaggle.com/residentmario/data-types-and-missing-values).**\n",
    "\n",
    "---\n"
   ]
  },
  {
   "cell_type": "markdown",
   "id": "877f9035",
   "metadata": {
    "papermill": {
     "duration": 0.003443,
     "end_time": "2025-04-24T07:15:22.960757",
     "exception": false,
     "start_time": "2025-04-24T07:15:22.957314",
     "status": "completed"
    },
    "tags": []
   },
   "source": [
    "# Introduction\n",
    "\n",
    "Run the following cell to load your data and some utility functions."
   ]
  },
  {
   "cell_type": "code",
   "execution_count": 1,
   "id": "a9ed4118",
   "metadata": {
    "execution": {
     "iopub.execute_input": "2025-04-24T07:15:22.969915Z",
     "iopub.status.busy": "2025-04-24T07:15:22.969089Z",
     "iopub.status.idle": "2025-04-24T07:15:28.474959Z",
     "shell.execute_reply": "2025-04-24T07:15:28.473403Z"
    },
    "papermill": {
     "duration": 5.512553,
     "end_time": "2025-04-24T07:15:28.476759",
     "exception": false,
     "start_time": "2025-04-24T07:15:22.964206",
     "status": "completed"
    },
    "tags": []
   },
   "outputs": [
    {
     "name": "stdout",
     "output_type": "stream",
     "text": [
      "Setup complete.\n"
     ]
    }
   ],
   "source": [
    "import pandas as pd\n",
    "\n",
    "reviews = pd.read_csv(\"../input/wine-reviews/winemag-data-130k-v2.csv\", index_col=0)\n",
    "\n",
    "from learntools.core import binder; binder.bind(globals())\n",
    "from learntools.pandas.data_types_and_missing_data import *\n",
    "print(\"Setup complete.\")"
   ]
  },
  {
   "cell_type": "markdown",
   "id": "c4b72afc",
   "metadata": {
    "papermill": {
     "duration": 0.003549,
     "end_time": "2025-04-24T07:15:28.484316",
     "exception": false,
     "start_time": "2025-04-24T07:15:28.480767",
     "status": "completed"
    },
    "tags": []
   },
   "source": [
    "# Exercises"
   ]
  },
  {
   "cell_type": "markdown",
   "id": "8a4ce11d",
   "metadata": {
    "papermill": {
     "duration": 0.003239,
     "end_time": "2025-04-24T07:15:28.491059",
     "exception": false,
     "start_time": "2025-04-24T07:15:28.487820",
     "status": "completed"
    },
    "tags": []
   },
   "source": [
    "## 1. \n",
    "What is the data type of the `points` column in the dataset?"
   ]
  },
  {
   "cell_type": "code",
   "execution_count": 2,
   "id": "2ea40efb",
   "metadata": {
    "execution": {
     "iopub.execute_input": "2025-04-24T07:15:28.499354Z",
     "iopub.status.busy": "2025-04-24T07:15:28.499024Z",
     "iopub.status.idle": "2025-04-24T07:15:28.509255Z",
     "shell.execute_reply": "2025-04-24T07:15:28.507977Z"
    },
    "papermill": {
     "duration": 0.016363,
     "end_time": "2025-04-24T07:15:28.510830",
     "exception": false,
     "start_time": "2025-04-24T07:15:28.494467",
     "status": "completed"
    },
    "tags": []
   },
   "outputs": [
    {
     "data": {
      "application/javascript": [
       "parent.postMessage({\"jupyterEvent\": \"custom.exercise_interaction\", \"data\": {\"outcomeType\": 1, \"valueTowardsCompletion\": 0.25, \"interactionType\": 1, \"questionType\": 1, \"questionId\": \"1_PointsDtype\", \"learnToolsVersion\": \"0.3.5\", \"failureMessage\": \"\", \"exceptionClass\": \"\", \"trace\": \"\"}}, \"*\")"
      ],
      "text/plain": [
       "<IPython.core.display.Javascript object>"
      ]
     },
     "metadata": {},
     "output_type": "display_data"
    },
    {
     "data": {
      "text/markdown": [
       "<span style=\"color:#33cc33\">Correct</span>"
      ],
      "text/plain": [
       "Correct"
      ]
     },
     "metadata": {},
     "output_type": "display_data"
    }
   ],
   "source": [
    "# Your code here\n",
    "dtype = reviews.points.dtype\n",
    "\n",
    "# Check your answer\n",
    "q1.check()"
   ]
  },
  {
   "cell_type": "code",
   "execution_count": 3,
   "id": "80287db7",
   "metadata": {
    "execution": {
     "iopub.execute_input": "2025-04-24T07:15:28.520053Z",
     "iopub.status.busy": "2025-04-24T07:15:28.519736Z",
     "iopub.status.idle": "2025-04-24T07:15:28.523560Z",
     "shell.execute_reply": "2025-04-24T07:15:28.522785Z"
    },
    "papermill": {
     "duration": 0.010125,
     "end_time": "2025-04-24T07:15:28.524853",
     "exception": false,
     "start_time": "2025-04-24T07:15:28.514728",
     "status": "completed"
    },
    "tags": []
   },
   "outputs": [],
   "source": [
    "#q1.hint()\n",
    "#q1.solution()"
   ]
  },
  {
   "cell_type": "markdown",
   "id": "27d3bc86",
   "metadata": {
    "papermill": {
     "duration": 0.00347,
     "end_time": "2025-04-24T07:15:28.532202",
     "exception": false,
     "start_time": "2025-04-24T07:15:28.528732",
     "status": "completed"
    },
    "tags": []
   },
   "source": [
    "## 2. \n",
    "Create a Series from entries in the `points` column, but convert the entries to strings. Hint: strings are `str` in native Python."
   ]
  },
  {
   "cell_type": "code",
   "execution_count": 4,
   "id": "7e78f0de",
   "metadata": {
    "execution": {
     "iopub.execute_input": "2025-04-24T07:15:28.540464Z",
     "iopub.status.busy": "2025-04-24T07:15:28.540178Z",
     "iopub.status.idle": "2025-04-24T07:15:28.586158Z",
     "shell.execute_reply": "2025-04-24T07:15:28.585128Z"
    },
    "papermill": {
     "duration": 0.051946,
     "end_time": "2025-04-24T07:15:28.587672",
     "exception": false,
     "start_time": "2025-04-24T07:15:28.535726",
     "status": "completed"
    },
    "tags": []
   },
   "outputs": [
    {
     "data": {
      "application/javascript": [
       "parent.postMessage({\"jupyterEvent\": \"custom.exercise_interaction\", \"data\": {\"outcomeType\": 1, \"valueTowardsCompletion\": 0.25, \"interactionType\": 1, \"questionType\": 1, \"questionId\": \"2_StrPoints\", \"learnToolsVersion\": \"0.3.5\", \"failureMessage\": \"\", \"exceptionClass\": \"\", \"trace\": \"\"}}, \"*\")"
      ],
      "text/plain": [
       "<IPython.core.display.Javascript object>"
      ]
     },
     "metadata": {},
     "output_type": "display_data"
    },
    {
     "data": {
      "text/markdown": [
       "<span style=\"color:#33cc33\">Correct</span>"
      ],
      "text/plain": [
       "Correct"
      ]
     },
     "metadata": {},
     "output_type": "display_data"
    }
   ],
   "source": [
    "point_strings = reviews.points.astype(\"str\")\n",
    "\n",
    "# Check your answer\n",
    "q2.check()"
   ]
  },
  {
   "cell_type": "code",
   "execution_count": 5,
   "id": "d402238a",
   "metadata": {
    "execution": {
     "iopub.execute_input": "2025-04-24T07:15:28.596783Z",
     "iopub.status.busy": "2025-04-24T07:15:28.596504Z",
     "iopub.status.idle": "2025-04-24T07:15:28.600757Z",
     "shell.execute_reply": "2025-04-24T07:15:28.599932Z"
    },
    "papermill": {
     "duration": 0.010665,
     "end_time": "2025-04-24T07:15:28.602450",
     "exception": false,
     "start_time": "2025-04-24T07:15:28.591785",
     "status": "completed"
    },
    "tags": []
   },
   "outputs": [],
   "source": [
    "#q2.hint()\n",
    "#q2.solution()"
   ]
  },
  {
   "cell_type": "markdown",
   "id": "df851ce2",
   "metadata": {
    "papermill": {
     "duration": 0.003622,
     "end_time": "2025-04-24T07:15:28.609964",
     "exception": false,
     "start_time": "2025-04-24T07:15:28.606342",
     "status": "completed"
    },
    "tags": []
   },
   "source": [
    "## 3.\n",
    "Sometimes the price column is null. How many reviews in the dataset are missing a price?"
   ]
  },
  {
   "cell_type": "code",
   "execution_count": 6,
   "id": "1145e57c",
   "metadata": {
    "execution": {
     "iopub.execute_input": "2025-04-24T07:15:28.619006Z",
     "iopub.status.busy": "2025-04-24T07:15:28.618622Z",
     "iopub.status.idle": "2025-04-24T07:15:28.629481Z",
     "shell.execute_reply": "2025-04-24T07:15:28.628324Z"
    },
    "papermill": {
     "duration": 0.017689,
     "end_time": "2025-04-24T07:15:28.631368",
     "exception": false,
     "start_time": "2025-04-24T07:15:28.613679",
     "status": "completed"
    },
    "tags": []
   },
   "outputs": [
    {
     "data": {
      "application/javascript": [
       "parent.postMessage({\"jupyterEvent\": \"custom.exercise_interaction\", \"data\": {\"outcomeType\": 1, \"valueTowardsCompletion\": 0.25, \"interactionType\": 1, \"questionType\": 1, \"questionId\": \"3_CountMissingPrices\", \"learnToolsVersion\": \"0.3.5\", \"failureMessage\": \"\", \"exceptionClass\": \"\", \"trace\": \"\"}}, \"*\")"
      ],
      "text/plain": [
       "<IPython.core.display.Javascript object>"
      ]
     },
     "metadata": {},
     "output_type": "display_data"
    },
    {
     "data": {
      "text/markdown": [
       "<span style=\"color:#33cc33\">Correct</span>"
      ],
      "text/plain": [
       "Correct"
      ]
     },
     "metadata": {},
     "output_type": "display_data"
    }
   ],
   "source": [
    "n_missing_prices = reviews.price.isnull().sum()\n",
    "\n",
    "# Check your answer\n",
    "q3.check()"
   ]
  },
  {
   "cell_type": "code",
   "execution_count": 7,
   "id": "87e765bd",
   "metadata": {
    "execution": {
     "iopub.execute_input": "2025-04-24T07:15:28.640941Z",
     "iopub.status.busy": "2025-04-24T07:15:28.640588Z",
     "iopub.status.idle": "2025-04-24T07:15:28.648237Z",
     "shell.execute_reply": "2025-04-24T07:15:28.647412Z"
    },
    "papermill": {
     "duration": 0.014466,
     "end_time": "2025-04-24T07:15:28.650054",
     "exception": false,
     "start_time": "2025-04-24T07:15:28.635588",
     "status": "completed"
    },
    "tags": []
   },
   "outputs": [
    {
     "data": {
      "application/javascript": [
       "parent.postMessage({\"jupyterEvent\": \"custom.exercise_interaction\", \"data\": {\"interactionType\": 3, \"questionType\": 1, \"questionId\": \"3_CountMissingPrices\", \"learnToolsVersion\": \"0.3.5\", \"valueTowardsCompletion\": 0.0, \"failureMessage\": \"\", \"exceptionClass\": \"\", \"trace\": \"\", \"outcomeType\": 4}}, \"*\")"
      ],
      "text/plain": [
       "<IPython.core.display.Javascript object>"
      ]
     },
     "metadata": {},
     "output_type": "display_data"
    },
    {
     "data": {
      "text/markdown": [
       "<span style=\"color:#33cc99\">Solution:</span> \n",
       "```python\n",
       "missing_price_reviews = reviews[reviews.price.isnull()]\n",
       "n_missing_prices = len(missing_price_reviews)\n",
       "# Cute alternative solution: if we sum a boolean series, True is treated as 1 and False as 0\n",
       "n_missing_prices = reviews.price.isnull().sum()\n",
       "# or equivalently:\n",
       "n_missing_prices = pd.isnull(reviews.price).sum()\n",
       "\n",
       "```"
      ],
      "text/plain": [
       "Solution: \n",
       "```python\n",
       "missing_price_reviews = reviews[reviews.price.isnull()]\n",
       "n_missing_prices = len(missing_price_reviews)\n",
       "# Cute alternative solution: if we sum a boolean series, True is treated as 1 and False as 0\n",
       "n_missing_prices = reviews.price.isnull().sum()\n",
       "# or equivalently:\n",
       "n_missing_prices = pd.isnull(reviews.price).sum()\n",
       "\n",
       "```"
      ]
     },
     "metadata": {},
     "output_type": "display_data"
    }
   ],
   "source": [
    "#q3.hint()\n",
    "q3.solution()"
   ]
  },
  {
   "cell_type": "markdown",
   "id": "bd681422",
   "metadata": {
    "papermill": {
     "duration": 0.004066,
     "end_time": "2025-04-24T07:15:28.658620",
     "exception": false,
     "start_time": "2025-04-24T07:15:28.654554",
     "status": "completed"
    },
    "tags": []
   },
   "source": [
    "## 4.\n",
    "What are the most common wine-producing regions? Create a Series counting the number of times each value occurs in the `region_1` field. This field is often missing data, so replace missing values with `Unknown`. Sort in descending order.  Your output should look something like this:\n",
    "\n",
    "```\n",
    "Unknown                    21247\n",
    "Napa Valley                 4480\n",
    "                           ...  \n",
    "Bardolino Superiore            1\n",
    "Primitivo del Tarantino        1\n",
    "Name: region_1, Length: 1230, dtype: int64\n",
    "```"
   ]
  },
  {
   "cell_type": "code",
   "execution_count": 8,
   "id": "d35da610",
   "metadata": {
    "execution": {
     "iopub.execute_input": "2025-04-24T07:15:28.669246Z",
     "iopub.status.busy": "2025-04-24T07:15:28.668878Z",
     "iopub.status.idle": "2025-04-24T07:15:28.721504Z",
     "shell.execute_reply": "2025-04-24T07:15:28.720484Z"
    },
    "papermill": {
     "duration": 0.060059,
     "end_time": "2025-04-24T07:15:28.723202",
     "exception": false,
     "start_time": "2025-04-24T07:15:28.663143",
     "status": "completed"
    },
    "tags": []
   },
   "outputs": [
    {
     "data": {
      "application/javascript": [
       "parent.postMessage({\"jupyterEvent\": \"custom.exercise_interaction\", \"data\": {\"outcomeType\": 1, \"valueTowardsCompletion\": 0.25, \"interactionType\": 1, \"questionType\": 2, \"questionId\": \"4_ReviewsPerRegion\", \"learnToolsVersion\": \"0.3.5\", \"failureMessage\": \"\", \"exceptionClass\": \"\", \"trace\": \"\"}}, \"*\")"
      ],
      "text/plain": [
       "<IPython.core.display.Javascript object>"
      ]
     },
     "metadata": {},
     "output_type": "display_data"
    },
    {
     "data": {
      "text/markdown": [
       "<span style=\"color:#33cc33\">Correct</span>"
      ],
      "text/plain": [
       "Correct"
      ]
     },
     "metadata": {},
     "output_type": "display_data"
    }
   ],
   "source": [
    "reviews_per_region = reviews.region_1.fillna(\"Unknown\").value_counts(ascending=False)\n",
    "\n",
    "\n",
    "\n",
    "# Check your answer\n",
    "q4.check()"
   ]
  },
  {
   "cell_type": "code",
   "execution_count": 9,
   "id": "748748e7",
   "metadata": {
    "execution": {
     "iopub.execute_input": "2025-04-24T07:15:28.733493Z",
     "iopub.status.busy": "2025-04-24T07:15:28.733166Z",
     "iopub.status.idle": "2025-04-24T07:15:28.740553Z",
     "shell.execute_reply": "2025-04-24T07:15:28.739613Z"
    },
    "papermill": {
     "duration": 0.014563,
     "end_time": "2025-04-24T07:15:28.742256",
     "exception": false,
     "start_time": "2025-04-24T07:15:28.727693",
     "status": "completed"
    },
    "tags": []
   },
   "outputs": [
    {
     "data": {
      "application/javascript": [
       "parent.postMessage({\"jupyterEvent\": \"custom.exercise_interaction\", \"data\": {\"interactionType\": 3, \"questionType\": 2, \"questionId\": \"4_ReviewsPerRegion\", \"learnToolsVersion\": \"0.3.5\", \"valueTowardsCompletion\": 0.0, \"failureMessage\": \"\", \"exceptionClass\": \"\", \"trace\": \"\", \"outcomeType\": 4}}, \"*\")"
      ],
      "text/plain": [
       "<IPython.core.display.Javascript object>"
      ]
     },
     "metadata": {},
     "output_type": "display_data"
    },
    {
     "data": {
      "text/markdown": [
       "<span style=\"color:#33cc99\">Solution:</span> \n",
       "```python\n",
       "reviews_per_region = reviews.region_1.fillna('Unknown').value_counts().sort_values(ascending=False)\n",
       "```"
      ],
      "text/plain": [
       "Solution: \n",
       "```python\n",
       "reviews_per_region = reviews.region_1.fillna('Unknown').value_counts().sort_values(ascending=False)\n",
       "```"
      ]
     },
     "metadata": {},
     "output_type": "display_data"
    }
   ],
   "source": [
    "#q4.hint()\n",
    "q4.solution()"
   ]
  },
  {
   "cell_type": "markdown",
   "id": "e1a9f228",
   "metadata": {
    "papermill": {
     "duration": 0.004651,
     "end_time": "2025-04-24T07:15:28.751788",
     "exception": false,
     "start_time": "2025-04-24T07:15:28.747137",
     "status": "completed"
    },
    "tags": []
   },
   "source": [
    "# Keep going\n",
    "\n",
    "Move on to **[renaming and combining](https://www.kaggle.com/residentmario/renaming-and-combining)**."
   ]
  },
  {
   "cell_type": "markdown",
   "id": "36618b3e",
   "metadata": {
    "papermill": {
     "duration": 0.004837,
     "end_time": "2025-04-24T07:15:28.761243",
     "exception": false,
     "start_time": "2025-04-24T07:15:28.756406",
     "status": "completed"
    },
    "tags": []
   },
   "source": [
    "---\n",
    "\n",
    "\n",
    "\n",
    "\n",
    "*Have questions or comments? Visit the [course discussion forum](https://www.kaggle.com/learn/pandas/discussion) to chat with other learners.*"
   ]
  }
 ],
 "metadata": {
  "kaggle": {
   "accelerator": "none",
   "dataSources": [
    {
     "databundleVersionId": 1182398,
     "datasetId": 2478,
     "sourceId": 1151655,
     "sourceType": "datasetVersion"
    },
    {
     "databundleVersionId": 1252,
     "datasetId": 655,
     "sourceId": 1252,
     "sourceType": "datasetVersion"
    },
    {
     "databundleVersionId": 3919,
     "datasetId": 2321,
     "sourceId": 3919,
     "sourceType": "datasetVersion"
    },
    {
     "databundleVersionId": 4877,
     "datasetId": 2894,
     "sourceId": 4877,
     "sourceType": "datasetVersion"
    },
    {
     "databundleVersionId": 419024,
     "datasetId": 179555,
     "sourceId": 403916,
     "sourceType": "datasetVersion"
    },
    {
     "databundleVersionId": 13206,
     "datasetId": 9366,
     "sourceId": 13206,
     "sourceType": "datasetVersion"
    },
    {
     "databundleVersionId": 5624,
     "datasetId": 3491,
     "sourceId": 5624,
     "sourceType": "datasetVersion"
    },
    {
     "databundleVersionId": 482208,
     "datasetId": 4549,
     "sourceId": 466349,
     "sourceType": "datasetVersion"
    },
    {
     "databundleVersionId": 5512409,
     "datasetId": 10128,
     "sourceId": 5438389,
     "sourceType": "datasetVersion"
    },
    {
     "databundleVersionId": 8172,
     "datasetId": 1442,
     "sourceId": 8172,
     "sourceType": "datasetVersion"
    }
   ],
   "isGpuEnabled": false,
   "isInternetEnabled": false,
   "language": "python",
   "sourceType": "notebook"
  },
  "kernelspec": {
   "display_name": "Python 3",
   "language": "python",
   "name": "python3"
  },
  "language_info": {
   "codemirror_mode": {
    "name": "ipython",
    "version": 3
   },
   "file_extension": ".py",
   "mimetype": "text/x-python",
   "name": "python",
   "nbconvert_exporter": "python",
   "pygments_lexer": "ipython3",
   "version": "3.11.11"
  },
  "papermill": {
   "default_parameters": {},
   "duration": 11.6306,
   "end_time": "2025-04-24T07:15:29.387808",
   "environment_variables": {},
   "exception": null,
   "input_path": "__notebook__.ipynb",
   "output_path": "__notebook__.ipynb",
   "parameters": {},
   "start_time": "2025-04-24T07:15:17.757208",
   "version": "2.6.0"
  }
 },
 "nbformat": 4,
 "nbformat_minor": 5
}
