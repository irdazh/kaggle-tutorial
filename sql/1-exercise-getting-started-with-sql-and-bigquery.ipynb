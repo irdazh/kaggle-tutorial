{
 "cells": [
  {
   "cell_type": "markdown",
   "id": "c7791416",
   "metadata": {
    "papermill": {
     "duration": 0.005439,
     "end_time": "2025-02-12T13:59:11.242574",
     "exception": false,
     "start_time": "2025-02-12T13:59:11.237135",
     "status": "completed"
    },
    "tags": []
   },
   "source": [
    "**This notebook is an exercise in the [SQL](https://www.kaggle.com/learn/intro-to-sql) course.  You can reference the tutorial at [this link](https://www.kaggle.com/dansbecker/getting-started-with-sql-and-bigquery).**\n",
    "\n",
    "---\n"
   ]
  },
  {
   "cell_type": "markdown",
   "id": "1ebbb9a1",
   "metadata": {
    "papermill": {
     "duration": 0.00486,
     "end_time": "2025-02-12T13:59:11.252143",
     "exception": false,
     "start_time": "2025-02-12T13:59:11.247283",
     "status": "completed"
    },
    "tags": []
   },
   "source": [
    "# Introduction\n",
    "\n",
    "The first test of your new data exploration skills uses data describing crime in the city of Chicago.\n",
    "\n",
    "Before you get started, run the following cell. It sets up the automated feedback system to review your answers."
   ]
  },
  {
   "cell_type": "code",
   "execution_count": 1,
   "id": "11c9acdd",
   "metadata": {
    "execution": {
     "iopub.execute_input": "2025-02-12T13:59:11.262653Z",
     "iopub.status.busy": "2025-02-12T13:59:11.262241Z",
     "iopub.status.idle": "2025-02-12T13:59:26.726024Z",
     "shell.execute_reply": "2025-02-12T13:59:26.724693Z"
    },
    "papermill": {
     "duration": 15.471009,
     "end_time": "2025-02-12T13:59:26.727802",
     "exception": false,
     "start_time": "2025-02-12T13:59:11.256793",
     "status": "completed"
    },
    "tags": []
   },
   "outputs": [
    {
     "name": "stderr",
     "output_type": "stream",
     "text": [
      "/usr/local/lib/python3.10/dist-packages/learntools/sql/ex1.py:64: SyntaxWarning: assertion is always true, perhaps remove parentheses?\n",
      "  assert (type(fields_for_plotting[0] == str), \"The first item in `fields_for_plotting` should be a string.\")\n",
      "/usr/local/lib/python3.10/dist-packages/learntools/sql/ex1.py:65: SyntaxWarning: assertion is always true, perhaps remove parentheses?\n",
      "  assert (type(fields_for_plotting[1] == str), \"The second item in `fields_for_plotting` should be a string.\")\n"
     ]
    },
    {
     "name": "stdout",
     "output_type": "stream",
     "text": [
      "Using Kaggle's public dataset BigQuery integration.\n",
      "Setup Complete\n"
     ]
    }
   ],
   "source": [
    "# Set up feedack system\n",
    "from learntools.core import binder\n",
    "binder.bind(globals())\n",
    "from learntools.sql.ex1 import *\n",
    "print(\"Setup Complete\")"
   ]
  },
  {
   "cell_type": "markdown",
   "id": "04d191dd",
   "metadata": {
    "papermill": {
     "duration": 0.004505,
     "end_time": "2025-02-12T13:59:26.737357",
     "exception": false,
     "start_time": "2025-02-12T13:59:26.732852",
     "status": "completed"
    },
    "tags": []
   },
   "source": [
    "Use the next code cell to fetch the dataset."
   ]
  },
  {
   "cell_type": "code",
   "execution_count": 2,
   "id": "3f96157c",
   "metadata": {
    "execution": {
     "iopub.execute_input": "2025-02-12T13:59:26.748283Z",
     "iopub.status.busy": "2025-02-12T13:59:26.747609Z",
     "iopub.status.idle": "2025-02-12T13:59:27.843341Z",
     "shell.execute_reply": "2025-02-12T13:59:27.842458Z"
    },
    "papermill": {
     "duration": 1.103437,
     "end_time": "2025-02-12T13:59:27.845412",
     "exception": false,
     "start_time": "2025-02-12T13:59:26.741975",
     "status": "completed"
    },
    "tags": []
   },
   "outputs": [
    {
     "name": "stdout",
     "output_type": "stream",
     "text": [
      "Using Kaggle's public dataset BigQuery integration.\n"
     ]
    }
   ],
   "source": [
    "from google.cloud import bigquery\n",
    "\n",
    "# Create a \"Client\" object\n",
    "client = bigquery.Client()\n",
    "\n",
    "# Construct a reference to the \"chicago_crime\" dataset <construct>\n",
    "# the data is inside the bigquery public data project\n",
    "dataset_ref = client.dataset(\"chicago_crime\", project=\"bigquery-public-data\")\n",
    "\n",
    "# API request - fetch the dataset\n",
    "dataset = client.get_dataset(dataset_ref)"
   ]
  },
  {
   "cell_type": "code",
   "execution_count": 3,
   "id": "d9903734",
   "metadata": {
    "execution": {
     "iopub.execute_input": "2025-02-12T13:59:27.856943Z",
     "iopub.status.busy": "2025-02-12T13:59:27.856557Z",
     "iopub.status.idle": "2025-02-12T13:59:27.860481Z",
     "shell.execute_reply": "2025-02-12T13:59:27.859652Z"
    },
    "papermill": {
     "duration": 0.011476,
     "end_time": "2025-02-12T13:59:27.862155",
     "exception": false,
     "start_time": "2025-02-12T13:59:27.850679",
     "status": "completed"
    },
    "tags": []
   },
   "outputs": [],
   "source": [
    "# dir(dataset)"
   ]
  },
  {
   "cell_type": "markdown",
   "id": "d37e830b",
   "metadata": {
    "papermill": {
     "duration": 0.004592,
     "end_time": "2025-02-12T13:59:27.871886",
     "exception": false,
     "start_time": "2025-02-12T13:59:27.867294",
     "status": "completed"
    },
    "tags": []
   },
   "source": [
    "# Exercises\n",
    "\n",
    "### 1) Count tables in the dataset\n",
    "\n",
    "How many tables are in the Chicago Crime dataset?\n",
    "\n",
    "Dataset is just a collection of tables"
   ]
  },
  {
   "cell_type": "code",
   "execution_count": 4,
   "id": "14afe42d",
   "metadata": {
    "execution": {
     "iopub.execute_input": "2025-02-12T13:59:27.882695Z",
     "iopub.status.busy": "2025-02-12T13:59:27.882332Z",
     "iopub.status.idle": "2025-02-12T13:59:28.896787Z",
     "shell.execute_reply": "2025-02-12T13:59:28.895753Z"
    },
    "papermill": {
     "duration": 1.021811,
     "end_time": "2025-02-12T13:59:28.898490",
     "exception": false,
     "start_time": "2025-02-12T13:59:27.876679",
     "status": "completed"
    },
    "tags": []
   },
   "outputs": [
    {
     "name": "stdout",
     "output_type": "stream",
     "text": [
      "<google.api_core.page_iterator.HTTPIterator object at 0x7afe28c3acb0>\n",
      "crime\n"
     ]
    },
    {
     "data": {
      "text/plain": [
       "1"
      ]
     },
     "execution_count": 4,
     "metadata": {},
     "output_type": "execute_result"
    }
   ],
   "source": [
    "# Write the code you need here to figure out the answer\n",
    "\n",
    "print(client.list_tables(dataset))\n",
    "tabel = list(client.list_tables(dataset))\n",
    "\n",
    "for tab in tabel:\n",
    "    # table's name\n",
    "    print(tab.table_id)\n",
    "\n",
    "len(tabel)"
   ]
  },
  {
   "cell_type": "code",
   "execution_count": 5,
   "id": "5ed8d65d",
   "metadata": {
    "execution": {
     "iopub.execute_input": "2025-02-12T13:59:28.910515Z",
     "iopub.status.busy": "2025-02-12T13:59:28.910088Z",
     "iopub.status.idle": "2025-02-12T13:59:28.917479Z",
     "shell.execute_reply": "2025-02-12T13:59:28.916663Z"
    },
    "papermill": {
     "duration": 0.014884,
     "end_time": "2025-02-12T13:59:28.918989",
     "exception": false,
     "start_time": "2025-02-12T13:59:28.904105",
     "status": "completed"
    },
    "tags": []
   },
   "outputs": [
    {
     "data": {
      "application/javascript": [
       "parent.postMessage({\"jupyterEvent\": \"custom.exercise_interaction\", \"data\": {\"outcomeType\": 1, \"valueTowardsCompletion\": 0.3333333333333333, \"interactionType\": 1, \"questionType\": 1, \"questionId\": \"1_CountTables\", \"learnToolsVersion\": \"0.3.4\", \"failureMessage\": \"\", \"exceptionClass\": \"\", \"trace\": \"\"}}, \"*\")"
      ],
      "text/plain": [
       "<IPython.core.display.Javascript object>"
      ]
     },
     "metadata": {},
     "output_type": "display_data"
    },
    {
     "data": {
      "text/markdown": [
       "<span style=\"color:#33cc33\">Correct</span>"
      ],
      "text/plain": [
       "Correct"
      ]
     },
     "metadata": {},
     "output_type": "display_data"
    }
   ],
   "source": [
    "num_tables = 1 # Store the answer as num_tables and then run this cell\n",
    "\n",
    "# Check your answer\n",
    "q_1.check()"
   ]
  },
  {
   "cell_type": "markdown",
   "id": "3b196ea1",
   "metadata": {
    "papermill": {
     "duration": 0.005212,
     "end_time": "2025-02-12T13:59:28.929744",
     "exception": false,
     "start_time": "2025-02-12T13:59:28.924532",
     "status": "completed"
    },
    "tags": []
   },
   "source": [
    "For a hint or the solution, uncomment the appropriate line below."
   ]
  },
  {
   "cell_type": "code",
   "execution_count": 6,
   "id": "38f82b7c",
   "metadata": {
    "execution": {
     "iopub.execute_input": "2025-02-12T13:59:28.941308Z",
     "iopub.status.busy": "2025-02-12T13:59:28.940998Z",
     "iopub.status.idle": "2025-02-12T13:59:28.944452Z",
     "shell.execute_reply": "2025-02-12T13:59:28.943626Z"
    },
    "papermill": {
     "duration": 0.011168,
     "end_time": "2025-02-12T13:59:28.946087",
     "exception": false,
     "start_time": "2025-02-12T13:59:28.934919",
     "status": "completed"
    },
    "tags": []
   },
   "outputs": [],
   "source": [
    "# q_1.hint()\n",
    "# q_1.solution()"
   ]
  },
  {
   "cell_type": "markdown",
   "id": "c27a5942",
   "metadata": {
    "papermill": {
     "duration": 0.005032,
     "end_time": "2025-02-12T13:59:28.956728",
     "exception": false,
     "start_time": "2025-02-12T13:59:28.951696",
     "status": "completed"
    },
    "tags": []
   },
   "source": [
    "### 2) Explore the table schema\n",
    "\n",
    "How many columns in the `crime` table have `TIMESTAMP` data?\n",
    "\n",
    "Ok, just as the above method --- get the reference to the object, and get the object. \n",
    "\n",
    "Client &rarr; project &rarr; datasets &rarr; tables"
   ]
  },
  {
   "cell_type": "code",
   "execution_count": 7,
   "id": "8bfe6964",
   "metadata": {
    "execution": {
     "iopub.execute_input": "2025-02-12T13:59:28.968397Z",
     "iopub.status.busy": "2025-02-12T13:59:28.967931Z",
     "iopub.status.idle": "2025-02-12T13:59:29.404432Z",
     "shell.execute_reply": "2025-02-12T13:59:29.403335Z"
    },
    "papermill": {
     "duration": 0.444125,
     "end_time": "2025-02-12T13:59:29.406003",
     "exception": false,
     "start_time": "2025-02-12T13:59:28.961878",
     "status": "completed"
    },
    "tags": []
   },
   "outputs": [
    {
     "name": "stdout",
     "output_type": "stream",
     "text": [
      "crime\n",
      "['crime']\n"
     ]
    },
    {
     "data": {
      "text/plain": [
       "[SchemaField('unique_key', 'INTEGER', 'REQUIRED', None, None, (), None),\n",
       " SchemaField('case_number', 'STRING', 'NULLABLE', None, None, (), None),\n",
       " SchemaField('date', 'TIMESTAMP', 'NULLABLE', None, None, (), None),\n",
       " SchemaField('block', 'STRING', 'NULLABLE', None, None, (), None),\n",
       " SchemaField('iucr', 'STRING', 'NULLABLE', None, None, (), None),\n",
       " SchemaField('primary_type', 'STRING', 'NULLABLE', None, None, (), None),\n",
       " SchemaField('description', 'STRING', 'NULLABLE', None, None, (), None),\n",
       " SchemaField('location_description', 'STRING', 'NULLABLE', None, None, (), None),\n",
       " SchemaField('arrest', 'BOOLEAN', 'NULLABLE', None, None, (), None),\n",
       " SchemaField('domestic', 'BOOLEAN', 'NULLABLE', None, None, (), None),\n",
       " SchemaField('beat', 'INTEGER', 'NULLABLE', None, None, (), None),\n",
       " SchemaField('district', 'INTEGER', 'NULLABLE', None, None, (), None),\n",
       " SchemaField('ward', 'INTEGER', 'NULLABLE', None, None, (), None),\n",
       " SchemaField('community_area', 'INTEGER', 'NULLABLE', None, None, (), None),\n",
       " SchemaField('fbi_code', 'STRING', 'NULLABLE', None, None, (), None),\n",
       " SchemaField('x_coordinate', 'FLOAT', 'NULLABLE', None, None, (), None),\n",
       " SchemaField('y_coordinate', 'FLOAT', 'NULLABLE', None, None, (), None),\n",
       " SchemaField('year', 'INTEGER', 'NULLABLE', None, None, (), None),\n",
       " SchemaField('updated_on', 'TIMESTAMP', 'NULLABLE', None, None, (), None),\n",
       " SchemaField('latitude', 'FLOAT', 'NULLABLE', None, None, (), None),\n",
       " SchemaField('longitude', 'FLOAT', 'NULLABLE', None, None, (), None),\n",
       " SchemaField('location', 'STRING', 'NULLABLE', None, None, (), None)]"
      ]
     },
     "execution_count": 7,
     "metadata": {},
     "output_type": "execute_result"
    }
   ],
   "source": [
    "# Write the code to figure out the answer\n",
    "for tab in tabel:  \n",
    "    print(tab.table_id)\n",
    "\n",
    "# simpler\n",
    "print([tab.table_id for tab in tabel])\n",
    "\n",
    "# what is this, oh reference to <the table>\n",
    "tcrime_ref = dataset_ref.table(\"crime\")\n",
    "\n",
    "# API - fetch the table\n",
    "tcrime = client.get_table(tcrime_ref)\n",
    "\n",
    "tcrime.schema"
   ]
  },
  {
   "cell_type": "code",
   "execution_count": 8,
   "id": "25862c21",
   "metadata": {
    "execution": {
     "iopub.execute_input": "2025-02-12T13:59:29.418291Z",
     "iopub.status.busy": "2025-02-12T13:59:29.417988Z",
     "iopub.status.idle": "2025-02-12T13:59:29.425096Z",
     "shell.execute_reply": "2025-02-12T13:59:29.424199Z"
    },
    "papermill": {
     "duration": 0.015011,
     "end_time": "2025-02-12T13:59:29.426786",
     "exception": false,
     "start_time": "2025-02-12T13:59:29.411775",
     "status": "completed"
    },
    "tags": []
   },
   "outputs": [
    {
     "data": {
      "application/javascript": [
       "parent.postMessage({\"jupyterEvent\": \"custom.exercise_interaction\", \"data\": {\"outcomeType\": 1, \"valueTowardsCompletion\": 0.3333333333333333, \"interactionType\": 1, \"questionType\": 1, \"questionId\": \"2_CountTimestampFields\", \"learnToolsVersion\": \"0.3.4\", \"failureMessage\": \"\", \"exceptionClass\": \"\", \"trace\": \"\"}}, \"*\")"
      ],
      "text/plain": [
       "<IPython.core.display.Javascript object>"
      ]
     },
     "metadata": {},
     "output_type": "display_data"
    },
    {
     "data": {
      "text/markdown": [
       "<span style=\"color:#33cc33\">Correct</span>"
      ],
      "text/plain": [
       "Correct"
      ]
     },
     "metadata": {},
     "output_type": "display_data"
    }
   ],
   "source": [
    "num_timestamp_fields = 2 # Put your answer here\n",
    "\n",
    "# Check your answer\n",
    "q_2.check()"
   ]
  },
  {
   "cell_type": "markdown",
   "id": "6c14adbe",
   "metadata": {
    "papermill": {
     "duration": 0.005318,
     "end_time": "2025-02-12T13:59:29.437933",
     "exception": false,
     "start_time": "2025-02-12T13:59:29.432615",
     "status": "completed"
    },
    "tags": []
   },
   "source": [
    "For a hint or the solution, uncomment the appropriate line below."
   ]
  },
  {
   "cell_type": "code",
   "execution_count": 9,
   "id": "a96b1b03",
   "metadata": {
    "execution": {
     "iopub.execute_input": "2025-02-12T13:59:29.450533Z",
     "iopub.status.busy": "2025-02-12T13:59:29.450190Z",
     "iopub.status.idle": "2025-02-12T13:59:29.454203Z",
     "shell.execute_reply": "2025-02-12T13:59:29.453126Z"
    },
    "papermill": {
     "duration": 0.011876,
     "end_time": "2025-02-12T13:59:29.455740",
     "exception": false,
     "start_time": "2025-02-12T13:59:29.443864",
     "status": "completed"
    },
    "tags": []
   },
   "outputs": [],
   "source": [
    "# q_2.hint()\n",
    "# q_2.solution()"
   ]
  },
  {
   "cell_type": "markdown",
   "id": "f74ac12b",
   "metadata": {
    "papermill": {
     "duration": 0.005234,
     "end_time": "2025-02-12T13:59:29.466791",
     "exception": false,
     "start_time": "2025-02-12T13:59:29.461557",
     "status": "completed"
    },
    "tags": []
   },
   "source": [
    "### 3) Create a crime map\n",
    "\n",
    "If you wanted to create a map with a dot at the location of each crime, what are the names of the two fields you likely need to pull out of the `crime` table to plot the crimes on a map?"
   ]
  },
  {
   "cell_type": "code",
   "execution_count": 10,
   "id": "239d3f21",
   "metadata": {
    "execution": {
     "iopub.execute_input": "2025-02-12T13:59:29.479195Z",
     "iopub.status.busy": "2025-02-12T13:59:29.478900Z",
     "iopub.status.idle": "2025-02-12T13:59:30.832317Z",
     "shell.execute_reply": "2025-02-12T13:59:30.831391Z"
    },
    "papermill": {
     "duration": 1.361495,
     "end_time": "2025-02-12T13:59:30.834145",
     "exception": false,
     "start_time": "2025-02-12T13:59:29.472650",
     "status": "completed"
    },
    "tags": []
   },
   "outputs": [
    {
     "data": {
      "text/html": [
       "<div>\n",
       "<style scoped>\n",
       "    .dataframe tbody tr th:only-of-type {\n",
       "        vertical-align: middle;\n",
       "    }\n",
       "\n",
       "    .dataframe tbody tr th {\n",
       "        vertical-align: top;\n",
       "    }\n",
       "\n",
       "    .dataframe thead th {\n",
       "        text-align: right;\n",
       "    }\n",
       "</style>\n",
       "<table border=\"1\" class=\"dataframe\">\n",
       "  <thead>\n",
       "    <tr style=\"text-align: right;\">\n",
       "      <th></th>\n",
       "      <th>0</th>\n",
       "      <th>1</th>\n",
       "      <th>2</th>\n",
       "      <th>3</th>\n",
       "    </tr>\n",
       "  </thead>\n",
       "  <tbody>\n",
       "    <tr>\n",
       "      <th>unique_key</th>\n",
       "      <td>6486359</td>\n",
       "      <td>13228038</td>\n",
       "      <td>12750356</td>\n",
       "      <td>11943977</td>\n",
       "    </tr>\n",
       "    <tr>\n",
       "      <th>case_number</th>\n",
       "      <td>HP558646</td>\n",
       "      <td>JG444525</td>\n",
       "      <td>JF304450</td>\n",
       "      <td>JD106803</td>\n",
       "    </tr>\n",
       "    <tr>\n",
       "      <th>date</th>\n",
       "      <td>2008-09-07 01:00:00+00:00</td>\n",
       "      <td>2023-09-29 23:00:00+00:00</td>\n",
       "      <td>2022-07-03 22:18:00+00:00</td>\n",
       "      <td>2020-01-06 20:38:00+00:00</td>\n",
       "    </tr>\n",
       "    <tr>\n",
       "      <th>block</th>\n",
       "      <td>004XX W RANDOLPH ST</td>\n",
       "      <td>0000X E LOWER WACKER DR</td>\n",
       "      <td>0000X E LAKE ST</td>\n",
       "      <td>0000X W RANDOLPH ST</td>\n",
       "    </tr>\n",
       "    <tr>\n",
       "      <th>iucr</th>\n",
       "      <td>0281</td>\n",
       "      <td>0312</td>\n",
       "      <td>0312</td>\n",
       "      <td>0313</td>\n",
       "    </tr>\n",
       "    <tr>\n",
       "      <th>primary_type</th>\n",
       "      <td>CRIM SEXUAL ASSAULT</td>\n",
       "      <td>ROBBERY</td>\n",
       "      <td>ROBBERY</td>\n",
       "      <td>ROBBERY</td>\n",
       "    </tr>\n",
       "    <tr>\n",
       "      <th>description</th>\n",
       "      <td>NON-AGGRAVATED</td>\n",
       "      <td>ARMED - KNIFE / CUTTING INSTRUMENT</td>\n",
       "      <td>ARMED - KNIFE / CUTTING INSTRUMENT</td>\n",
       "      <td>ARMED: OTHER DANGEROUS WEAPON</td>\n",
       "    </tr>\n",
       "    <tr>\n",
       "      <th>location_description</th>\n",
       "      <td>BAR OR TAVERN</td>\n",
       "      <td>SIDEWALK</td>\n",
       "      <td>SMALL RETAIL STORE</td>\n",
       "      <td>HOTEL/MOTEL</td>\n",
       "    </tr>\n",
       "    <tr>\n",
       "      <th>arrest</th>\n",
       "      <td>False</td>\n",
       "      <td>False</td>\n",
       "      <td>False</td>\n",
       "      <td>False</td>\n",
       "    </tr>\n",
       "    <tr>\n",
       "      <th>domestic</th>\n",
       "      <td>False</td>\n",
       "      <td>False</td>\n",
       "      <td>False</td>\n",
       "      <td>False</td>\n",
       "    </tr>\n",
       "    <tr>\n",
       "      <th>beat</th>\n",
       "      <td>111</td>\n",
       "      <td>111</td>\n",
       "      <td>111</td>\n",
       "      <td>111</td>\n",
       "    </tr>\n",
       "    <tr>\n",
       "      <th>district</th>\n",
       "      <td>1</td>\n",
       "      <td>1</td>\n",
       "      <td>1</td>\n",
       "      <td>1</td>\n",
       "    </tr>\n",
       "    <tr>\n",
       "      <th>ward</th>\n",
       "      <td>42</td>\n",
       "      <td>42</td>\n",
       "      <td>42</td>\n",
       "      <td>42</td>\n",
       "    </tr>\n",
       "    <tr>\n",
       "      <th>community_area</th>\n",
       "      <td>28</td>\n",
       "      <td>32</td>\n",
       "      <td>32</td>\n",
       "      <td>32</td>\n",
       "    </tr>\n",
       "    <tr>\n",
       "      <th>fbi_code</th>\n",
       "      <td>02</td>\n",
       "      <td>03</td>\n",
       "      <td>03</td>\n",
       "      <td>03</td>\n",
       "    </tr>\n",
       "    <tr>\n",
       "      <th>x_coordinate</th>\n",
       "      <td>1173259.0</td>\n",
       "      <td>1177080.0</td>\n",
       "      <td>1176905.0</td>\n",
       "      <td>1176068.0</td>\n",
       "    </tr>\n",
       "    <tr>\n",
       "      <th>y_coordinate</th>\n",
       "      <td>1901247.0</td>\n",
       "      <td>1902693.0</td>\n",
       "      <td>1901744.0</td>\n",
       "      <td>1901284.0</td>\n",
       "    </tr>\n",
       "    <tr>\n",
       "      <th>year</th>\n",
       "      <td>2008</td>\n",
       "      <td>2023</td>\n",
       "      <td>2022</td>\n",
       "      <td>2020</td>\n",
       "    </tr>\n",
       "    <tr>\n",
       "      <th>updated_on</th>\n",
       "      <td>2018-02-28 15:56:25+00:00</td>\n",
       "      <td>2023-10-07 15:42:05+00:00</td>\n",
       "      <td>2023-01-03 15:40:27+00:00</td>\n",
       "      <td>2020-01-13 15:41:18+00:00</td>\n",
       "    </tr>\n",
       "    <tr>\n",
       "      <th>latitude</th>\n",
       "      <td>41.884447</td>\n",
       "      <td>41.88833</td>\n",
       "      <td>41.88573</td>\n",
       "      <td>41.884486</td>\n",
       "    </tr>\n",
       "    <tr>\n",
       "      <th>longitude</th>\n",
       "      <td>-87.639225</td>\n",
       "      <td>-87.62515</td>\n",
       "      <td>-87.625821</td>\n",
       "      <td>-87.628909</td>\n",
       "    </tr>\n",
       "    <tr>\n",
       "      <th>location</th>\n",
       "      <td>(41.884447496, -87.639224814)</td>\n",
       "      <td>(41.888329732, -87.625149941)</td>\n",
       "      <td>(41.885729587, -87.625821329)</td>\n",
       "      <td>(41.884486217, -87.628908795)</td>\n",
       "    </tr>\n",
       "  </tbody>\n",
       "</table>\n",
       "</div>"
      ],
      "text/plain": [
       "                                                  0  \\\n",
       "unique_key                                  6486359   \n",
       "case_number                                HP558646   \n",
       "date                      2008-09-07 01:00:00+00:00   \n",
       "block                           004XX W RANDOLPH ST   \n",
       "iucr                                           0281   \n",
       "primary_type                    CRIM SEXUAL ASSAULT   \n",
       "description                          NON-AGGRAVATED   \n",
       "location_description                  BAR OR TAVERN   \n",
       "arrest                                        False   \n",
       "domestic                                      False   \n",
       "beat                                            111   \n",
       "district                                          1   \n",
       "ward                                             42   \n",
       "community_area                                   28   \n",
       "fbi_code                                         02   \n",
       "x_coordinate                              1173259.0   \n",
       "y_coordinate                              1901247.0   \n",
       "year                                           2008   \n",
       "updated_on                2018-02-28 15:56:25+00:00   \n",
       "latitude                                  41.884447   \n",
       "longitude                                -87.639225   \n",
       "location              (41.884447496, -87.639224814)   \n",
       "\n",
       "                                                       1  \\\n",
       "unique_key                                      13228038   \n",
       "case_number                                     JG444525   \n",
       "date                           2023-09-29 23:00:00+00:00   \n",
       "block                            0000X E LOWER WACKER DR   \n",
       "iucr                                                0312   \n",
       "primary_type                                     ROBBERY   \n",
       "description           ARMED - KNIFE / CUTTING INSTRUMENT   \n",
       "location_description                            SIDEWALK   \n",
       "arrest                                             False   \n",
       "domestic                                           False   \n",
       "beat                                                 111   \n",
       "district                                               1   \n",
       "ward                                                  42   \n",
       "community_area                                        32   \n",
       "fbi_code                                              03   \n",
       "x_coordinate                                   1177080.0   \n",
       "y_coordinate                                   1902693.0   \n",
       "year                                                2023   \n",
       "updated_on                     2023-10-07 15:42:05+00:00   \n",
       "latitude                                        41.88833   \n",
       "longitude                                      -87.62515   \n",
       "location                   (41.888329732, -87.625149941)   \n",
       "\n",
       "                                                       2  \\\n",
       "unique_key                                      12750356   \n",
       "case_number                                     JF304450   \n",
       "date                           2022-07-03 22:18:00+00:00   \n",
       "block                                    0000X E LAKE ST   \n",
       "iucr                                                0312   \n",
       "primary_type                                     ROBBERY   \n",
       "description           ARMED - KNIFE / CUTTING INSTRUMENT   \n",
       "location_description                  SMALL RETAIL STORE   \n",
       "arrest                                             False   \n",
       "domestic                                           False   \n",
       "beat                                                 111   \n",
       "district                                               1   \n",
       "ward                                                  42   \n",
       "community_area                                        32   \n",
       "fbi_code                                              03   \n",
       "x_coordinate                                   1176905.0   \n",
       "y_coordinate                                   1901744.0   \n",
       "year                                                2022   \n",
       "updated_on                     2023-01-03 15:40:27+00:00   \n",
       "latitude                                        41.88573   \n",
       "longitude                                     -87.625821   \n",
       "location                   (41.885729587, -87.625821329)   \n",
       "\n",
       "                                                  3  \n",
       "unique_key                                 11943977  \n",
       "case_number                                JD106803  \n",
       "date                      2020-01-06 20:38:00+00:00  \n",
       "block                           0000X W RANDOLPH ST  \n",
       "iucr                                           0313  \n",
       "primary_type                                ROBBERY  \n",
       "description           ARMED: OTHER DANGEROUS WEAPON  \n",
       "location_description                    HOTEL/MOTEL  \n",
       "arrest                                        False  \n",
       "domestic                                      False  \n",
       "beat                                            111  \n",
       "district                                          1  \n",
       "ward                                             42  \n",
       "community_area                                   32  \n",
       "fbi_code                                         03  \n",
       "x_coordinate                              1176068.0  \n",
       "y_coordinate                              1901284.0  \n",
       "year                                           2020  \n",
       "updated_on                2020-01-13 15:41:18+00:00  \n",
       "latitude                                  41.884486  \n",
       "longitude                                -87.628909  \n",
       "location              (41.884486217, -87.628908795)  "
      ]
     },
     "execution_count": 10,
     "metadata": {},
     "output_type": "execute_result"
    }
   ],
   "source": [
    "# Write the code here to explore the data so you can find the answer\n",
    "client.list_rows(tcrime, max_results=4).to_dataframe().transpose()"
   ]
  },
  {
   "cell_type": "code",
   "execution_count": 11,
   "id": "f371e167",
   "metadata": {
    "execution": {
     "iopub.execute_input": "2025-02-12T13:59:30.847854Z",
     "iopub.status.busy": "2025-02-12T13:59:30.847443Z",
     "iopub.status.idle": "2025-02-12T13:59:30.854661Z",
     "shell.execute_reply": "2025-02-12T13:59:30.853678Z"
    },
    "papermill": {
     "duration": 0.015762,
     "end_time": "2025-02-12T13:59:30.856286",
     "exception": false,
     "start_time": "2025-02-12T13:59:30.840524",
     "status": "completed"
    },
    "tags": []
   },
   "outputs": [
    {
     "data": {
      "application/javascript": [
       "parent.postMessage({\"jupyterEvent\": \"custom.exercise_interaction\", \"data\": {\"outcomeType\": 1, \"valueTowardsCompletion\": 0.3333333333333333, \"interactionType\": 1, \"questionType\": 2, \"questionId\": \"3_IdentifyFieldsForPlotting\", \"learnToolsVersion\": \"0.3.4\", \"failureMessage\": \"\", \"exceptionClass\": \"\", \"trace\": \"\"}}, \"*\")"
      ],
      "text/plain": [
       "<IPython.core.display.Javascript object>"
      ]
     },
     "metadata": {},
     "output_type": "display_data"
    },
    {
     "data": {
      "text/markdown": [
       "<span style=\"color:#33cc33\">Correct</span>"
      ],
      "text/plain": [
       "Correct"
      ]
     },
     "metadata": {},
     "output_type": "display_data"
    }
   ],
   "source": [
    "fields_for_plotting = [\"latitude\", \"longitude\"] # Put your answers here\n",
    "\n",
    "# Check your answer\n",
    "q_3.check()"
   ]
  },
  {
   "cell_type": "markdown",
   "id": "6d3307e2",
   "metadata": {
    "papermill": {
     "duration": 0.005935,
     "end_time": "2025-02-12T13:59:30.868837",
     "exception": false,
     "start_time": "2025-02-12T13:59:30.862902",
     "status": "completed"
    },
    "tags": []
   },
   "source": [
    "For a hint or the solution, uncomment the appropriate line below."
   ]
  },
  {
   "cell_type": "code",
   "execution_count": 12,
   "id": "8c45dd2d",
   "metadata": {
    "execution": {
     "iopub.execute_input": "2025-02-12T13:59:30.882400Z",
     "iopub.status.busy": "2025-02-12T13:59:30.882044Z",
     "iopub.status.idle": "2025-02-12T13:59:30.885542Z",
     "shell.execute_reply": "2025-02-12T13:59:30.884690Z"
    },
    "papermill": {
     "duration": 0.01234,
     "end_time": "2025-02-12T13:59:30.887287",
     "exception": false,
     "start_time": "2025-02-12T13:59:30.874947",
     "status": "completed"
    },
    "tags": []
   },
   "outputs": [],
   "source": [
    "# q_3.hint()\n",
    "# q_3.solution()"
   ]
  },
  {
   "cell_type": "markdown",
   "id": "d7dff6a2",
   "metadata": {
    "papermill": {
     "duration": 0.006064,
     "end_time": "2025-02-12T13:59:30.899796",
     "exception": false,
     "start_time": "2025-02-12T13:59:30.893732",
     "status": "completed"
    },
    "tags": []
   },
   "source": [
    "Thinking about the question above, there are a few columns that appear to have geographic data. Look at a few values (with the `list_rows()` command) to see if you can determine their relationship.  Two columns will still be hard to interpret. But it should be obvious how the `location` column relates to `latitude` and `longitude`.\n",
    "\n",
    "Definitely, location = {latitude, longitude} and the x coordinate and y coordinate, probably some easier number to use than the longitude and latitude, LOL? \n",
    "\n"
   ]
  },
  {
   "cell_type": "code",
   "execution_count": 13,
   "id": "9633b622",
   "metadata": {
    "execution": {
     "iopub.execute_input": "2025-02-12T13:59:30.913281Z",
     "iopub.status.busy": "2025-02-12T13:59:30.912917Z",
     "iopub.status.idle": "2025-02-12T13:59:31.486032Z",
     "shell.execute_reply": "2025-02-12T13:59:31.484919Z"
    },
    "papermill": {
     "duration": 0.581837,
     "end_time": "2025-02-12T13:59:31.487722",
     "exception": false,
     "start_time": "2025-02-12T13:59:30.905885",
     "status": "completed"
    },
    "tags": []
   },
   "outputs": [
    {
     "data": {
      "text/html": [
       "<div>\n",
       "<style scoped>\n",
       "    .dataframe tbody tr th:only-of-type {\n",
       "        vertical-align: middle;\n",
       "    }\n",
       "\n",
       "    .dataframe tbody tr th {\n",
       "        vertical-align: top;\n",
       "    }\n",
       "\n",
       "    .dataframe thead th {\n",
       "        text-align: right;\n",
       "    }\n",
       "</style>\n",
       "<table border=\"1\" class=\"dataframe\">\n",
       "  <thead>\n",
       "    <tr style=\"text-align: right;\">\n",
       "      <th></th>\n",
       "      <th>0</th>\n",
       "      <th>1</th>\n",
       "      <th>2</th>\n",
       "      <th>3</th>\n",
       "    </tr>\n",
       "  </thead>\n",
       "  <tbody>\n",
       "    <tr>\n",
       "      <th>unique_key</th>\n",
       "      <td>6486359</td>\n",
       "      <td>13228038</td>\n",
       "      <td>12750356</td>\n",
       "      <td>11943977</td>\n",
       "    </tr>\n",
       "    <tr>\n",
       "      <th>case_number</th>\n",
       "      <td>HP558646</td>\n",
       "      <td>JG444525</td>\n",
       "      <td>JF304450</td>\n",
       "      <td>JD106803</td>\n",
       "    </tr>\n",
       "    <tr>\n",
       "      <th>date</th>\n",
       "      <td>2008-09-07 01:00:00+00:00</td>\n",
       "      <td>2023-09-29 23:00:00+00:00</td>\n",
       "      <td>2022-07-03 22:18:00+00:00</td>\n",
       "      <td>2020-01-06 20:38:00+00:00</td>\n",
       "    </tr>\n",
       "    <tr>\n",
       "      <th>block</th>\n",
       "      <td>004XX W RANDOLPH ST</td>\n",
       "      <td>0000X E LOWER WACKER DR</td>\n",
       "      <td>0000X E LAKE ST</td>\n",
       "      <td>0000X W RANDOLPH ST</td>\n",
       "    </tr>\n",
       "    <tr>\n",
       "      <th>iucr</th>\n",
       "      <td>0281</td>\n",
       "      <td>0312</td>\n",
       "      <td>0312</td>\n",
       "      <td>0313</td>\n",
       "    </tr>\n",
       "    <tr>\n",
       "      <th>primary_type</th>\n",
       "      <td>CRIM SEXUAL ASSAULT</td>\n",
       "      <td>ROBBERY</td>\n",
       "      <td>ROBBERY</td>\n",
       "      <td>ROBBERY</td>\n",
       "    </tr>\n",
       "    <tr>\n",
       "      <th>description</th>\n",
       "      <td>NON-AGGRAVATED</td>\n",
       "      <td>ARMED - KNIFE / CUTTING INSTRUMENT</td>\n",
       "      <td>ARMED - KNIFE / CUTTING INSTRUMENT</td>\n",
       "      <td>ARMED: OTHER DANGEROUS WEAPON</td>\n",
       "    </tr>\n",
       "    <tr>\n",
       "      <th>location_description</th>\n",
       "      <td>BAR OR TAVERN</td>\n",
       "      <td>SIDEWALK</td>\n",
       "      <td>SMALL RETAIL STORE</td>\n",
       "      <td>HOTEL/MOTEL</td>\n",
       "    </tr>\n",
       "    <tr>\n",
       "      <th>arrest</th>\n",
       "      <td>False</td>\n",
       "      <td>False</td>\n",
       "      <td>False</td>\n",
       "      <td>False</td>\n",
       "    </tr>\n",
       "    <tr>\n",
       "      <th>domestic</th>\n",
       "      <td>False</td>\n",
       "      <td>False</td>\n",
       "      <td>False</td>\n",
       "      <td>False</td>\n",
       "    </tr>\n",
       "    <tr>\n",
       "      <th>beat</th>\n",
       "      <td>111</td>\n",
       "      <td>111</td>\n",
       "      <td>111</td>\n",
       "      <td>111</td>\n",
       "    </tr>\n",
       "    <tr>\n",
       "      <th>district</th>\n",
       "      <td>1</td>\n",
       "      <td>1</td>\n",
       "      <td>1</td>\n",
       "      <td>1</td>\n",
       "    </tr>\n",
       "    <tr>\n",
       "      <th>ward</th>\n",
       "      <td>42</td>\n",
       "      <td>42</td>\n",
       "      <td>42</td>\n",
       "      <td>42</td>\n",
       "    </tr>\n",
       "    <tr>\n",
       "      <th>community_area</th>\n",
       "      <td>28</td>\n",
       "      <td>32</td>\n",
       "      <td>32</td>\n",
       "      <td>32</td>\n",
       "    </tr>\n",
       "    <tr>\n",
       "      <th>fbi_code</th>\n",
       "      <td>02</td>\n",
       "      <td>03</td>\n",
       "      <td>03</td>\n",
       "      <td>03</td>\n",
       "    </tr>\n",
       "    <tr>\n",
       "      <th>x_coordinate</th>\n",
       "      <td>1173259.0</td>\n",
       "      <td>1177080.0</td>\n",
       "      <td>1176905.0</td>\n",
       "      <td>1176068.0</td>\n",
       "    </tr>\n",
       "    <tr>\n",
       "      <th>y_coordinate</th>\n",
       "      <td>1901247.0</td>\n",
       "      <td>1902693.0</td>\n",
       "      <td>1901744.0</td>\n",
       "      <td>1901284.0</td>\n",
       "    </tr>\n",
       "    <tr>\n",
       "      <th>year</th>\n",
       "      <td>2008</td>\n",
       "      <td>2023</td>\n",
       "      <td>2022</td>\n",
       "      <td>2020</td>\n",
       "    </tr>\n",
       "    <tr>\n",
       "      <th>updated_on</th>\n",
       "      <td>2018-02-28 15:56:25+00:00</td>\n",
       "      <td>2023-10-07 15:42:05+00:00</td>\n",
       "      <td>2023-01-03 15:40:27+00:00</td>\n",
       "      <td>2020-01-13 15:41:18+00:00</td>\n",
       "    </tr>\n",
       "    <tr>\n",
       "      <th>latitude</th>\n",
       "      <td>41.884447</td>\n",
       "      <td>41.88833</td>\n",
       "      <td>41.88573</td>\n",
       "      <td>41.884486</td>\n",
       "    </tr>\n",
       "    <tr>\n",
       "      <th>longitude</th>\n",
       "      <td>-87.639225</td>\n",
       "      <td>-87.62515</td>\n",
       "      <td>-87.625821</td>\n",
       "      <td>-87.628909</td>\n",
       "    </tr>\n",
       "    <tr>\n",
       "      <th>location</th>\n",
       "      <td>(41.884447496, -87.639224814)</td>\n",
       "      <td>(41.888329732, -87.625149941)</td>\n",
       "      <td>(41.885729587, -87.625821329)</td>\n",
       "      <td>(41.884486217, -87.628908795)</td>\n",
       "    </tr>\n",
       "  </tbody>\n",
       "</table>\n",
       "</div>"
      ],
      "text/plain": [
       "                                                  0  \\\n",
       "unique_key                                  6486359   \n",
       "case_number                                HP558646   \n",
       "date                      2008-09-07 01:00:00+00:00   \n",
       "block                           004XX W RANDOLPH ST   \n",
       "iucr                                           0281   \n",
       "primary_type                    CRIM SEXUAL ASSAULT   \n",
       "description                          NON-AGGRAVATED   \n",
       "location_description                  BAR OR TAVERN   \n",
       "arrest                                        False   \n",
       "domestic                                      False   \n",
       "beat                                            111   \n",
       "district                                          1   \n",
       "ward                                             42   \n",
       "community_area                                   28   \n",
       "fbi_code                                         02   \n",
       "x_coordinate                              1173259.0   \n",
       "y_coordinate                              1901247.0   \n",
       "year                                           2008   \n",
       "updated_on                2018-02-28 15:56:25+00:00   \n",
       "latitude                                  41.884447   \n",
       "longitude                                -87.639225   \n",
       "location              (41.884447496, -87.639224814)   \n",
       "\n",
       "                                                       1  \\\n",
       "unique_key                                      13228038   \n",
       "case_number                                     JG444525   \n",
       "date                           2023-09-29 23:00:00+00:00   \n",
       "block                            0000X E LOWER WACKER DR   \n",
       "iucr                                                0312   \n",
       "primary_type                                     ROBBERY   \n",
       "description           ARMED - KNIFE / CUTTING INSTRUMENT   \n",
       "location_description                            SIDEWALK   \n",
       "arrest                                             False   \n",
       "domestic                                           False   \n",
       "beat                                                 111   \n",
       "district                                               1   \n",
       "ward                                                  42   \n",
       "community_area                                        32   \n",
       "fbi_code                                              03   \n",
       "x_coordinate                                   1177080.0   \n",
       "y_coordinate                                   1902693.0   \n",
       "year                                                2023   \n",
       "updated_on                     2023-10-07 15:42:05+00:00   \n",
       "latitude                                        41.88833   \n",
       "longitude                                      -87.62515   \n",
       "location                   (41.888329732, -87.625149941)   \n",
       "\n",
       "                                                       2  \\\n",
       "unique_key                                      12750356   \n",
       "case_number                                     JF304450   \n",
       "date                           2022-07-03 22:18:00+00:00   \n",
       "block                                    0000X E LAKE ST   \n",
       "iucr                                                0312   \n",
       "primary_type                                     ROBBERY   \n",
       "description           ARMED - KNIFE / CUTTING INSTRUMENT   \n",
       "location_description                  SMALL RETAIL STORE   \n",
       "arrest                                             False   \n",
       "domestic                                           False   \n",
       "beat                                                 111   \n",
       "district                                               1   \n",
       "ward                                                  42   \n",
       "community_area                                        32   \n",
       "fbi_code                                              03   \n",
       "x_coordinate                                   1176905.0   \n",
       "y_coordinate                                   1901744.0   \n",
       "year                                                2022   \n",
       "updated_on                     2023-01-03 15:40:27+00:00   \n",
       "latitude                                        41.88573   \n",
       "longitude                                     -87.625821   \n",
       "location                   (41.885729587, -87.625821329)   \n",
       "\n",
       "                                                  3  \n",
       "unique_key                                 11943977  \n",
       "case_number                                JD106803  \n",
       "date                      2020-01-06 20:38:00+00:00  \n",
       "block                           0000X W RANDOLPH ST  \n",
       "iucr                                           0313  \n",
       "primary_type                                ROBBERY  \n",
       "description           ARMED: OTHER DANGEROUS WEAPON  \n",
       "location_description                    HOTEL/MOTEL  \n",
       "arrest                                        False  \n",
       "domestic                                      False  \n",
       "beat                                            111  \n",
       "district                                          1  \n",
       "ward                                             42  \n",
       "community_area                                   32  \n",
       "fbi_code                                         03  \n",
       "x_coordinate                              1176068.0  \n",
       "y_coordinate                              1901284.0  \n",
       "year                                           2020  \n",
       "updated_on                2020-01-13 15:41:18+00:00  \n",
       "latitude                                  41.884486  \n",
       "longitude                                -87.628909  \n",
       "location              (41.884486217, -87.628908795)  "
      ]
     },
     "execution_count": 13,
     "metadata": {},
     "output_type": "execute_result"
    }
   ],
   "source": [
    "# Scratch space for your code\n",
    "client.list_rows(tcrime, max_results=4).to_dataframe().transpose()"
   ]
  },
  {
   "cell_type": "markdown",
   "id": "a18cb54c",
   "metadata": {
    "papermill": {
     "duration": 0.006448,
     "end_time": "2025-02-12T13:59:31.501061",
     "exception": false,
     "start_time": "2025-02-12T13:59:31.494613",
     "status": "completed"
    },
    "tags": []
   },
   "source": [
    "# Keep going\n",
    "\n",
    "You've looked at the schema, but you haven't yet done anything exciting with the data itself. Things get more interesting when you get to the data, so keep going to **[write your first SQL query](https://www.kaggle.com/dansbecker/select-from-where).**"
   ]
  },
  {
   "cell_type": "markdown",
   "id": "c5d2c1c4",
   "metadata": {
    "papermill": {
     "duration": 0.006208,
     "end_time": "2025-02-12T13:59:31.513733",
     "exception": false,
     "start_time": "2025-02-12T13:59:31.507525",
     "status": "completed"
    },
    "tags": []
   },
   "source": [
    "---\n",
    "\n",
    "\n",
    "\n",
    "\n",
    "*Have questions or comments? Visit the [course discussion forum](https://www.kaggle.com/learn/intro-to-sql/discussion) to chat with other learners.*"
   ]
  }
 ],
 "metadata": {
  "kaggle": {
   "accelerator": "none",
   "dataSources": [
    {
     "datasetId": 22090,
     "sourceId": 28376,
     "sourceType": "datasetVersion"
    },
    {
     "datasetId": 6057,
     "sourceId": 285982,
     "sourceType": "datasetVersion"
    }
   ],
   "isGpuEnabled": false,
   "isInternetEnabled": false,
   "language": "python",
   "sourceType": "notebook"
  },
  "kernelspec": {
   "display_name": "Python 3",
   "language": "python",
   "name": "python3"
  },
  "language_info": {
   "codemirror_mode": {
    "name": "ipython",
    "version": 3
   },
   "file_extension": ".py",
   "mimetype": "text/x-python",
   "name": "python",
   "nbconvert_exporter": "python",
   "pygments_lexer": "ipython3",
   "version": "3.10.12"
  },
  "papermill": {
   "default_parameters": {},
   "duration": 24.575917,
   "end_time": "2025-02-12T13:59:33.043607",
   "environment_variables": {},
   "exception": null,
   "input_path": "__notebook__.ipynb",
   "output_path": "__notebook__.ipynb",
   "parameters": {},
   "start_time": "2025-02-12T13:59:08.467690",
   "version": "2.6.0"
  }
 },
 "nbformat": 4,
 "nbformat_minor": 5
}
