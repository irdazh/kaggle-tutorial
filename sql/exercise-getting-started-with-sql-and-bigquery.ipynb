{
 "cells": [
  {
   "cell_type": "markdown",
   "id": "a0758955",
   "metadata": {
    "papermill": {
     "duration": 0.005074,
     "end_time": "2025-02-11T01:33:44.553301",
     "exception": false,
     "start_time": "2025-02-11T01:33:44.548227",
     "status": "completed"
    },
    "tags": []
   },
   "source": [
    "**This notebook is an exercise in the [SQL](https://www.kaggle.com/learn/intro-to-sql) course.  You can reference the tutorial at [this link](https://www.kaggle.com/dansbecker/getting-started-with-sql-and-bigquery).**\n",
    "\n",
    "---\n"
   ]
  },
  {
   "cell_type": "markdown",
   "id": "a4e70110",
   "metadata": {
    "papermill": {
     "duration": 0.004168,
     "end_time": "2025-02-11T01:33:44.562041",
     "exception": false,
     "start_time": "2025-02-11T01:33:44.557873",
     "status": "completed"
    },
    "tags": []
   },
   "source": [
    "# Introduction\n",
    "\n",
    "The first test of your new data exploration skills uses data describing crime in the city of Chicago.\n",
    "\n",
    "Before you get started, run the following cell. It sets up the automated feedback system to review your answers."
   ]
  },
  {
   "cell_type": "code",
   "execution_count": 1,
   "id": "8e9a9f41",
   "metadata": {
    "execution": {
     "iopub.execute_input": "2025-02-11T01:33:44.572119Z",
     "iopub.status.busy": "2025-02-11T01:33:44.571776Z",
     "iopub.status.idle": "2025-02-11T01:33:59.115580Z",
     "shell.execute_reply": "2025-02-11T01:33:59.114190Z"
    },
    "papermill": {
     "duration": 14.55067,
     "end_time": "2025-02-11T01:33:59.117124",
     "exception": false,
     "start_time": "2025-02-11T01:33:44.566454",
     "status": "completed"
    },
    "tags": []
   },
   "outputs": [
    {
     "name": "stderr",
     "output_type": "stream",
     "text": [
      "/usr/local/lib/python3.10/dist-packages/learntools/sql/ex1.py:64: SyntaxWarning: assertion is always true, perhaps remove parentheses?\n",
      "  assert (type(fields_for_plotting[0] == str), \"The first item in `fields_for_plotting` should be a string.\")\n",
      "/usr/local/lib/python3.10/dist-packages/learntools/sql/ex1.py:65: SyntaxWarning: assertion is always true, perhaps remove parentheses?\n",
      "  assert (type(fields_for_plotting[1] == str), \"The second item in `fields_for_plotting` should be a string.\")\n"
     ]
    },
    {
     "name": "stdout",
     "output_type": "stream",
     "text": [
      "Using Kaggle's public dataset BigQuery integration.\n",
      "Setup Complete\n"
     ]
    }
   ],
   "source": [
    "# Set up feedack system\n",
    "from learntools.core import binder\n",
    "binder.bind(globals())\n",
    "from learntools.sql.ex1 import *\n",
    "print(\"Setup Complete\")"
   ]
  },
  {
   "cell_type": "markdown",
   "id": "ea7267bf",
   "metadata": {
    "papermill": {
     "duration": 0.004273,
     "end_time": "2025-02-11T01:33:59.126417",
     "exception": false,
     "start_time": "2025-02-11T01:33:59.122144",
     "status": "completed"
    },
    "tags": []
   },
   "source": [
    "Use the next code cell to fetch the dataset."
   ]
  },
  {
   "cell_type": "code",
   "execution_count": 2,
   "id": "2d32b695",
   "metadata": {
    "execution": {
     "iopub.execute_input": "2025-02-11T01:33:59.137049Z",
     "iopub.status.busy": "2025-02-11T01:33:59.136309Z",
     "iopub.status.idle": "2025-02-11T01:33:59.486754Z",
     "shell.execute_reply": "2025-02-11T01:33:59.485818Z"
    },
    "papermill": {
     "duration": 0.35769,
     "end_time": "2025-02-11T01:33:59.488612",
     "exception": false,
     "start_time": "2025-02-11T01:33:59.130922",
     "status": "completed"
    },
    "tags": []
   },
   "outputs": [
    {
     "name": "stdout",
     "output_type": "stream",
     "text": [
      "Using Kaggle's public dataset BigQuery integration.\n"
     ]
    }
   ],
   "source": [
    "from google.cloud import bigquery\n",
    "\n",
    "# Create a \"Client\" object\n",
    "client = bigquery.Client()\n",
    "\n",
    "# Construct a reference to the \"chicago_crime\" dataset\n",
    "dataset_ref = client.dataset(\"chicago_crime\", project=\"bigquery-public-data\")\n",
    "\n",
    "# API request - fetch the dataset\n",
    "dataset = client.get_dataset(dataset_ref)"
   ]
  },
  {
   "cell_type": "code",
   "execution_count": null,
   "id": "88d11ccd",
   "metadata": {
    "papermill": {
     "duration": 0.004578,
     "end_time": "2025-02-11T01:33:59.498394",
     "exception": false,
     "start_time": "2025-02-11T01:33:59.493816",
     "status": "completed"
    },
    "tags": []
   },
   "outputs": [],
   "source": []
  },
  {
   "cell_type": "markdown",
   "id": "cd8aa88c",
   "metadata": {
    "papermill": {
     "duration": 0.004445,
     "end_time": "2025-02-11T01:33:59.507607",
     "exception": false,
     "start_time": "2025-02-11T01:33:59.503162",
     "status": "completed"
    },
    "tags": []
   },
   "source": [
    "# Exercises\n",
    "\n",
    "### 1) Count tables in the dataset\n",
    "\n",
    "How many tables are in the Chicago Crime dataset?"
   ]
  },
  {
   "cell_type": "code",
   "execution_count": 3,
   "id": "14b37249",
   "metadata": {
    "execution": {
     "iopub.execute_input": "2025-02-11T01:33:59.518092Z",
     "iopub.status.busy": "2025-02-11T01:33:59.517725Z",
     "iopub.status.idle": "2025-02-11T01:34:00.145267Z",
     "shell.execute_reply": "2025-02-11T01:34:00.144204Z"
    },
    "papermill": {
     "duration": 0.634816,
     "end_time": "2025-02-11T01:34:00.146997",
     "exception": false,
     "start_time": "2025-02-11T01:33:59.512181",
     "status": "completed"
    },
    "tags": []
   },
   "outputs": [
    {
     "data": {
      "text/plain": [
       "1"
      ]
     },
     "execution_count": 3,
     "metadata": {},
     "output_type": "execute_result"
    }
   ],
   "source": [
    "# Write the code you need here to figure out the answer\n",
    "tabel = list(client.list_tables(dataset))\n",
    "\n",
    "len(tabel)\n"
   ]
  },
  {
   "cell_type": "code",
   "execution_count": 4,
   "id": "4c24b15c",
   "metadata": {
    "execution": {
     "iopub.execute_input": "2025-02-11T01:34:00.158060Z",
     "iopub.status.busy": "2025-02-11T01:34:00.157623Z",
     "iopub.status.idle": "2025-02-11T01:34:00.165795Z",
     "shell.execute_reply": "2025-02-11T01:34:00.164537Z"
    },
    "papermill": {
     "duration": 0.015538,
     "end_time": "2025-02-11T01:34:00.167585",
     "exception": false,
     "start_time": "2025-02-11T01:34:00.152047",
     "status": "completed"
    },
    "tags": []
   },
   "outputs": [
    {
     "data": {
      "application/javascript": [
       "parent.postMessage({\"jupyterEvent\": \"custom.exercise_interaction\", \"data\": {\"outcomeType\": 1, \"valueTowardsCompletion\": 0.3333333333333333, \"interactionType\": 1, \"questionType\": 1, \"questionId\": \"1_CountTables\", \"learnToolsVersion\": \"0.3.4\", \"failureMessage\": \"\", \"exceptionClass\": \"\", \"trace\": \"\"}}, \"*\")"
      ],
      "text/plain": [
       "<IPython.core.display.Javascript object>"
      ]
     },
     "metadata": {},
     "output_type": "display_data"
    },
    {
     "data": {
      "text/markdown": [
       "<span style=\"color:#33cc33\">Correct</span>"
      ],
      "text/plain": [
       "Correct"
      ]
     },
     "metadata": {},
     "output_type": "display_data"
    }
   ],
   "source": [
    "num_tables = 1 # Store the answer as num_tables and then run this cell\n",
    "\n",
    "# Check your answer\n",
    "q_1.check()"
   ]
  },
  {
   "cell_type": "markdown",
   "id": "e784667e",
   "metadata": {
    "papermill": {
     "duration": 0.005801,
     "end_time": "2025-02-11T01:34:00.179947",
     "exception": false,
     "start_time": "2025-02-11T01:34:00.174146",
     "status": "completed"
    },
    "tags": []
   },
   "source": [
    "For a hint or the solution, uncomment the appropriate line below."
   ]
  },
  {
   "cell_type": "code",
   "execution_count": 5,
   "id": "700fba91",
   "metadata": {
    "execution": {
     "iopub.execute_input": "2025-02-11T01:34:00.191095Z",
     "iopub.status.busy": "2025-02-11T01:34:00.190770Z",
     "iopub.status.idle": "2025-02-11T01:34:00.200471Z",
     "shell.execute_reply": "2025-02-11T01:34:00.199683Z"
    },
    "papermill": {
     "duration": 0.016963,
     "end_time": "2025-02-11T01:34:00.201911",
     "exception": false,
     "start_time": "2025-02-11T01:34:00.184948",
     "status": "completed"
    },
    "tags": []
   },
   "outputs": [
    {
     "data": {
      "application/javascript": [
       "parent.postMessage({\"jupyterEvent\": \"custom.exercise_interaction\", \"data\": {\"interactionType\": 2, \"questionType\": 1, \"questionId\": \"1_CountTables\", \"learnToolsVersion\": \"0.3.4\", \"valueTowardsCompletion\": 0.0, \"failureMessage\": \"\", \"exceptionClass\": \"\", \"trace\": \"\", \"outcomeType\": 4}}, \"*\")"
      ],
      "text/plain": [
       "<IPython.core.display.Javascript object>"
      ]
     },
     "metadata": {},
     "output_type": "display_data"
    },
    {
     "data": {
      "text/markdown": [
       "<span style=\"color:#3366cc\">Hint:</span> Use the `list_tables()` method to get a list of the tables in the dataset."
      ],
      "text/plain": [
       "Hint: Use the `list_tables()` method to get a list of the tables in the dataset."
      ]
     },
     "metadata": {},
     "output_type": "display_data"
    },
    {
     "data": {
      "application/javascript": [
       "parent.postMessage({\"jupyterEvent\": \"custom.exercise_interaction\", \"data\": {\"interactionType\": 3, \"questionType\": 1, \"questionId\": \"1_CountTables\", \"learnToolsVersion\": \"0.3.4\", \"valueTowardsCompletion\": 0.0, \"failureMessage\": \"\", \"exceptionClass\": \"\", \"trace\": \"\", \"outcomeType\": 4}}, \"*\")"
      ],
      "text/plain": [
       "<IPython.core.display.Javascript object>"
      ]
     },
     "metadata": {},
     "output_type": "display_data"
    },
    {
     "data": {
      "text/markdown": [
       "<span style=\"color:#33cc99\">Solution:</span> \n",
       "```python\n",
       "\n",
       "# List all the tables in the \"chicago_crime\" dataset\n",
       "tables = list(client.list_tables(dataset))\n",
       "\n",
       "# Print number of tables in the dataset\n",
       "print(len(tables))\n",
       "\n",
       "num_tables = 1\n",
       "\n",
       "```"
      ],
      "text/plain": [
       "Solution: \n",
       "```python\n",
       "\n",
       "# List all the tables in the \"chicago_crime\" dataset\n",
       "tables = list(client.list_tables(dataset))\n",
       "\n",
       "# Print number of tables in the dataset\n",
       "print(len(tables))\n",
       "\n",
       "num_tables = 1\n",
       "\n",
       "```"
      ]
     },
     "metadata": {},
     "output_type": "display_data"
    }
   ],
   "source": [
    "q_1.hint()\n",
    "q_1.solution()"
   ]
  },
  {
   "cell_type": "markdown",
   "id": "58b74a69",
   "metadata": {
    "papermill": {
     "duration": 0.005126,
     "end_time": "2025-02-11T01:34:00.212656",
     "exception": false,
     "start_time": "2025-02-11T01:34:00.207530",
     "status": "completed"
    },
    "tags": []
   },
   "source": [
    "### 2) Explore the table schema\n",
    "\n",
    "How many columns in the `crime` table have `TIMESTAMP` data?"
   ]
  },
  {
   "cell_type": "code",
   "execution_count": 6,
   "id": "5309157d",
   "metadata": {
    "execution": {
     "iopub.execute_input": "2025-02-11T01:34:00.226019Z",
     "iopub.status.busy": "2025-02-11T01:34:00.225682Z",
     "iopub.status.idle": "2025-02-11T01:34:00.724842Z",
     "shell.execute_reply": "2025-02-11T01:34:00.723874Z"
    },
    "papermill": {
     "duration": 0.507189,
     "end_time": "2025-02-11T01:34:00.726560",
     "exception": false,
     "start_time": "2025-02-11T01:34:00.219371",
     "status": "completed"
    },
    "tags": []
   },
   "outputs": [
    {
     "name": "stdout",
     "output_type": "stream",
     "text": [
      "crime\n"
     ]
    },
    {
     "data": {
      "text/plain": [
       "[SchemaField('unique_key', 'INTEGER', 'REQUIRED', None, None, (), None),\n",
       " SchemaField('case_number', 'STRING', 'NULLABLE', None, None, (), None),\n",
       " SchemaField('date', 'TIMESTAMP', 'NULLABLE', None, None, (), None),\n",
       " SchemaField('block', 'STRING', 'NULLABLE', None, None, (), None),\n",
       " SchemaField('iucr', 'STRING', 'NULLABLE', None, None, (), None),\n",
       " SchemaField('primary_type', 'STRING', 'NULLABLE', None, None, (), None),\n",
       " SchemaField('description', 'STRING', 'NULLABLE', None, None, (), None),\n",
       " SchemaField('location_description', 'STRING', 'NULLABLE', None, None, (), None),\n",
       " SchemaField('arrest', 'BOOLEAN', 'NULLABLE', None, None, (), None),\n",
       " SchemaField('domestic', 'BOOLEAN', 'NULLABLE', None, None, (), None),\n",
       " SchemaField('beat', 'INTEGER', 'NULLABLE', None, None, (), None),\n",
       " SchemaField('district', 'INTEGER', 'NULLABLE', None, None, (), None),\n",
       " SchemaField('ward', 'INTEGER', 'NULLABLE', None, None, (), None),\n",
       " SchemaField('community_area', 'INTEGER', 'NULLABLE', None, None, (), None),\n",
       " SchemaField('fbi_code', 'STRING', 'NULLABLE', None, None, (), None),\n",
       " SchemaField('x_coordinate', 'FLOAT', 'NULLABLE', None, None, (), None),\n",
       " SchemaField('y_coordinate', 'FLOAT', 'NULLABLE', None, None, (), None),\n",
       " SchemaField('year', 'INTEGER', 'NULLABLE', None, None, (), None),\n",
       " SchemaField('updated_on', 'TIMESTAMP', 'NULLABLE', None, None, (), None),\n",
       " SchemaField('latitude', 'FLOAT', 'NULLABLE', None, None, (), None),\n",
       " SchemaField('longitude', 'FLOAT', 'NULLABLE', None, None, (), None),\n",
       " SchemaField('location', 'STRING', 'NULLABLE', None, None, (), None)]"
      ]
     },
     "execution_count": 6,
     "metadata": {},
     "output_type": "execute_result"
    }
   ],
   "source": [
    "# Write the code to figure out the answer\n",
    "for tab in tabel:  \n",
    "    print(tab.table_id)\n",
    "\n",
    "# simpler\n",
    "[tab.table_id for tab in tabel]\n",
    "\n",
    "tcrime_ref = dataset_ref.table(\"crime\")\n",
    "\n",
    "# API - fetch the table\n",
    "tcrime = client.get_table(tcrime_ref)\n",
    "\n",
    "tcrime.schema"
   ]
  },
  {
   "cell_type": "code",
   "execution_count": 7,
   "id": "a9420ca3",
   "metadata": {
    "execution": {
     "iopub.execute_input": "2025-02-11T01:34:00.739357Z",
     "iopub.status.busy": "2025-02-11T01:34:00.739050Z",
     "iopub.status.idle": "2025-02-11T01:34:00.746193Z",
     "shell.execute_reply": "2025-02-11T01:34:00.745345Z"
    },
    "papermill": {
     "duration": 0.015316,
     "end_time": "2025-02-11T01:34:00.747741",
     "exception": false,
     "start_time": "2025-02-11T01:34:00.732425",
     "status": "completed"
    },
    "tags": []
   },
   "outputs": [
    {
     "data": {
      "application/javascript": [
       "parent.postMessage({\"jupyterEvent\": \"custom.exercise_interaction\", \"data\": {\"outcomeType\": 1, \"valueTowardsCompletion\": 0.3333333333333333, \"interactionType\": 1, \"questionType\": 1, \"questionId\": \"2_CountTimestampFields\", \"learnToolsVersion\": \"0.3.4\", \"failureMessage\": \"\", \"exceptionClass\": \"\", \"trace\": \"\"}}, \"*\")"
      ],
      "text/plain": [
       "<IPython.core.display.Javascript object>"
      ]
     },
     "metadata": {},
     "output_type": "display_data"
    },
    {
     "data": {
      "text/markdown": [
       "<span style=\"color:#33cc33\">Correct</span>"
      ],
      "text/plain": [
       "Correct"
      ]
     },
     "metadata": {},
     "output_type": "display_data"
    }
   ],
   "source": [
    "num_timestamp_fields = 2 # Put your answer here\n",
    "\n",
    "# Check your answer\n",
    "q_2.check()"
   ]
  },
  {
   "cell_type": "markdown",
   "id": "6be1449b",
   "metadata": {
    "papermill": {
     "duration": 0.005536,
     "end_time": "2025-02-11T01:34:00.759289",
     "exception": false,
     "start_time": "2025-02-11T01:34:00.753753",
     "status": "completed"
    },
    "tags": []
   },
   "source": [
    "For a hint or the solution, uncomment the appropriate line below."
   ]
  },
  {
   "cell_type": "code",
   "execution_count": 8,
   "id": "2051431f",
   "metadata": {
    "execution": {
     "iopub.execute_input": "2025-02-11T01:34:00.772333Z",
     "iopub.status.busy": "2025-02-11T01:34:00.771962Z",
     "iopub.status.idle": "2025-02-11T01:34:00.782655Z",
     "shell.execute_reply": "2025-02-11T01:34:00.781721Z"
    },
    "papermill": {
     "duration": 0.019005,
     "end_time": "2025-02-11T01:34:00.784229",
     "exception": false,
     "start_time": "2025-02-11T01:34:00.765224",
     "status": "completed"
    },
    "tags": []
   },
   "outputs": [
    {
     "data": {
      "application/javascript": [
       "parent.postMessage({\"jupyterEvent\": \"custom.exercise_interaction\", \"data\": {\"interactionType\": 2, \"questionType\": 1, \"questionId\": \"2_CountTimestampFields\", \"learnToolsVersion\": \"0.3.4\", \"valueTowardsCompletion\": 0.0, \"failureMessage\": \"\", \"exceptionClass\": \"\", \"trace\": \"\", \"outcomeType\": 4}}, \"*\")"
      ],
      "text/plain": [
       "<IPython.core.display.Javascript object>"
      ]
     },
     "metadata": {},
     "output_type": "display_data"
    },
    {
     "data": {
      "text/markdown": [
       "<span style=\"color:#3366cc\">Hint:</span> Begin by fetching the `crime` table. Then take a look at the table schema, and check the field type of each column.  How many times does `'TIMESTAMP'` appear?"
      ],
      "text/plain": [
       "Hint: Begin by fetching the `crime` table. Then take a look at the table schema, and check the field type of each column.  How many times does `'TIMESTAMP'` appear?"
      ]
     },
     "metadata": {},
     "output_type": "display_data"
    },
    {
     "data": {
      "application/javascript": [
       "parent.postMessage({\"jupyterEvent\": \"custom.exercise_interaction\", \"data\": {\"interactionType\": 3, \"questionType\": 1, \"questionId\": \"2_CountTimestampFields\", \"learnToolsVersion\": \"0.3.4\", \"valueTowardsCompletion\": 0.0, \"failureMessage\": \"\", \"exceptionClass\": \"\", \"trace\": \"\", \"outcomeType\": 4}}, \"*\")"
      ],
      "text/plain": [
       "<IPython.core.display.Javascript object>"
      ]
     },
     "metadata": {},
     "output_type": "display_data"
    },
    {
     "data": {
      "text/markdown": [
       "<span style=\"color:#33cc99\">Solution:</span> \n",
       "```python\n",
       "\n",
       "# Construct a reference to the \"crime\" table\n",
       "table_ref = dataset_ref.table(\"crime\")\n",
       "\n",
       "# API request - fetch the table\n",
       "table = client.get_table(table_ref)\n",
       "\n",
       "# Print information on all the columns in the \"crime\" table in the \"chicago_crime\" dataset\n",
       "print(table.schema)\n",
       "\n",
       "num_timestamp_fields = 2\n",
       "\n",
       "```"
      ],
      "text/plain": [
       "Solution: \n",
       "```python\n",
       "\n",
       "# Construct a reference to the \"crime\" table\n",
       "table_ref = dataset_ref.table(\"crime\")\n",
       "\n",
       "# API request - fetch the table\n",
       "table = client.get_table(table_ref)\n",
       "\n",
       "# Print information on all the columns in the \"crime\" table in the \"chicago_crime\" dataset\n",
       "print(table.schema)\n",
       "\n",
       "num_timestamp_fields = 2\n",
       "\n",
       "```"
      ]
     },
     "metadata": {},
     "output_type": "display_data"
    }
   ],
   "source": [
    "q_2.hint()\n",
    "q_2.solution()"
   ]
  },
  {
   "cell_type": "markdown",
   "id": "dc0d3cfd",
   "metadata": {
    "papermill": {
     "duration": 0.006272,
     "end_time": "2025-02-11T01:34:00.796874",
     "exception": false,
     "start_time": "2025-02-11T01:34:00.790602",
     "status": "completed"
    },
    "tags": []
   },
   "source": [
    "### 3) Create a crime map\n",
    "\n",
    "If you wanted to create a map with a dot at the location of each crime, what are the names of the two fields you likely need to pull out of the `crime` table to plot the crimes on a map?"
   ]
  },
  {
   "cell_type": "code",
   "execution_count": 9,
   "id": "a4d1fb8e",
   "metadata": {
    "execution": {
     "iopub.execute_input": "2025-02-11T01:34:00.810353Z",
     "iopub.status.busy": "2025-02-11T01:34:00.809996Z",
     "iopub.status.idle": "2025-02-11T01:34:01.631830Z",
     "shell.execute_reply": "2025-02-11T01:34:01.630653Z"
    },
    "papermill": {
     "duration": 0.830652,
     "end_time": "2025-02-11T01:34:01.633654",
     "exception": false,
     "start_time": "2025-02-11T01:34:00.803002",
     "status": "completed"
    },
    "tags": []
   },
   "outputs": [
    {
     "data": {
      "text/html": [
       "<div>\n",
       "<style scoped>\n",
       "    .dataframe tbody tr th:only-of-type {\n",
       "        vertical-align: middle;\n",
       "    }\n",
       "\n",
       "    .dataframe tbody tr th {\n",
       "        vertical-align: top;\n",
       "    }\n",
       "\n",
       "    .dataframe thead th {\n",
       "        text-align: right;\n",
       "    }\n",
       "</style>\n",
       "<table border=\"1\" class=\"dataframe\">\n",
       "  <thead>\n",
       "    <tr style=\"text-align: right;\">\n",
       "      <th></th>\n",
       "      <th>0</th>\n",
       "      <th>1</th>\n",
       "      <th>2</th>\n",
       "      <th>3</th>\n",
       "    </tr>\n",
       "  </thead>\n",
       "  <tbody>\n",
       "    <tr>\n",
       "      <th>unique_key</th>\n",
       "      <td>10399299</td>\n",
       "      <td>10664493</td>\n",
       "      <td>7626942</td>\n",
       "      <td>8708059</td>\n",
       "    </tr>\n",
       "    <tr>\n",
       "      <th>case_number</th>\n",
       "      <td>HZ136111</td>\n",
       "      <td>HZ415217</td>\n",
       "      <td>HS428375</td>\n",
       "      <td>HV383818</td>\n",
       "    </tr>\n",
       "    <tr>\n",
       "      <th>date</th>\n",
       "      <td>2016-02-01 00:30:00+00:00</td>\n",
       "      <td>2016-08-25 08:00:00+00:00</td>\n",
       "      <td>2010-07-25 04:00:00+00:00</td>\n",
       "      <td>2012-07-15 06:30:00+00:00</td>\n",
       "    </tr>\n",
       "    <tr>\n",
       "      <th>block</th>\n",
       "      <td>0000X E LOWER WACKER DR</td>\n",
       "      <td>0000X E WACKER PL</td>\n",
       "      <td>005XX W MADISON ST</td>\n",
       "      <td>0000X W LAKE ST</td>\n",
       "    </tr>\n",
       "    <tr>\n",
       "      <th>iucr</th>\n",
       "      <td>0281</td>\n",
       "      <td>0281</td>\n",
       "      <td>0281</td>\n",
       "      <td>0312</td>\n",
       "    </tr>\n",
       "    <tr>\n",
       "      <th>primary_type</th>\n",
       "      <td>CRIM SEXUAL ASSAULT</td>\n",
       "      <td>CRIM SEXUAL ASSAULT</td>\n",
       "      <td>CRIM SEXUAL ASSAULT</td>\n",
       "      <td>ROBBERY</td>\n",
       "    </tr>\n",
       "    <tr>\n",
       "      <th>description</th>\n",
       "      <td>NON-AGGRAVATED</td>\n",
       "      <td>NON-AGGRAVATED</td>\n",
       "      <td>NON-AGGRAVATED</td>\n",
       "      <td>ARMED:KNIFE/CUTTING INSTRUMENT</td>\n",
       "    </tr>\n",
       "    <tr>\n",
       "      <th>location_description</th>\n",
       "      <td>SIDEWALK</td>\n",
       "      <td>OTHER</td>\n",
       "      <td>STREET</td>\n",
       "      <td>STREET</td>\n",
       "    </tr>\n",
       "    <tr>\n",
       "      <th>arrest</th>\n",
       "      <td>False</td>\n",
       "      <td>False</td>\n",
       "      <td>False</td>\n",
       "      <td>False</td>\n",
       "    </tr>\n",
       "    <tr>\n",
       "      <th>domestic</th>\n",
       "      <td>False</td>\n",
       "      <td>False</td>\n",
       "      <td>False</td>\n",
       "      <td>False</td>\n",
       "    </tr>\n",
       "    <tr>\n",
       "      <th>beat</th>\n",
       "      <td>111</td>\n",
       "      <td>111</td>\n",
       "      <td>111</td>\n",
       "      <td>111</td>\n",
       "    </tr>\n",
       "    <tr>\n",
       "      <th>district</th>\n",
       "      <td>1</td>\n",
       "      <td>1</td>\n",
       "      <td>1</td>\n",
       "      <td>1</td>\n",
       "    </tr>\n",
       "    <tr>\n",
       "      <th>ward</th>\n",
       "      <td>42</td>\n",
       "      <td>42</td>\n",
       "      <td>42</td>\n",
       "      <td>42</td>\n",
       "    </tr>\n",
       "    <tr>\n",
       "      <th>community_area</th>\n",
       "      <td>32</td>\n",
       "      <td>32</td>\n",
       "      <td>28</td>\n",
       "      <td>32</td>\n",
       "    </tr>\n",
       "    <tr>\n",
       "      <th>fbi_code</th>\n",
       "      <td>02</td>\n",
       "      <td>02</td>\n",
       "      <td>02</td>\n",
       "      <td>03</td>\n",
       "    </tr>\n",
       "    <tr>\n",
       "      <th>x_coordinate</th>\n",
       "      <td>1176671.0</td>\n",
       "      <td>1176954.0</td>\n",
       "      <td>1173039.0</td>\n",
       "      <td>1175846.0</td>\n",
       "    </tr>\n",
       "    <tr>\n",
       "      <th>y_coordinate</th>\n",
       "      <td>1902172.0</td>\n",
       "      <td>1902140.0</td>\n",
       "      <td>1900311.0</td>\n",
       "      <td>1901740.0</td>\n",
       "    </tr>\n",
       "    <tr>\n",
       "      <th>year</th>\n",
       "      <td>2016</td>\n",
       "      <td>2016</td>\n",
       "      <td>2010</td>\n",
       "      <td>2012</td>\n",
       "    </tr>\n",
       "    <tr>\n",
       "      <th>updated_on</th>\n",
       "      <td>2018-02-10 15:50:01+00:00</td>\n",
       "      <td>2018-02-10 15:50:01+00:00</td>\n",
       "      <td>2018-02-10 15:50:01+00:00</td>\n",
       "      <td>2016-02-04 06:33:39+00:00</td>\n",
       "    </tr>\n",
       "    <tr>\n",
       "      <th>latitude</th>\n",
       "      <td>41.886909</td>\n",
       "      <td>41.886815</td>\n",
       "      <td>41.881884</td>\n",
       "      <td>41.885743</td>\n",
       "    </tr>\n",
       "    <tr>\n",
       "      <th>longitude</th>\n",
       "      <td>-87.626668</td>\n",
       "      <td>-87.625629</td>\n",
       "      <td>-87.64006</td>\n",
       "      <td>-87.62971</td>\n",
       "    </tr>\n",
       "    <tr>\n",
       "      <th>location</th>\n",
       "      <td>(41.886909333, -87.626667672)</td>\n",
       "      <td>(41.886815123, -87.625629401)</td>\n",
       "      <td>(41.881883933, -87.640060441)</td>\n",
       "      <td>(41.885742504, -87.629710269)</td>\n",
       "    </tr>\n",
       "  </tbody>\n",
       "</table>\n",
       "</div>"
      ],
      "text/plain": [
       "                                                  0  \\\n",
       "unique_key                                 10399299   \n",
       "case_number                                HZ136111   \n",
       "date                      2016-02-01 00:30:00+00:00   \n",
       "block                       0000X E LOWER WACKER DR   \n",
       "iucr                                           0281   \n",
       "primary_type                    CRIM SEXUAL ASSAULT   \n",
       "description                          NON-AGGRAVATED   \n",
       "location_description                       SIDEWALK   \n",
       "arrest                                        False   \n",
       "domestic                                      False   \n",
       "beat                                            111   \n",
       "district                                          1   \n",
       "ward                                             42   \n",
       "community_area                                   32   \n",
       "fbi_code                                         02   \n",
       "x_coordinate                              1176671.0   \n",
       "y_coordinate                              1902172.0   \n",
       "year                                           2016   \n",
       "updated_on                2018-02-10 15:50:01+00:00   \n",
       "latitude                                  41.886909   \n",
       "longitude                                -87.626668   \n",
       "location              (41.886909333, -87.626667672)   \n",
       "\n",
       "                                                  1  \\\n",
       "unique_key                                 10664493   \n",
       "case_number                                HZ415217   \n",
       "date                      2016-08-25 08:00:00+00:00   \n",
       "block                             0000X E WACKER PL   \n",
       "iucr                                           0281   \n",
       "primary_type                    CRIM SEXUAL ASSAULT   \n",
       "description                          NON-AGGRAVATED   \n",
       "location_description                          OTHER   \n",
       "arrest                                        False   \n",
       "domestic                                      False   \n",
       "beat                                            111   \n",
       "district                                          1   \n",
       "ward                                             42   \n",
       "community_area                                   32   \n",
       "fbi_code                                         02   \n",
       "x_coordinate                              1176954.0   \n",
       "y_coordinate                              1902140.0   \n",
       "year                                           2016   \n",
       "updated_on                2018-02-10 15:50:01+00:00   \n",
       "latitude                                  41.886815   \n",
       "longitude                                -87.625629   \n",
       "location              (41.886815123, -87.625629401)   \n",
       "\n",
       "                                                  2  \\\n",
       "unique_key                                  7626942   \n",
       "case_number                                HS428375   \n",
       "date                      2010-07-25 04:00:00+00:00   \n",
       "block                            005XX W MADISON ST   \n",
       "iucr                                           0281   \n",
       "primary_type                    CRIM SEXUAL ASSAULT   \n",
       "description                          NON-AGGRAVATED   \n",
       "location_description                         STREET   \n",
       "arrest                                        False   \n",
       "domestic                                      False   \n",
       "beat                                            111   \n",
       "district                                          1   \n",
       "ward                                             42   \n",
       "community_area                                   28   \n",
       "fbi_code                                         02   \n",
       "x_coordinate                              1173039.0   \n",
       "y_coordinate                              1900311.0   \n",
       "year                                           2010   \n",
       "updated_on                2018-02-10 15:50:01+00:00   \n",
       "latitude                                  41.881884   \n",
       "longitude                                 -87.64006   \n",
       "location              (41.881883933, -87.640060441)   \n",
       "\n",
       "                                                   3  \n",
       "unique_key                                   8708059  \n",
       "case_number                                 HV383818  \n",
       "date                       2012-07-15 06:30:00+00:00  \n",
       "block                                0000X W LAKE ST  \n",
       "iucr                                            0312  \n",
       "primary_type                                 ROBBERY  \n",
       "description           ARMED:KNIFE/CUTTING INSTRUMENT  \n",
       "location_description                          STREET  \n",
       "arrest                                         False  \n",
       "domestic                                       False  \n",
       "beat                                             111  \n",
       "district                                           1  \n",
       "ward                                              42  \n",
       "community_area                                    32  \n",
       "fbi_code                                          03  \n",
       "x_coordinate                               1175846.0  \n",
       "y_coordinate                               1901740.0  \n",
       "year                                            2012  \n",
       "updated_on                 2016-02-04 06:33:39+00:00  \n",
       "latitude                                   41.885743  \n",
       "longitude                                  -87.62971  \n",
       "location               (41.885742504, -87.629710269)  "
      ]
     },
     "execution_count": 9,
     "metadata": {},
     "output_type": "execute_result"
    }
   ],
   "source": [
    "# Write the code here to explore the data so you can find the answer\n",
    "client.list_rows(tcrime, max_results=4).to_dataframe().transpose()"
   ]
  },
  {
   "cell_type": "code",
   "execution_count": 10,
   "id": "00865bb5",
   "metadata": {
    "execution": {
     "iopub.execute_input": "2025-02-11T01:34:01.649044Z",
     "iopub.status.busy": "2025-02-11T01:34:01.648714Z",
     "iopub.status.idle": "2025-02-11T01:34:01.656194Z",
     "shell.execute_reply": "2025-02-11T01:34:01.655333Z"
    },
    "papermill": {
     "duration": 0.016919,
     "end_time": "2025-02-11T01:34:01.657927",
     "exception": false,
     "start_time": "2025-02-11T01:34:01.641008",
     "status": "completed"
    },
    "tags": []
   },
   "outputs": [
    {
     "data": {
      "application/javascript": [
       "parent.postMessage({\"jupyterEvent\": \"custom.exercise_interaction\", \"data\": {\"outcomeType\": 1, \"valueTowardsCompletion\": 0.3333333333333333, \"interactionType\": 1, \"questionType\": 2, \"questionId\": \"3_IdentifyFieldsForPlotting\", \"learnToolsVersion\": \"0.3.4\", \"failureMessage\": \"\", \"exceptionClass\": \"\", \"trace\": \"\"}}, \"*\")"
      ],
      "text/plain": [
       "<IPython.core.display.Javascript object>"
      ]
     },
     "metadata": {},
     "output_type": "display_data"
    },
    {
     "data": {
      "text/markdown": [
       "<span style=\"color:#33cc33\">Correct</span>"
      ],
      "text/plain": [
       "Correct"
      ]
     },
     "metadata": {},
     "output_type": "display_data"
    }
   ],
   "source": [
    "fields_for_plotting = [\"latitude\", \"longitude\"] # Put your answers here\n",
    "\n",
    "# Check your answer\n",
    "q_3.check()"
   ]
  },
  {
   "cell_type": "markdown",
   "id": "3c85b35f",
   "metadata": {
    "papermill": {
     "duration": 0.006857,
     "end_time": "2025-02-11T01:34:01.672233",
     "exception": false,
     "start_time": "2025-02-11T01:34:01.665376",
     "status": "completed"
    },
    "tags": []
   },
   "source": [
    "For a hint or the solution, uncomment the appropriate line below."
   ]
  },
  {
   "cell_type": "code",
   "execution_count": 11,
   "id": "b871d78b",
   "metadata": {
    "execution": {
     "iopub.execute_input": "2025-02-11T01:34:01.687330Z",
     "iopub.status.busy": "2025-02-11T01:34:01.687016Z",
     "iopub.status.idle": "2025-02-11T01:34:01.697329Z",
     "shell.execute_reply": "2025-02-11T01:34:01.696504Z"
    },
    "papermill": {
     "duration": 0.019648,
     "end_time": "2025-02-11T01:34:01.698907",
     "exception": false,
     "start_time": "2025-02-11T01:34:01.679259",
     "status": "completed"
    },
    "tags": []
   },
   "outputs": [
    {
     "data": {
      "application/javascript": [
       "parent.postMessage({\"jupyterEvent\": \"custom.exercise_interaction\", \"data\": {\"interactionType\": 2, \"questionType\": 2, \"questionId\": \"3_IdentifyFieldsForPlotting\", \"learnToolsVersion\": \"0.3.4\", \"valueTowardsCompletion\": 0.0, \"failureMessage\": \"\", \"exceptionClass\": \"\", \"trace\": \"\", \"outcomeType\": 4}}, \"*\")"
      ],
      "text/plain": [
       "<IPython.core.display.Javascript object>"
      ]
     },
     "metadata": {},
     "output_type": "display_data"
    },
    {
     "data": {
      "text/markdown": [
       "<span style=\"color:#3366cc\">Hint:</span> Look at the table schema.  There are a couple options, but two of the fields are things commonly used to plot on maps. Both are `'FLOAT'` types. Use quotes around the field names in your answer."
      ],
      "text/plain": [
       "Hint: Look at the table schema.  There are a couple options, but two of the fields are things commonly used to plot on maps. Both are `'FLOAT'` types. Use quotes around the field names in your answer."
      ]
     },
     "metadata": {},
     "output_type": "display_data"
    },
    {
     "data": {
      "application/javascript": [
       "parent.postMessage({\"jupyterEvent\": \"custom.exercise_interaction\", \"data\": {\"interactionType\": 3, \"questionType\": 2, \"questionId\": \"3_IdentifyFieldsForPlotting\", \"learnToolsVersion\": \"0.3.4\", \"valueTowardsCompletion\": 0.0, \"failureMessage\": \"\", \"exceptionClass\": \"\", \"trace\": \"\", \"outcomeType\": 4}}, \"*\")"
      ],
      "text/plain": [
       "<IPython.core.display.Javascript object>"
      ]
     },
     "metadata": {},
     "output_type": "display_data"
    },
    {
     "data": {
      "text/markdown": [
       "<span style=\"color:#33cc99\">Solution:</span> \n",
       "```python\n",
       "fields_for_plotting = ['latitude', 'longitude']\n",
       "```"
      ],
      "text/plain": [
       "Solution: \n",
       "```python\n",
       "fields_for_plotting = ['latitude', 'longitude']\n",
       "```"
      ]
     },
     "metadata": {},
     "output_type": "display_data"
    }
   ],
   "source": [
    "q_3.hint()\n",
    "q_3.solution()"
   ]
  },
  {
   "cell_type": "markdown",
   "id": "01173330",
   "metadata": {
    "papermill": {
     "duration": 0.007003,
     "end_time": "2025-02-11T01:34:01.715096",
     "exception": false,
     "start_time": "2025-02-11T01:34:01.708093",
     "status": "completed"
    },
    "tags": []
   },
   "source": [
    "Thinking about the question above, there are a few columns that appear to have geographic data. Look at a few values (with the `list_rows()` command) to see if you can determine their relationship.  Two columns will still be hard to interpret. But it should be obvious how the `location` column relates to `latitude` and `longitude`."
   ]
  },
  {
   "cell_type": "code",
   "execution_count": 12,
   "id": "df8e0c52",
   "metadata": {
    "execution": {
     "iopub.execute_input": "2025-02-11T01:34:01.730767Z",
     "iopub.status.busy": "2025-02-11T01:34:01.730368Z",
     "iopub.status.idle": "2025-02-11T01:34:01.734404Z",
     "shell.execute_reply": "2025-02-11T01:34:01.733308Z"
    },
    "papermill": {
     "duration": 0.013942,
     "end_time": "2025-02-11T01:34:01.736206",
     "exception": false,
     "start_time": "2025-02-11T01:34:01.722264",
     "status": "completed"
    },
    "tags": []
   },
   "outputs": [],
   "source": [
    "# Scratch space for your code"
   ]
  },
  {
   "cell_type": "markdown",
   "id": "f0caee17",
   "metadata": {
    "papermill": {
     "duration": 0.007392,
     "end_time": "2025-02-11T01:34:01.751009",
     "exception": false,
     "start_time": "2025-02-11T01:34:01.743617",
     "status": "completed"
    },
    "tags": []
   },
   "source": [
    "# Keep going\n",
    "\n",
    "You've looked at the schema, but you haven't yet done anything exciting with the data itself. Things get more interesting when you get to the data, so keep going to **[write your first SQL query](https://www.kaggle.com/dansbecker/select-from-where).**"
   ]
  },
  {
   "cell_type": "markdown",
   "id": "100e496e",
   "metadata": {
    "papermill": {
     "duration": 0.00677,
     "end_time": "2025-02-11T01:34:01.765011",
     "exception": false,
     "start_time": "2025-02-11T01:34:01.758241",
     "status": "completed"
    },
    "tags": []
   },
   "source": [
    "---\n",
    "\n",
    "\n",
    "\n",
    "\n",
    "*Have questions or comments? Visit the [course discussion forum](https://www.kaggle.com/learn/intro-to-sql/discussion) to chat with other learners.*"
   ]
  }
 ],
 "metadata": {
  "kaggle": {
   "accelerator": "none",
   "dataSources": [
    {
     "datasetId": 22090,
     "sourceId": 28376,
     "sourceType": "datasetVersion"
    },
    {
     "datasetId": 6057,
     "sourceId": 285982,
     "sourceType": "datasetVersion"
    }
   ],
   "isGpuEnabled": false,
   "isInternetEnabled": false,
   "language": "python",
   "sourceType": "notebook"
  },
  "kernelspec": {
   "display_name": "Python 3",
   "language": "python",
   "name": "python3"
  },
  "language_info": {
   "codemirror_mode": {
    "name": "ipython",
    "version": 3
   },
   "file_extension": ".py",
   "mimetype": "text/x-python",
   "name": "python",
   "nbconvert_exporter": "python",
   "pygments_lexer": "ipython3",
   "version": "3.10.12"
  },
  "papermill": {
   "default_parameters": {},
   "duration": 21.409479,
   "end_time": "2025-02-11T01:34:03.194870",
   "environment_variables": {},
   "exception": null,
   "input_path": "__notebook__.ipynb",
   "output_path": "__notebook__.ipynb",
   "parameters": {},
   "start_time": "2025-02-11T01:33:41.785391",
   "version": "2.6.0"
  }
 },
 "nbformat": 4,
 "nbformat_minor": 5
}
