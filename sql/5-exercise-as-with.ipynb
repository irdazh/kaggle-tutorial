{
 "cells": [
  {
   "cell_type": "markdown",
   "id": "d2c46213",
   "metadata": {
    "papermill": {
     "duration": 0.004968,
     "end_time": "2025-02-17T13:32:02.629954",
     "exception": false,
     "start_time": "2025-02-17T13:32:02.624986",
     "status": "completed"
    },
    "tags": []
   },
   "source": [
    "**This notebook is an exercise in the [SQL](https://www.kaggle.com/learn/intro-to-sql) course.  You can reference the tutorial at [this link](https://www.kaggle.com/dansbecker/as-with).**\n",
    "\n",
    "---\n"
   ]
  },
  {
   "cell_type": "markdown",
   "id": "f3c97d8a",
   "metadata": {
    "papermill": {
     "duration": 0.005742,
     "end_time": "2025-02-17T13:32:02.639626",
     "exception": false,
     "start_time": "2025-02-17T13:32:02.633884",
     "status": "completed"
    },
    "tags": []
   },
   "source": [
    "# Introduction\n",
    "\n",
    "You are getting to the point where you can own an analysis from beginning to end. So you'll do more data exploration in this exercise than you've done before.  Before you get started, run the following set-up code as usual. "
   ]
  },
  {
   "cell_type": "code",
   "execution_count": 1,
   "id": "b737a2f2",
   "metadata": {
    "execution": {
     "iopub.execute_input": "2025-02-17T13:32:02.649720Z",
     "iopub.status.busy": "2025-02-17T13:32:02.649357Z",
     "iopub.status.idle": "2025-02-17T13:32:39.989349Z",
     "shell.execute_reply": "2025-02-17T13:32:39.987587Z"
    },
    "papermill": {
     "duration": 37.349449,
     "end_time": "2025-02-17T13:32:39.993736",
     "exception": false,
     "start_time": "2025-02-17T13:32:02.644287",
     "status": "completed"
    },
    "tags": []
   },
   "outputs": [
    {
     "name": "stdout",
     "output_type": "stream",
     "text": [
      "Collecting git+https://github.com/Kaggle/learntools.git\r\n",
      "  Cloning https://github.com/Kaggle/learntools.git to /tmp/pip-req-build-1r1windy\r\n",
      "  Running command git clone --filter=blob:none --quiet https://github.com/Kaggle/learntools.git /tmp/pip-req-build-1r1windy\r\n",
      "  Resolved https://github.com/Kaggle/learntools.git to commit 010e3b5035354e15c073a0aca9e202c2e2beb742\r\n",
      "  Preparing metadata (setup.py) ... \u001b[?25l\u001b[?25hdone\r\n",
      "Building wheels for collected packages: learntools\r\n",
      "  Building wheel for learntools (setup.py) ... \u001b[?25l\u001b[?25hdone\r\n",
      "  Created wheel for learntools: filename=learntools-0.3.4-py3-none-any.whl size=269001 sha256=e668705d34b84dc7a7f2f469a0b57f29e7ede1aa1409a6ceaec5d682fe421b14\r\n",
      "  Stored in directory: /tmp/pip-ephem-wheel-cache-cnow9c1b/wheels/2f/6c/3c/aa9f50cfb5a862157cb4c7a5b34881828cf45404698255dced\r\n",
      "Successfully built learntools\r\n",
      "Installing collected packages: learntools\r\n",
      "Successfully installed learntools-0.3.4\r\n",
      "Using Kaggle's public dataset BigQuery integration.\n"
     ]
    },
    {
     "name": "stderr",
     "output_type": "stream",
     "text": [
      "/usr/local/lib/python3.10/dist-packages/google/cloud/bigquery/table.py:1727: UserWarning: BigQuery Storage module not found, fetch data with the REST endpoint instead.\n",
      "  warnings.warn(\n"
     ]
    },
    {
     "name": "stdout",
     "output_type": "stream",
     "text": [
      "Setup Complete\n"
     ]
    }
   ],
   "source": [
    "# Get most recent checking code\n",
    "!pip install -U -t /kaggle/working/ git+https://github.com/Kaggle/learntools.git\n",
    "# Set up feedback system\n",
    "from learntools.core import binder\n",
    "binder.bind(globals())\n",
    "from learntools.sql.ex5 import *\n",
    "print(\"Setup Complete\")"
   ]
  },
  {
   "cell_type": "markdown",
   "id": "2cc6ee3f",
   "metadata": {
    "papermill": {
     "duration": 0.00511,
     "end_time": "2025-02-17T13:32:40.006462",
     "exception": false,
     "start_time": "2025-02-17T13:32:40.001352",
     "status": "completed"
    },
    "tags": []
   },
   "source": [
    "You'll work with a dataset about taxi trips in the city of Chicago. Run the cell below to fetch the `chicago_taxi_trips` dataset."
   ]
  },
  {
   "cell_type": "code",
   "execution_count": 2,
   "id": "58e31320",
   "metadata": {
    "execution": {
     "iopub.execute_input": "2025-02-17T13:32:40.028614Z",
     "iopub.status.busy": "2025-02-17T13:32:40.027642Z",
     "iopub.status.idle": "2025-02-17T13:32:41.039098Z",
     "shell.execute_reply": "2025-02-17T13:32:41.037151Z"
    },
    "papermill": {
     "duration": 1.020895,
     "end_time": "2025-02-17T13:32:41.041892",
     "exception": false,
     "start_time": "2025-02-17T13:32:40.020997",
     "status": "completed"
    },
    "tags": []
   },
   "outputs": [
    {
     "name": "stdout",
     "output_type": "stream",
     "text": [
      "Using Kaggle's public dataset BigQuery integration.\n"
     ]
    }
   ],
   "source": [
    "from google.cloud import bigquery\n",
    "\n",
    "# Create a \"Client\" object\n",
    "client = bigquery.Client()\n",
    "\n",
    "# Construct a reference to the \"chicago_taxi_trips\" dataset\n",
    "dataset_ref = client.dataset(\"chicago_taxi_trips\", project=\"bigquery-public-data\")\n",
    "\n",
    "# API request - fetch the dataset\n",
    "dataset = client.get_dataset(dataset_ref)"
   ]
  },
  {
   "cell_type": "markdown",
   "id": "bfd0ef8c",
   "metadata": {
    "papermill": {
     "duration": 0.006871,
     "end_time": "2025-02-17T13:32:41.054867",
     "exception": false,
     "start_time": "2025-02-17T13:32:41.047996",
     "status": "completed"
    },
    "tags": []
   },
   "source": [
    "# Exercises\n",
    "\n",
    "You are curious how much slower traffic moves when traffic volume is high. This involves a few steps.\n",
    "\n",
    "### 1) Find the data\n",
    "Before you can access the data, you need to find the table name with the data.\n",
    "\n",
    "*Hint*: Tab completion is helpful whenever you can't remember a command. Type `client.` and then hit the tab key. Don't forget the period before hitting tab."
   ]
  },
  {
   "cell_type": "code",
   "execution_count": 3,
   "id": "bea7f3c2",
   "metadata": {
    "execution": {
     "iopub.execute_input": "2025-02-17T13:32:41.072866Z",
     "iopub.status.busy": "2025-02-17T13:32:41.072472Z",
     "iopub.status.idle": "2025-02-17T13:32:41.882232Z",
     "shell.execute_reply": "2025-02-17T13:32:41.881375Z"
    },
    "papermill": {
     "duration": 0.818494,
     "end_time": "2025-02-17T13:32:41.883807",
     "exception": false,
     "start_time": "2025-02-17T13:32:41.065313",
     "status": "completed"
    },
    "tags": []
   },
   "outputs": [
    {
     "name": "stdout",
     "output_type": "stream",
     "text": [
      "['taxi_trips']\n"
     ]
    },
    {
     "data": {
      "text/plain": [
       "[SchemaField('unique_key', 'STRING', 'REQUIRED', None, 'Unique identifier for the trip.', (), None),\n",
       " SchemaField('taxi_id', 'STRING', 'REQUIRED', None, 'A unique identifier for the taxi.', (), None),\n",
       " SchemaField('trip_start_timestamp', 'TIMESTAMP', 'NULLABLE', None, 'When the trip started, rounded to the nearest 15 minutes.', (), None),\n",
       " SchemaField('trip_end_timestamp', 'TIMESTAMP', 'NULLABLE', None, 'When the trip ended, rounded to the nearest 15 minutes.', (), None),\n",
       " SchemaField('trip_seconds', 'INTEGER', 'NULLABLE', None, 'Time of the trip in seconds.', (), None),\n",
       " SchemaField('trip_miles', 'FLOAT', 'NULLABLE', None, 'Distance of the trip in miles.', (), None),\n",
       " SchemaField('pickup_census_tract', 'INTEGER', 'NULLABLE', None, 'The Census Tract where the trip began. For privacy, this Census Tract is not shown for some trips.', (), None),\n",
       " SchemaField('dropoff_census_tract', 'INTEGER', 'NULLABLE', None, 'The Census Tract where the trip ended. For privacy, this Census Tract is not shown for some trips.', (), None),\n",
       " SchemaField('pickup_community_area', 'INTEGER', 'NULLABLE', None, 'The Community Area where the trip began.', (), None),\n",
       " SchemaField('dropoff_community_area', 'INTEGER', 'NULLABLE', None, 'The Community Area where the trip ended.', (), None),\n",
       " SchemaField('fare', 'FLOAT', 'NULLABLE', None, 'The fare for the trip.', (), None),\n",
       " SchemaField('tips', 'FLOAT', 'NULLABLE', None, 'The tip for the trip. Cash tips generally will not be recorded.', (), None),\n",
       " SchemaField('tolls', 'FLOAT', 'NULLABLE', None, 'The tolls for the trip.', (), None),\n",
       " SchemaField('extras', 'FLOAT', 'NULLABLE', None, 'Extra charges for the trip.', (), None),\n",
       " SchemaField('trip_total', 'FLOAT', 'NULLABLE', None, 'Total cost of the trip, the total of the fare, tips, tolls, and extras.', (), None),\n",
       " SchemaField('payment_type', 'STRING', 'NULLABLE', None, 'Type of payment for the trip.', (), None),\n",
       " SchemaField('company', 'STRING', 'NULLABLE', None, 'The taxi company.', (), None),\n",
       " SchemaField('pickup_latitude', 'FLOAT', 'NULLABLE', None, 'The latitude of the center of the pickup census tract or the community area if the census tract has been hidden for privacy.', (), None),\n",
       " SchemaField('pickup_longitude', 'FLOAT', 'NULLABLE', None, 'The longitude of the center of the pickup census tract or the community area if the census tract has been hidden for privacy.', (), None),\n",
       " SchemaField('pickup_location', 'STRING', 'NULLABLE', None, 'The location of the center of the pickup census tract or the community area if the census tract has been hidden for privacy.', (), None),\n",
       " SchemaField('dropoff_latitude', 'FLOAT', 'NULLABLE', None, 'The latitude of the center of the dropoff census tract or the community area if the census tract has been hidden for privacy.', (), None),\n",
       " SchemaField('dropoff_longitude', 'FLOAT', 'NULLABLE', None, 'The longitude of the center of the dropoff census tract or the community area if the census tract has been hidden for privacy.', (), None),\n",
       " SchemaField('dropoff_location', 'STRING', 'NULLABLE', None, 'The location of the center of the dropoff census tract or the community area if the census tract has been hidden for privacy.', (), None)]"
      ]
     },
     "execution_count": 3,
     "metadata": {},
     "output_type": "execute_result"
    }
   ],
   "source": [
    "# Your code here to find the table name\n",
    "tables = list(client.list_tables(dataset))\n",
    "print([tab.table_id for tab in tables])\n",
    "\n",
    "# table's name is 'taxi_trips'; get ref\n",
    "table_ref = dataset_ref.table(\"taxi_trips\")\n",
    "table = client.get_table(table_ref)\n",
    "\n",
    "table.schema"
   ]
  },
  {
   "cell_type": "code",
   "execution_count": 4,
   "id": "27b6c2d7",
   "metadata": {
    "execution": {
     "iopub.execute_input": "2025-02-17T13:32:41.897440Z",
     "iopub.status.busy": "2025-02-17T13:32:41.897106Z",
     "iopub.status.idle": "2025-02-17T13:32:41.905591Z",
     "shell.execute_reply": "2025-02-17T13:32:41.904134Z"
    },
    "papermill": {
     "duration": 0.018146,
     "end_time": "2025-02-17T13:32:41.907425",
     "exception": false,
     "start_time": "2025-02-17T13:32:41.889279",
     "status": "completed"
    },
    "tags": []
   },
   "outputs": [
    {
     "data": {
      "application/javascript": [
       "parent.postMessage({\"jupyterEvent\": \"custom.exercise_interaction\", \"data\": {\"outcomeType\": 1, \"valueTowardsCompletion\": 0.16666666666666666, \"interactionType\": 1, \"questionType\": 1, \"questionId\": \"1_GetTableName\", \"learnToolsVersion\": \"0.3.4\", \"failureMessage\": \"\", \"exceptionClass\": \"\", \"trace\": \"\"}}, \"*\")"
      ],
      "text/plain": [
       "<IPython.core.display.Javascript object>"
      ]
     },
     "metadata": {},
     "output_type": "display_data"
    },
    {
     "data": {
      "text/markdown": [
       "<span style=\"color:#33cc33\">Correct</span>"
      ],
      "text/plain": [
       "Correct"
      ]
     },
     "metadata": {},
     "output_type": "display_data"
    }
   ],
   "source": [
    "# Write the table name as a string below\n",
    "table_name = \"taxi_trips\"\n",
    "\n",
    "# Check your answer\n",
    "q_1.check()"
   ]
  },
  {
   "cell_type": "markdown",
   "id": "f76abd84",
   "metadata": {
    "papermill": {
     "duration": 0.006691,
     "end_time": "2025-02-17T13:32:41.919820",
     "exception": false,
     "start_time": "2025-02-17T13:32:41.913129",
     "status": "completed"
    },
    "tags": []
   },
   "source": [
    "For the solution, uncomment the line below."
   ]
  },
  {
   "cell_type": "code",
   "execution_count": 5,
   "id": "42fafdc5",
   "metadata": {
    "execution": {
     "iopub.execute_input": "2025-02-17T13:32:41.933356Z",
     "iopub.status.busy": "2025-02-17T13:32:41.933012Z",
     "iopub.status.idle": "2025-02-17T13:32:41.938915Z",
     "shell.execute_reply": "2025-02-17T13:32:41.936470Z"
    },
    "papermill": {
     "duration": 0.014744,
     "end_time": "2025-02-17T13:32:41.940959",
     "exception": false,
     "start_time": "2025-02-17T13:32:41.926215",
     "status": "completed"
    },
    "tags": []
   },
   "outputs": [],
   "source": [
    "#q_1.solution()"
   ]
  },
  {
   "cell_type": "markdown",
   "id": "279506dc",
   "metadata": {
    "papermill": {
     "duration": 0.005184,
     "end_time": "2025-02-17T13:32:41.951821",
     "exception": false,
     "start_time": "2025-02-17T13:32:41.946637",
     "status": "completed"
    },
    "tags": []
   },
   "source": [
    "### 2) Peek at the data\n",
    "\n",
    "Use the next code cell to peek at the top few rows of the data. Inspect the data and see if any issues with data quality are immediately obvious. "
   ]
  },
  {
   "cell_type": "code",
   "execution_count": 6,
   "id": "46915f80",
   "metadata": {
    "execution": {
     "iopub.execute_input": "2025-02-17T13:32:41.968760Z",
     "iopub.status.busy": "2025-02-17T13:32:41.968388Z",
     "iopub.status.idle": "2025-02-17T13:32:43.222162Z",
     "shell.execute_reply": "2025-02-17T13:32:43.220915Z"
    },
    "papermill": {
     "duration": 1.263035,
     "end_time": "2025-02-17T13:32:43.224233",
     "exception": false,
     "start_time": "2025-02-17T13:32:41.961198",
     "status": "completed"
    },
    "tags": []
   },
   "outputs": [
    {
     "name": "stderr",
     "output_type": "stream",
     "text": [
      "/usr/local/lib/python3.10/dist-packages/pandas/io/formats/format.py:1458: RuntimeWarning: invalid value encountered in greater\n",
      "  has_large_values = (abs_vals > 1e6).any()\n",
      "/usr/local/lib/python3.10/dist-packages/pandas/io/formats/format.py:1459: RuntimeWarning: invalid value encountered in less\n",
      "  has_small_values = ((abs_vals < 10 ** (-self.digits)) & (abs_vals > 0)).any()\n",
      "/usr/local/lib/python3.10/dist-packages/pandas/io/formats/format.py:1459: RuntimeWarning: invalid value encountered in greater\n",
      "  has_small_values = ((abs_vals < 10 ** (-self.digits)) & (abs_vals > 0)).any()\n",
      "/usr/local/lib/python3.10/dist-packages/pandas/io/formats/format.py:1458: RuntimeWarning: invalid value encountered in greater\n",
      "  has_large_values = (abs_vals > 1e6).any()\n",
      "/usr/local/lib/python3.10/dist-packages/pandas/io/formats/format.py:1459: RuntimeWarning: invalid value encountered in less\n",
      "  has_small_values = ((abs_vals < 10 ** (-self.digits)) & (abs_vals > 0)).any()\n",
      "/usr/local/lib/python3.10/dist-packages/pandas/io/formats/format.py:1459: RuntimeWarning: invalid value encountered in greater\n",
      "  has_small_values = ((abs_vals < 10 ** (-self.digits)) & (abs_vals > 0)).any()\n"
     ]
    },
    {
     "data": {
      "text/html": [
       "<div>\n",
       "<style scoped>\n",
       "    .dataframe tbody tr th:only-of-type {\n",
       "        vertical-align: middle;\n",
       "    }\n",
       "\n",
       "    .dataframe tbody tr th {\n",
       "        vertical-align: top;\n",
       "    }\n",
       "\n",
       "    .dataframe thead th {\n",
       "        text-align: right;\n",
       "    }\n",
       "</style>\n",
       "<table border=\"1\" class=\"dataframe\">\n",
       "  <thead>\n",
       "    <tr style=\"text-align: right;\">\n",
       "      <th></th>\n",
       "      <th>unique_key</th>\n",
       "      <th>taxi_id</th>\n",
       "      <th>trip_start_timestamp</th>\n",
       "      <th>trip_end_timestamp</th>\n",
       "      <th>trip_seconds</th>\n",
       "      <th>trip_miles</th>\n",
       "      <th>pickup_census_tract</th>\n",
       "      <th>dropoff_census_tract</th>\n",
       "      <th>pickup_community_area</th>\n",
       "      <th>dropoff_community_area</th>\n",
       "      <th>...</th>\n",
       "      <th>extras</th>\n",
       "      <th>trip_total</th>\n",
       "      <th>payment_type</th>\n",
       "      <th>company</th>\n",
       "      <th>pickup_latitude</th>\n",
       "      <th>pickup_longitude</th>\n",
       "      <th>pickup_location</th>\n",
       "      <th>dropoff_latitude</th>\n",
       "      <th>dropoff_longitude</th>\n",
       "      <th>dropoff_location</th>\n",
       "    </tr>\n",
       "  </thead>\n",
       "  <tbody>\n",
       "    <tr>\n",
       "      <th>0</th>\n",
       "      <td>5003bdd51918a9b5a52134096663b4d7e02395c5</td>\n",
       "      <td>2130bc5fd239a4e3b304662424fb4cc7db0ca7abf78cc5...</td>\n",
       "      <td>2013-02-25 14:15:00+00:00</td>\n",
       "      <td>2013-02-25 14:15:00+00:00</td>\n",
       "      <td>120</td>\n",
       "      <td>0.00</td>\n",
       "      <td>&lt;NA&gt;</td>\n",
       "      <td>&lt;NA&gt;</td>\n",
       "      <td>&lt;NA&gt;</td>\n",
       "      <td>&lt;NA&gt;</td>\n",
       "      <td>...</td>\n",
       "      <td>NaN</td>\n",
       "      <td>NaN</td>\n",
       "      <td>Cash</td>\n",
       "      <td>None</td>\n",
       "      <td>NaN</td>\n",
       "      <td>NaN</td>\n",
       "      <td>None</td>\n",
       "      <td>NaN</td>\n",
       "      <td>NaN</td>\n",
       "      <td>None</td>\n",
       "    </tr>\n",
       "    <tr>\n",
       "      <th>1</th>\n",
       "      <td>720534d264001b2644f682755b294067fdf1da21</td>\n",
       "      <td>4bb55b69e710d1792f5fd4888001f4ff0ce34040f976f8...</td>\n",
       "      <td>2013-06-02 08:15:00+00:00</td>\n",
       "      <td>2013-06-02 08:15:00+00:00</td>\n",
       "      <td>60</td>\n",
       "      <td>0.02</td>\n",
       "      <td>&lt;NA&gt;</td>\n",
       "      <td>&lt;NA&gt;</td>\n",
       "      <td>&lt;NA&gt;</td>\n",
       "      <td>&lt;NA&gt;</td>\n",
       "      <td>...</td>\n",
       "      <td>NaN</td>\n",
       "      <td>NaN</td>\n",
       "      <td>Cash</td>\n",
       "      <td>None</td>\n",
       "      <td>NaN</td>\n",
       "      <td>NaN</td>\n",
       "      <td>None</td>\n",
       "      <td>NaN</td>\n",
       "      <td>NaN</td>\n",
       "      <td>None</td>\n",
       "    </tr>\n",
       "    <tr>\n",
       "      <th>2</th>\n",
       "      <td>515b9a6d5234a4d1fb559dca27b3e1cc541a342d</td>\n",
       "      <td>4bb55b69e710d1792f5fd4888001f4ff0ce34040f976f8...</td>\n",
       "      <td>2013-06-24 06:15:00+00:00</td>\n",
       "      <td>2013-06-24 06:15:00+00:00</td>\n",
       "      <td>60</td>\n",
       "      <td>0.04</td>\n",
       "      <td>&lt;NA&gt;</td>\n",
       "      <td>&lt;NA&gt;</td>\n",
       "      <td>1</td>\n",
       "      <td>77</td>\n",
       "      <td>...</td>\n",
       "      <td>NaN</td>\n",
       "      <td>NaN</td>\n",
       "      <td>Cash</td>\n",
       "      <td>None</td>\n",
       "      <td>42.009623</td>\n",
       "      <td>-87.670167</td>\n",
       "      <td>POINT (-87.67016685690001 42.0096228806)</td>\n",
       "      <td>41.986712</td>\n",
       "      <td>-87.663416</td>\n",
       "      <td>POINT (-87.6634164054 41.9867117999)</td>\n",
       "    </tr>\n",
       "    <tr>\n",
       "      <th>3</th>\n",
       "      <td>8afd48d966bf464e93127f43b72a8e405596a8eb</td>\n",
       "      <td>0150188f8c8e8973a198d4af0b427fca8ff48df2662d6b...</td>\n",
       "      <td>2013-02-01 07:00:00+00:00</td>\n",
       "      <td>2013-02-02 00:00:00+00:00</td>\n",
       "      <td>61560</td>\n",
       "      <td>0.00</td>\n",
       "      <td>&lt;NA&gt;</td>\n",
       "      <td>&lt;NA&gt;</td>\n",
       "      <td>&lt;NA&gt;</td>\n",
       "      <td>&lt;NA&gt;</td>\n",
       "      <td>...</td>\n",
       "      <td>0.0</td>\n",
       "      <td>0.0</td>\n",
       "      <td>Cash</td>\n",
       "      <td>None</td>\n",
       "      <td>NaN</td>\n",
       "      <td>NaN</td>\n",
       "      <td>None</td>\n",
       "      <td>NaN</td>\n",
       "      <td>NaN</td>\n",
       "      <td>None</td>\n",
       "    </tr>\n",
       "    <tr>\n",
       "      <th>4</th>\n",
       "      <td>fe73a44f01fdd2a3c740a01f53e97ec2ced93455</td>\n",
       "      <td>0150188f8c8e8973a198d4af0b427fca8ff48df2662d6b...</td>\n",
       "      <td>2013-02-01 07:00:00+00:00</td>\n",
       "      <td>2013-02-02 00:00:00+00:00</td>\n",
       "      <td>60900</td>\n",
       "      <td>0.00</td>\n",
       "      <td>&lt;NA&gt;</td>\n",
       "      <td>&lt;NA&gt;</td>\n",
       "      <td>&lt;NA&gt;</td>\n",
       "      <td>&lt;NA&gt;</td>\n",
       "      <td>...</td>\n",
       "      <td>0.0</td>\n",
       "      <td>0.0</td>\n",
       "      <td>Cash</td>\n",
       "      <td>None</td>\n",
       "      <td>NaN</td>\n",
       "      <td>NaN</td>\n",
       "      <td>None</td>\n",
       "      <td>NaN</td>\n",
       "      <td>NaN</td>\n",
       "      <td>None</td>\n",
       "    </tr>\n",
       "  </tbody>\n",
       "</table>\n",
       "<p>5 rows × 23 columns</p>\n",
       "</div>"
      ],
      "text/plain": [
       "                                 unique_key  \\\n",
       "0  5003bdd51918a9b5a52134096663b4d7e02395c5   \n",
       "1  720534d264001b2644f682755b294067fdf1da21   \n",
       "2  515b9a6d5234a4d1fb559dca27b3e1cc541a342d   \n",
       "3  8afd48d966bf464e93127f43b72a8e405596a8eb   \n",
       "4  fe73a44f01fdd2a3c740a01f53e97ec2ced93455   \n",
       "\n",
       "                                             taxi_id  \\\n",
       "0  2130bc5fd239a4e3b304662424fb4cc7db0ca7abf78cc5...   \n",
       "1  4bb55b69e710d1792f5fd4888001f4ff0ce34040f976f8...   \n",
       "2  4bb55b69e710d1792f5fd4888001f4ff0ce34040f976f8...   \n",
       "3  0150188f8c8e8973a198d4af0b427fca8ff48df2662d6b...   \n",
       "4  0150188f8c8e8973a198d4af0b427fca8ff48df2662d6b...   \n",
       "\n",
       "       trip_start_timestamp        trip_end_timestamp  trip_seconds  \\\n",
       "0 2013-02-25 14:15:00+00:00 2013-02-25 14:15:00+00:00           120   \n",
       "1 2013-06-02 08:15:00+00:00 2013-06-02 08:15:00+00:00            60   \n",
       "2 2013-06-24 06:15:00+00:00 2013-06-24 06:15:00+00:00            60   \n",
       "3 2013-02-01 07:00:00+00:00 2013-02-02 00:00:00+00:00         61560   \n",
       "4 2013-02-01 07:00:00+00:00 2013-02-02 00:00:00+00:00         60900   \n",
       "\n",
       "   trip_miles  pickup_census_tract  dropoff_census_tract  \\\n",
       "0        0.00                 <NA>                  <NA>   \n",
       "1        0.02                 <NA>                  <NA>   \n",
       "2        0.04                 <NA>                  <NA>   \n",
       "3        0.00                 <NA>                  <NA>   \n",
       "4        0.00                 <NA>                  <NA>   \n",
       "\n",
       "   pickup_community_area  dropoff_community_area  ...  extras  trip_total  \\\n",
       "0                   <NA>                    <NA>  ...     NaN         NaN   \n",
       "1                   <NA>                    <NA>  ...     NaN         NaN   \n",
       "2                      1                      77  ...     NaN         NaN   \n",
       "3                   <NA>                    <NA>  ...     0.0         0.0   \n",
       "4                   <NA>                    <NA>  ...     0.0         0.0   \n",
       "\n",
       "   payment_type  company  pickup_latitude pickup_longitude  \\\n",
       "0          Cash     None              NaN              NaN   \n",
       "1          Cash     None              NaN              NaN   \n",
       "2          Cash     None        42.009623       -87.670167   \n",
       "3          Cash     None              NaN              NaN   \n",
       "4          Cash     None              NaN              NaN   \n",
       "\n",
       "                            pickup_location  dropoff_latitude  \\\n",
       "0                                      None               NaN   \n",
       "1                                      None               NaN   \n",
       "2  POINT (-87.67016685690001 42.0096228806)         41.986712   \n",
       "3                                      None               NaN   \n",
       "4                                      None               NaN   \n",
       "\n",
       "   dropoff_longitude                      dropoff_location  \n",
       "0                NaN                                  None  \n",
       "1                NaN                                  None  \n",
       "2         -87.663416  POINT (-87.6634164054 41.9867117999)  \n",
       "3                NaN                                  None  \n",
       "4                NaN                                  None  \n",
       "\n",
       "[5 rows x 23 columns]"
      ]
     },
     "execution_count": 6,
     "metadata": {},
     "output_type": "execute_result"
    }
   ],
   "source": [
    "# Your code here\n",
    "client.list_rows(table, max_results=5).to_dataframe()"
   ]
  },
  {
   "cell_type": "markdown",
   "id": "80225d66",
   "metadata": {
    "papermill": {
     "duration": 0.014046,
     "end_time": "2025-02-17T13:32:43.244332",
     "exception": false,
     "start_time": "2025-02-17T13:32:43.230286",
     "status": "completed"
    },
    "tags": []
   },
   "source": [
    "After deciding whether you see any important issues, run the code cell below."
   ]
  },
  {
   "cell_type": "code",
   "execution_count": 7,
   "id": "850951cd",
   "metadata": {
    "execution": {
     "iopub.execute_input": "2025-02-17T13:32:43.266793Z",
     "iopub.status.busy": "2025-02-17T13:32:43.266398Z",
     "iopub.status.idle": "2025-02-17T13:32:43.280009Z",
     "shell.execute_reply": "2025-02-17T13:32:43.276180Z"
    },
    "papermill": {
     "duration": 0.03211,
     "end_time": "2025-02-17T13:32:43.282133",
     "exception": false,
     "start_time": "2025-02-17T13:32:43.250023",
     "status": "completed"
    },
    "tags": []
   },
   "outputs": [
    {
     "data": {
      "application/javascript": [
       "parent.postMessage({\"jupyterEvent\": \"custom.exercise_interaction\", \"data\": {\"interactionType\": 3, \"questionType\": 4, \"questionId\": \"2_WhatsWrongWithData\", \"learnToolsVersion\": \"0.3.4\", \"valueTowardsCompletion\": 0.0, \"failureMessage\": \"\", \"exceptionClass\": \"\", \"trace\": \"\", \"outcomeType\": 4}}, \"*\")"
      ],
      "text/plain": [
       "<IPython.core.display.Javascript object>"
      ]
     },
     "metadata": {},
     "output_type": "display_data"
    },
    {
     "data": {
      "text/markdown": [
       "<span style=\"color:#33cc99\">Solution:</span> \n",
       "You can see the data by calling: \n",
       "```python\n",
       "# Construct a reference to the \"taxi_trips\" table\n",
       "table_ref = dataset_ref.table(\"taxi_trips\")\n",
       "\n",
       "# API request - fetch the table\n",
       "table = client.get_table(table_ref)\n",
       "\n",
       "# Preview the first five lines of the \"taxi_trips\" table\n",
       "client.list_rows(table, max_results=5).to_dataframe()\n",
       "```\n",
       "\n",
       "Some location fields have values of `None` or `NaN`. That is a problem if we want to use those fields.\n"
      ],
      "text/plain": [
       "Solution: \n",
       "You can see the data by calling: \n",
       "```python\n",
       "# Construct a reference to the \"taxi_trips\" table\n",
       "table_ref = dataset_ref.table(\"taxi_trips\")\n",
       "\n",
       "# API request - fetch the table\n",
       "table = client.get_table(table_ref)\n",
       "\n",
       "# Preview the first five lines of the \"taxi_trips\" table\n",
       "client.list_rows(table, max_results=5).to_dataframe()\n",
       "```\n",
       "\n",
       "Some location fields have values of `None` or `NaN`. That is a problem if we want to use those fields."
      ]
     },
     "metadata": {},
     "output_type": "display_data"
    }
   ],
   "source": [
    "# Check your answer (Run this code cell to receive credit!)\n",
    "q_2.solution()"
   ]
  },
  {
   "cell_type": "markdown",
   "id": "f6626b76",
   "metadata": {
    "papermill": {
     "duration": 0.007342,
     "end_time": "2025-02-17T13:32:43.295805",
     "exception": false,
     "start_time": "2025-02-17T13:32:43.288463",
     "status": "completed"
    },
    "tags": []
   },
   "source": [
    "### 3) Determine when this data is from\n",
    "\n",
    "If the data is sufficiently old, we might be careful before assuming the data is still relevant to traffic patterns today. Write a query that counts the number of trips in each year.  \n",
    "\n",
    "Your results should have two columns:\n",
    "- `year` - the year of the trips\n",
    "- `num_trips` - the number of trips in that year\n",
    "\n",
    "Hints:\n",
    "- When using **GROUP BY** and **ORDER BY**, you should refer to the columns by the alias `year` that you set at the top of the **SELECT** query.\n",
    "- The SQL code to **SELECT** the year from `trip_start_timestamp` is <code>SELECT EXTRACT(YEAR FROM trip_start_timestamp)</code>\n",
    "- The **FROM** field can be a little tricky until you are used to it.  The format is:\n",
    "    1. A backick (the symbol \\`).\n",
    "    2. The project name. In this case it is `bigquery-public-data`.\n",
    "    3. A period.\n",
    "    4. The dataset name. In this case, it is `chicago_taxi_trips`.\n",
    "    5. A period.\n",
    "    6. The table name. You used this as your answer in **1) Find the data**.\n",
    "    7. A backtick (the symbol \\`)."
   ]
  },
  {
   "cell_type": "code",
   "execution_count": 8,
   "id": "2f302bb1",
   "metadata": {
    "execution": {
     "iopub.execute_input": "2025-02-17T13:32:43.322207Z",
     "iopub.status.busy": "2025-02-17T13:32:43.321874Z",
     "iopub.status.idle": "2025-02-17T13:32:44.728159Z",
     "shell.execute_reply": "2025-02-17T13:32:44.726759Z"
    },
    "papermill": {
     "duration": 1.424525,
     "end_time": "2025-02-17T13:32:44.730480",
     "exception": false,
     "start_time": "2025-02-17T13:32:43.305955",
     "status": "completed"
    },
    "tags": []
   },
   "outputs": [
    {
     "name": "stderr",
     "output_type": "stream",
     "text": [
      "/usr/local/lib/python3.10/dist-packages/google/cloud/bigquery/table.py:1727: UserWarning: BigQuery Storage module not found, fetch data with the REST endpoint instead.\n",
      "  warnings.warn(\n"
     ]
    },
    {
     "name": "stdout",
     "output_type": "stream",
     "text": [
      "    year  num_trips\n",
      "0   2013   27217300\n",
      "1   2014   37395079\n",
      "2   2015   32385527\n",
      "3   2016   31756403\n",
      "4   2017   24979611\n",
      "5   2018   20731105\n",
      "6   2019   16476440\n",
      "7   2020    3888831\n",
      "8   2021    3947677\n",
      "9   2022    6382071\n",
      "10  2023    6495415\n"
     ]
    },
    {
     "data": {
      "application/javascript": [
       "parent.postMessage({\"jupyterEvent\": \"custom.exercise_interaction\", \"data\": {\"outcomeType\": 1, \"valueTowardsCompletion\": 0.16666666666666666, \"interactionType\": 1, \"questionType\": 2, \"questionId\": \"3_YearDistrib\", \"learnToolsVersion\": \"0.3.4\", \"failureMessage\": \"\", \"exceptionClass\": \"\", \"trace\": \"\"}}, \"*\")"
      ],
      "text/plain": [
       "<IPython.core.display.Javascript object>"
      ]
     },
     "metadata": {},
     "output_type": "display_data"
    },
    {
     "data": {
      "text/markdown": [
       "<span style=\"color:#33cc33\">Correct</span>"
      ],
      "text/plain": [
       "Correct"
      ]
     },
     "metadata": {},
     "output_type": "display_data"
    }
   ],
   "source": [
    "# Your code goes here\n",
    "rides_per_year_query = \"\"\"\n",
    "            SELECT EXTRACT(YEAR FROM trip_start_timestamp) AS year,\n",
    "                    COUNT(1) AS num_trips\n",
    "            FROM `bigquery-public-data.chicago_taxi_trips.taxi_trips`\n",
    "            GROUP BY year\n",
    "            ORDER BY year \n",
    "            \n",
    "\"\"\"\n",
    "\n",
    "# Set up the query (cancel the query if it would use too much of \n",
    "# your quota)\n",
    "safe_config = bigquery.QueryJobConfig(maximum_bytes_billed=10**10)\n",
    "rides_per_year_query_job = client.query(rides_per_year_query, job_config=safe_config) # Your code goes here\n",
    "\n",
    "# API request - run the query, and return a pandas DataFrame\n",
    "rides_per_year_result = rides_per_year_query_job.to_dataframe() # Your code goes here\n",
    "\n",
    "# View results\n",
    "print(rides_per_year_result)\n",
    "\n",
    "# Check your answer\n",
    "q_3.check()"
   ]
  },
  {
   "cell_type": "markdown",
   "id": "e9e5c341",
   "metadata": {
    "papermill": {
     "duration": 0.007685,
     "end_time": "2025-02-17T13:32:44.751865",
     "exception": false,
     "start_time": "2025-02-17T13:32:44.744180",
     "status": "completed"
    },
    "tags": []
   },
   "source": [
    "For a hint or the solution, uncomment the appropriate line below."
   ]
  },
  {
   "cell_type": "code",
   "execution_count": 9,
   "id": "323402cb",
   "metadata": {
    "execution": {
     "iopub.execute_input": "2025-02-17T13:32:44.778627Z",
     "iopub.status.busy": "2025-02-17T13:32:44.778320Z",
     "iopub.status.idle": "2025-02-17T13:32:44.786935Z",
     "shell.execute_reply": "2025-02-17T13:32:44.785913Z"
    },
    "papermill": {
     "duration": 0.022897,
     "end_time": "2025-02-17T13:32:44.788752",
     "exception": false,
     "start_time": "2025-02-17T13:32:44.765855",
     "status": "completed"
    },
    "tags": []
   },
   "outputs": [
    {
     "data": {
      "application/javascript": [
       "parent.postMessage({\"jupyterEvent\": \"custom.exercise_interaction\", \"data\": {\"interactionType\": 2, \"questionType\": 2, \"questionId\": \"3_YearDistrib\", \"learnToolsVersion\": \"0.3.4\", \"valueTowardsCompletion\": 0.0, \"failureMessage\": \"\", \"exceptionClass\": \"\", \"trace\": \"\", \"outcomeType\": 4}}, \"*\")"
      ],
      "text/plain": [
       "<IPython.core.display.Javascript object>"
      ]
     },
     "metadata": {},
     "output_type": "display_data"
    },
    {
     "data": {
      "text/markdown": [
       "<span style=\"color:#3366cc\">Hint:</span> Start your query with `SELECT EXTRACT(YEAR FROM trip_start_timestamp) AS year, COUNT(1) AS num_trips`."
      ],
      "text/plain": [
       "Hint: Start your query with `SELECT EXTRACT(YEAR FROM trip_start_timestamp) AS year, COUNT(1) AS num_trips`."
      ]
     },
     "metadata": {},
     "output_type": "display_data"
    }
   ],
   "source": [
    "q_3.hint()\n",
    "# q_3.solution()"
   ]
  },
  {
   "cell_type": "markdown",
   "id": "64bd6e8f",
   "metadata": {
    "papermill": {
     "duration": 0.005672,
     "end_time": "2025-02-17T13:32:44.810122",
     "exception": false,
     "start_time": "2025-02-17T13:32:44.804450",
     "status": "completed"
    },
    "tags": []
   },
   "source": [
    "### 4) Dive slightly deeper\n",
    "\n",
    "You'd like to take a closer look at rides from 2016.  Copy the query you used above in `rides_per_year_query` into the cell below for `rides_per_month_query`.  Then modify it in two ways:\n",
    "1. Use a **WHERE** clause to limit the query to data from 2016.\n",
    "2. Modify the query to extract the month rather than the year."
   ]
  },
  {
   "cell_type": "code",
   "execution_count": null,
   "id": "7943dcb8",
   "metadata": {
    "papermill": {
     "duration": 0.009272,
     "end_time": "2025-02-17T13:32:44.825164",
     "exception": false,
     "start_time": "2025-02-17T13:32:44.815892",
     "status": "completed"
    },
    "tags": []
   },
   "outputs": [],
   "source": []
  },
  {
   "cell_type": "code",
   "execution_count": 10,
   "id": "85242af9",
   "metadata": {
    "execution": {
     "iopub.execute_input": "2025-02-17T13:32:44.841448Z",
     "iopub.status.busy": "2025-02-17T13:32:44.840983Z",
     "iopub.status.idle": "2025-02-17T13:32:46.203915Z",
     "shell.execute_reply": "2025-02-17T13:32:46.202606Z"
    },
    "papermill": {
     "duration": 1.374337,
     "end_time": "2025-02-17T13:32:46.205948",
     "exception": false,
     "start_time": "2025-02-17T13:32:44.831611",
     "status": "completed"
    },
    "tags": []
   },
   "outputs": [
    {
     "name": "stderr",
     "output_type": "stream",
     "text": [
      "/usr/local/lib/python3.10/dist-packages/google/cloud/bigquery/table.py:1727: UserWarning: BigQuery Storage module not found, fetch data with the REST endpoint instead.\n",
      "  warnings.warn(\n"
     ]
    },
    {
     "name": "stdout",
     "output_type": "stream",
     "text": [
      "    month  num_trips\n",
      "0       1    2510389\n",
      "1       2    2568433\n",
      "2       3    2851106\n",
      "3       4    2854290\n",
      "4       5    2859147\n",
      "5       6    2841872\n",
      "6       7    2682912\n",
      "7       8    2629482\n",
      "8       9    2532650\n",
      "9      10    2725340\n",
      "10     11    2387790\n",
      "11     12    2312992\n"
     ]
    },
    {
     "data": {
      "application/javascript": [
       "parent.postMessage({\"jupyterEvent\": \"custom.exercise_interaction\", \"data\": {\"outcomeType\": 1, \"valueTowardsCompletion\": 0.16666666666666666, \"interactionType\": 1, \"questionType\": 2, \"questionId\": \"4_MonthDistrib\", \"learnToolsVersion\": \"0.3.4\", \"failureMessage\": \"\", \"exceptionClass\": \"\", \"trace\": \"\"}}, \"*\")"
      ],
      "text/plain": [
       "<IPython.core.display.Javascript object>"
      ]
     },
     "metadata": {},
     "output_type": "display_data"
    },
    {
     "data": {
      "text/markdown": [
       "<span style=\"color:#33cc33\">Correct</span>"
      ],
      "text/plain": [
       "Correct"
      ]
     },
     "metadata": {},
     "output_type": "display_data"
    }
   ],
   "source": [
    "# Your code goes here\n",
    "rides_per_month_query = \"\"\"\n",
    "        SELECT EXTRACT(MONTH FROM trip_start_timestamp) AS month, \n",
    "                COUNT(1) AS num_trips\n",
    "        FROM `bigquery-public-data.chicago_taxi_trips.taxi_trips`\n",
    "        WHERE EXTRACT(YEAR FROM trip_start_timestamp) = 2016\n",
    "        GROUP BY month\n",
    "        ORDER BY month\n",
    "\n",
    "\"\"\" \n",
    "\n",
    "# Set up the query\n",
    "safe_config = bigquery.QueryJobConfig(maximum_bytes_billed=10**10)\n",
    "rides_per_month_query_job = client.query(rides_per_month_query, job_config=safe_config) # Your code goes here\n",
    "\n",
    "# API request - run the query, and return a pandas DataFrame\n",
    "rides_per_month_result = rides_per_month_query_job.to_dataframe() # Your code goes here\n",
    "\n",
    "# View results\n",
    "print(rides_per_month_result)\n",
    "\n",
    "# Check your answer\n",
    "q_4.check()"
   ]
  },
  {
   "cell_type": "markdown",
   "id": "755d09a4",
   "metadata": {
    "papermill": {
     "duration": 0.011933,
     "end_time": "2025-02-17T13:32:46.225549",
     "exception": false,
     "start_time": "2025-02-17T13:32:46.213616",
     "status": "completed"
    },
    "tags": []
   },
   "source": [
    "For a hint or the solution, uncomment the appropriate line below."
   ]
  },
  {
   "cell_type": "code",
   "execution_count": 11,
   "id": "fc09f29a",
   "metadata": {
    "execution": {
     "iopub.execute_input": "2025-02-17T13:32:46.249892Z",
     "iopub.status.busy": "2025-02-17T13:32:46.249611Z",
     "iopub.status.idle": "2025-02-17T13:32:46.263708Z",
     "shell.execute_reply": "2025-02-17T13:32:46.262424Z"
    },
    "papermill": {
     "duration": 0.023972,
     "end_time": "2025-02-17T13:32:46.265963",
     "exception": false,
     "start_time": "2025-02-17T13:32:46.241991",
     "status": "completed"
    },
    "tags": []
   },
   "outputs": [
    {
     "data": {
      "application/javascript": [
       "parent.postMessage({\"jupyterEvent\": \"custom.exercise_interaction\", \"data\": {\"interactionType\": 2, \"questionType\": 2, \"questionId\": \"4_MonthDistrib\", \"learnToolsVersion\": \"0.3.4\", \"valueTowardsCompletion\": 0.0, \"failureMessage\": \"\", \"exceptionClass\": \"\", \"trace\": \"\", \"outcomeType\": 4}}, \"*\")"
      ],
      "text/plain": [
       "<IPython.core.display.Javascript object>"
      ]
     },
     "metadata": {},
     "output_type": "display_data"
    },
    {
     "data": {
      "text/markdown": [
       "<span style=\"color:#3366cc\">Hint:</span> Start your query with `SELECT EXTRACT(MONTH FROM trip_start_timestamp) AS month, COUNT(1) AS num_trips`."
      ],
      "text/plain": [
       "Hint: Start your query with `SELECT EXTRACT(MONTH FROM trip_start_timestamp) AS month, COUNT(1) AS num_trips`."
      ]
     },
     "metadata": {},
     "output_type": "display_data"
    }
   ],
   "source": [
    "q_4.hint()\n",
    "# q_4.solution()"
   ]
  },
  {
   "cell_type": "markdown",
   "id": "90159bac",
   "metadata": {
    "papermill": {
     "duration": 0.010471,
     "end_time": "2025-02-17T13:32:46.286405",
     "exception": false,
     "start_time": "2025-02-17T13:32:46.275934",
     "status": "completed"
    },
    "tags": []
   },
   "source": [
    "### 5) Write the query\n",
    "\n",
    "It's time to step up the sophistication of your queries.  Write a query that shows, for each hour of the day in the dataset, the corresponding number of trips and average speed.\n",
    "\n",
    "Your results should have three columns:\n",
    "- `hour_of_day` - sort by this column, which holds the result of extracting the hour from `trip_start_timestamp`.\n",
    "- `num_trips` - the count of the total number of trips in each hour of the day (e.g. how many trips were started between 6AM and 7AM, independent of which day it occurred on).\n",
    "- `avg_mph` - the average speed, measured in miles per hour, for trips that started in that hour of the day.  Average speed in miles per hour is calculated as `3600 * SUM(trip_miles) / SUM(trip_seconds)`. (The value 3600 is used to convert from seconds to hours.)\n",
    "\n",
    "Restrict your query to data meeting the following criteria:\n",
    "- a `trip_start_timestamp` > **2016-01-01** and < **2016-04-01**\n",
    "- `trip_seconds` > 0 and `trip_miles` > 0\n",
    "\n",
    "You will use a common table expression (CTE) to select just the relevant rides.  Because this dataset is very big, this CTE should select only the columns you'll need to create the final output (though you won't actually create those in the CTE -- instead you'll create those in the later **SELECT** statement below the CTE).\n",
    "\n",
    "This is a much harder query than anything you've written so far.  Good luck!"
   ]
  },
  {
   "cell_type": "code",
   "execution_count": 12,
   "id": "cf3f869e",
   "metadata": {
    "execution": {
     "iopub.execute_input": "2025-02-17T13:32:46.307279Z",
     "iopub.status.busy": "2025-02-17T13:32:46.306968Z",
     "iopub.status.idle": "2025-02-17T13:32:47.349582Z",
     "shell.execute_reply": "2025-02-17T13:32:47.348372Z"
    },
    "papermill": {
     "duration": 1.05422,
     "end_time": "2025-02-17T13:32:47.351006",
     "exception": false,
     "start_time": "2025-02-17T13:32:46.296786",
     "status": "completed"
    },
    "tags": []
   },
   "outputs": [
    {
     "data": {
      "text/html": [
       "<div>\n",
       "<style scoped>\n",
       "    .dataframe tbody tr th:only-of-type {\n",
       "        vertical-align: middle;\n",
       "    }\n",
       "\n",
       "    .dataframe tbody tr th {\n",
       "        vertical-align: top;\n",
       "    }\n",
       "\n",
       "    .dataframe thead th {\n",
       "        text-align: right;\n",
       "    }\n",
       "</style>\n",
       "<table border=\"1\" class=\"dataframe\">\n",
       "  <thead>\n",
       "    <tr style=\"text-align: right;\">\n",
       "      <th></th>\n",
       "      <th>0</th>\n",
       "      <th>1</th>\n",
       "    </tr>\n",
       "  </thead>\n",
       "  <tbody>\n",
       "    <tr>\n",
       "      <th>unique_key</th>\n",
       "      <td>5003bdd51918a9b5a52134096663b4d7e02395c5</td>\n",
       "      <td>720534d264001b2644f682755b294067fdf1da21</td>\n",
       "    </tr>\n",
       "    <tr>\n",
       "      <th>taxi_id</th>\n",
       "      <td>2130bc5fd239a4e3b304662424fb4cc7db0ca7abf78cc5...</td>\n",
       "      <td>4bb55b69e710d1792f5fd4888001f4ff0ce34040f976f8...</td>\n",
       "    </tr>\n",
       "    <tr>\n",
       "      <th>trip_start_timestamp</th>\n",
       "      <td>2013-02-25 14:15:00+00:00</td>\n",
       "      <td>2013-06-02 08:15:00+00:00</td>\n",
       "    </tr>\n",
       "    <tr>\n",
       "      <th>trip_end_timestamp</th>\n",
       "      <td>2013-02-25 14:15:00+00:00</td>\n",
       "      <td>2013-06-02 08:15:00+00:00</td>\n",
       "    </tr>\n",
       "    <tr>\n",
       "      <th>trip_seconds</th>\n",
       "      <td>120</td>\n",
       "      <td>60</td>\n",
       "    </tr>\n",
       "    <tr>\n",
       "      <th>trip_miles</th>\n",
       "      <td>0.0</td>\n",
       "      <td>0.02</td>\n",
       "    </tr>\n",
       "    <tr>\n",
       "      <th>pickup_census_tract</th>\n",
       "      <td>&lt;NA&gt;</td>\n",
       "      <td>&lt;NA&gt;</td>\n",
       "    </tr>\n",
       "    <tr>\n",
       "      <th>dropoff_census_tract</th>\n",
       "      <td>&lt;NA&gt;</td>\n",
       "      <td>&lt;NA&gt;</td>\n",
       "    </tr>\n",
       "    <tr>\n",
       "      <th>pickup_community_area</th>\n",
       "      <td>&lt;NA&gt;</td>\n",
       "      <td>&lt;NA&gt;</td>\n",
       "    </tr>\n",
       "    <tr>\n",
       "      <th>dropoff_community_area</th>\n",
       "      <td>&lt;NA&gt;</td>\n",
       "      <td>&lt;NA&gt;</td>\n",
       "    </tr>\n",
       "    <tr>\n",
       "      <th>fare</th>\n",
       "      <td>NaN</td>\n",
       "      <td>NaN</td>\n",
       "    </tr>\n",
       "    <tr>\n",
       "      <th>tips</th>\n",
       "      <td>NaN</td>\n",
       "      <td>NaN</td>\n",
       "    </tr>\n",
       "    <tr>\n",
       "      <th>tolls</th>\n",
       "      <td>NaN</td>\n",
       "      <td>NaN</td>\n",
       "    </tr>\n",
       "    <tr>\n",
       "      <th>extras</th>\n",
       "      <td>NaN</td>\n",
       "      <td>NaN</td>\n",
       "    </tr>\n",
       "    <tr>\n",
       "      <th>trip_total</th>\n",
       "      <td>NaN</td>\n",
       "      <td>NaN</td>\n",
       "    </tr>\n",
       "    <tr>\n",
       "      <th>payment_type</th>\n",
       "      <td>Cash</td>\n",
       "      <td>Cash</td>\n",
       "    </tr>\n",
       "    <tr>\n",
       "      <th>company</th>\n",
       "      <td>None</td>\n",
       "      <td>None</td>\n",
       "    </tr>\n",
       "    <tr>\n",
       "      <th>pickup_latitude</th>\n",
       "      <td>NaN</td>\n",
       "      <td>NaN</td>\n",
       "    </tr>\n",
       "    <tr>\n",
       "      <th>pickup_longitude</th>\n",
       "      <td>NaN</td>\n",
       "      <td>NaN</td>\n",
       "    </tr>\n",
       "    <tr>\n",
       "      <th>pickup_location</th>\n",
       "      <td>None</td>\n",
       "      <td>None</td>\n",
       "    </tr>\n",
       "    <tr>\n",
       "      <th>dropoff_latitude</th>\n",
       "      <td>NaN</td>\n",
       "      <td>NaN</td>\n",
       "    </tr>\n",
       "    <tr>\n",
       "      <th>dropoff_longitude</th>\n",
       "      <td>NaN</td>\n",
       "      <td>NaN</td>\n",
       "    </tr>\n",
       "    <tr>\n",
       "      <th>dropoff_location</th>\n",
       "      <td>None</td>\n",
       "      <td>None</td>\n",
       "    </tr>\n",
       "  </tbody>\n",
       "</table>\n",
       "</div>"
      ],
      "text/plain": [
       "                                                                        0  \\\n",
       "unique_key                       5003bdd51918a9b5a52134096663b4d7e02395c5   \n",
       "taxi_id                 2130bc5fd239a4e3b304662424fb4cc7db0ca7abf78cc5...   \n",
       "trip_start_timestamp                            2013-02-25 14:15:00+00:00   \n",
       "trip_end_timestamp                              2013-02-25 14:15:00+00:00   \n",
       "trip_seconds                                                          120   \n",
       "trip_miles                                                            0.0   \n",
       "pickup_census_tract                                                  <NA>   \n",
       "dropoff_census_tract                                                 <NA>   \n",
       "pickup_community_area                                                <NA>   \n",
       "dropoff_community_area                                               <NA>   \n",
       "fare                                                                  NaN   \n",
       "tips                                                                  NaN   \n",
       "tolls                                                                 NaN   \n",
       "extras                                                                NaN   \n",
       "trip_total                                                            NaN   \n",
       "payment_type                                                         Cash   \n",
       "company                                                              None   \n",
       "pickup_latitude                                                       NaN   \n",
       "pickup_longitude                                                      NaN   \n",
       "pickup_location                                                      None   \n",
       "dropoff_latitude                                                      NaN   \n",
       "dropoff_longitude                                                     NaN   \n",
       "dropoff_location                                                     None   \n",
       "\n",
       "                                                                        1  \n",
       "unique_key                       720534d264001b2644f682755b294067fdf1da21  \n",
       "taxi_id                 4bb55b69e710d1792f5fd4888001f4ff0ce34040f976f8...  \n",
       "trip_start_timestamp                            2013-06-02 08:15:00+00:00  \n",
       "trip_end_timestamp                              2013-06-02 08:15:00+00:00  \n",
       "trip_seconds                                                           60  \n",
       "trip_miles                                                           0.02  \n",
       "pickup_census_tract                                                  <NA>  \n",
       "dropoff_census_tract                                                 <NA>  \n",
       "pickup_community_area                                                <NA>  \n",
       "dropoff_community_area                                               <NA>  \n",
       "fare                                                                  NaN  \n",
       "tips                                                                  NaN  \n",
       "tolls                                                                 NaN  \n",
       "extras                                                                NaN  \n",
       "trip_total                                                            NaN  \n",
       "payment_type                                                         Cash  \n",
       "company                                                              None  \n",
       "pickup_latitude                                                       NaN  \n",
       "pickup_longitude                                                      NaN  \n",
       "pickup_location                                                      None  \n",
       "dropoff_latitude                                                      NaN  \n",
       "dropoff_longitude                                                     NaN  \n",
       "dropoff_location                                                     None  "
      ]
     },
     "execution_count": 12,
     "metadata": {},
     "output_type": "execute_result"
    }
   ],
   "source": [
    "# rows and columns here. \n",
    "client.list_rows(table, max_results=2).to_dataframe().transpose()\n",
    "\n",
    "\n"
   ]
  },
  {
   "cell_type": "code",
   "execution_count": null,
   "id": "6c00e64f",
   "metadata": {
    "papermill": {
     "duration": 0.006276,
     "end_time": "2025-02-17T13:32:47.369060",
     "exception": false,
     "start_time": "2025-02-17T13:32:47.362784",
     "status": "completed"
    },
    "tags": []
   },
   "outputs": [],
   "source": []
  },
  {
   "cell_type": "code",
   "execution_count": 13,
   "id": "c9be19f0",
   "metadata": {
    "execution": {
     "iopub.execute_input": "2025-02-17T13:32:47.389950Z",
     "iopub.status.busy": "2025-02-17T13:32:47.389644Z",
     "iopub.status.idle": "2025-02-17T13:32:48.767786Z",
     "shell.execute_reply": "2025-02-17T13:32:48.766621Z"
    },
    "papermill": {
     "duration": 1.387631,
     "end_time": "2025-02-17T13:32:48.769156",
     "exception": false,
     "start_time": "2025-02-17T13:32:47.381525",
     "status": "completed"
    },
    "tags": []
   },
   "outputs": [
    {
     "name": "stderr",
     "output_type": "stream",
     "text": [
      "/usr/local/lib/python3.10/dist-packages/google/cloud/bigquery/table.py:1727: UserWarning: BigQuery Storage module not found, fetch data with the REST endpoint instead.\n",
      "  warnings.warn(\n"
     ]
    },
    {
     "name": "stdout",
     "output_type": "stream",
     "text": [
      "    hour_of_day  num_trips    avg_mph\n",
      "0             0     203092  20.191744\n",
      "1             1     178046  18.628598\n",
      "2             2     143447  18.444370\n",
      "3             3     108899  19.273107\n",
      "4             4      80067  27.599669\n",
      "5             5      75786  33.065604\n",
      "6             6     102254  28.533112\n",
      "7             7     187585  19.884592\n",
      "8             8     284223  16.787900\n",
      "9             9     306854  18.434124\n",
      "10           10     279762  20.091309\n",
      "11           11     294006  20.926340\n",
      "12           12     311522  20.063901\n",
      "13           13     317225  19.766321\n",
      "14           14     312629  19.309655\n",
      "15           15     319953  18.515564\n",
      "16           16     349455  17.168814\n",
      "17           17     394324  14.641375\n",
      "18           18     431991  15.381995\n",
      "19           19     416743  17.795008\n",
      "20           20     356279  20.347398\n",
      "21           21     318363  22.584731\n",
      "22           22     289886  21.129847\n",
      "23           23     241690  20.259757\n"
     ]
    },
    {
     "data": {
      "application/javascript": [
       "parent.postMessage({\"jupyterEvent\": \"custom.exercise_interaction\", \"data\": {\"outcomeType\": 1, \"valueTowardsCompletion\": 0.16666666666666666, \"interactionType\": 1, \"questionType\": 2, \"questionId\": \"5_TheLongQuery\", \"learnToolsVersion\": \"0.3.4\", \"failureMessage\": \"\", \"exceptionClass\": \"\", \"trace\": \"\"}}, \"*\")"
      ],
      "text/plain": [
       "<IPython.core.display.Javascript object>"
      ]
     },
     "metadata": {},
     "output_type": "display_data"
    },
    {
     "data": {
      "text/markdown": [
       "<span style=\"color:#33cc33\">Correct</span>"
      ],
      "text/plain": [
       "Correct"
      ]
     },
     "metadata": {},
     "output_type": "display_data"
    }
   ],
   "source": [
    "# Your code goes here\n",
    "speeds_query = \"\"\"\n",
    "               WITH RelevantRides AS\n",
    "               (\n",
    "                   SELECT EXTRACT(HOUR FROM trip_start_timestamp) as hour_of_day,\n",
    "                           trip_miles, \n",
    "                           trip_seconds \n",
    "                   FROM `bigquery-public-data.chicago_taxi_trips.taxi_trips`\n",
    "                   WHERE trip_start_timestamp > \"2016-01-01\" AND \n",
    "                           trip_start_timestamp < \"2016-04-01\" AND \n",
    "                           trip_seconds > 0 and trip_miles > 0\n",
    "               )\n",
    "               SELECT hour_of_day, COUNT(*) AS num_trips, 3600 * SUM(trip_miles) / SUM(trip_seconds) AS avg_mph\n",
    "               FROM RelevantRides\n",
    "               GROUP BY hour_of_day\n",
    "               ORDER BY hour_of_day\n",
    "               \"\"\"\n",
    "\n",
    "# Set up the query\n",
    "safe_config = bigquery.QueryJobConfig(maximum_bytes_billed=10**10)\n",
    "speeds_query_job = client.query(speeds_query, job_config=safe_config)\n",
    "\n",
    "# API request - run the query, and return a pandas DataFrame\n",
    "speeds_result = speeds_query_job.to_dataframe()# Your code here\n",
    "\n",
    "# View results\n",
    "print(speeds_result)\n",
    "\n",
    "# Check your answer\n",
    "q_5.check()"
   ]
  },
  {
   "cell_type": "markdown",
   "id": "5a724711",
   "metadata": {
    "papermill": {
     "duration": 0.006614,
     "end_time": "2025-02-17T13:32:48.784572",
     "exception": false,
     "start_time": "2025-02-17T13:32:48.777958",
     "status": "completed"
    },
    "tags": []
   },
   "source": [
    "For the solution, uncomment the appropriate line below."
   ]
  },
  {
   "cell_type": "code",
   "execution_count": 14,
   "id": "0a78ab54",
   "metadata": {
    "execution": {
     "iopub.execute_input": "2025-02-17T13:32:48.803767Z",
     "iopub.status.busy": "2025-02-17T13:32:48.803477Z",
     "iopub.status.idle": "2025-02-17T13:32:48.807348Z",
     "shell.execute_reply": "2025-02-17T13:32:48.806342Z"
    },
    "papermill": {
     "duration": 0.013869,
     "end_time": "2025-02-17T13:32:48.809068",
     "exception": false,
     "start_time": "2025-02-17T13:32:48.795199",
     "status": "completed"
    },
    "tags": []
   },
   "outputs": [],
   "source": [
    "# q_5.solution()"
   ]
  },
  {
   "cell_type": "markdown",
   "id": "ec790830",
   "metadata": {
    "papermill": {
     "duration": 0.007131,
     "end_time": "2025-02-17T13:32:48.828740",
     "exception": false,
     "start_time": "2025-02-17T13:32:48.821609",
     "status": "completed"
    },
    "tags": []
   },
   "source": [
    "That's a hard query. If you made good progress towards the solution, congratulations!"
   ]
  },
  {
   "cell_type": "markdown",
   "id": "1182167c",
   "metadata": {
    "papermill": {
     "duration": 0.010362,
     "end_time": "2025-02-17T13:32:48.846804",
     "exception": false,
     "start_time": "2025-02-17T13:32:48.836442",
     "status": "completed"
    },
    "tags": []
   },
   "source": [
    "# Keep going\n",
    "\n",
    "You can write very complex queries now with a single data source. But nothing expands the horizons of SQL as much as the ability to combine or **JOIN** tables.\n",
    "\n",
    "**[Click here](https://www.kaggle.com/dansbecker/joining-data)** to start the last lesson in the Intro to SQL course."
   ]
  },
  {
   "cell_type": "markdown",
   "id": "1ef1e7cf",
   "metadata": {
    "papermill": {
     "duration": 0.007253,
     "end_time": "2025-02-17T13:32:48.868911",
     "exception": false,
     "start_time": "2025-02-17T13:32:48.861658",
     "status": "completed"
    },
    "tags": []
   },
   "source": [
    "---\n",
    "\n",
    "\n",
    "\n",
    "\n",
    "*Have questions or comments? Visit the [course discussion forum](https://www.kaggle.com/learn/intro-to-sql/discussion) to chat with other learners.*"
   ]
  }
 ],
 "metadata": {
  "kaggle": {
   "accelerator": "none",
   "dataSources": [
    {
     "datasetId": 22219,
     "sourceId": 28536,
     "sourceType": "datasetVersion"
    },
    {
     "datasetId": 11496,
     "sourceId": 285947,
     "sourceType": "datasetVersion"
    }
   ],
   "isGpuEnabled": false,
   "isInternetEnabled": true,
   "language": "python",
   "sourceType": "notebook"
  },
  "kernelspec": {
   "display_name": "Python 3",
   "language": "python",
   "name": "python3"
  },
  "language_info": {
   "codemirror_mode": {
    "name": "ipython",
    "version": 3
   },
   "file_extension": ".py",
   "mimetype": "text/x-python",
   "name": "python",
   "nbconvert_exporter": "python",
   "pygments_lexer": "ipython3",
   "version": "3.10.12"
  },
  "papermill": {
   "default_parameters": {},
   "duration": 51.601017,
   "end_time": "2025-02-17T13:32:51.404770",
   "environment_variables": {},
   "exception": null,
   "input_path": "__notebook__.ipynb",
   "output_path": "__notebook__.ipynb",
   "parameters": {},
   "start_time": "2025-02-17T13:31:59.803753",
   "version": "2.6.0"
  }
 },
 "nbformat": 4,
 "nbformat_minor": 5
}
