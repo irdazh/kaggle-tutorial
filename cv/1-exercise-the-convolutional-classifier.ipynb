{
 "cells": [
  {
   "cell_type": "markdown",
   "id": "3fa1026e",
   "metadata": {
    "papermill": {
     "duration": 0.004404,
     "end_time": "2025-02-20T00:55:00.014321",
     "exception": false,
     "start_time": "2025-02-20T00:55:00.009917",
     "status": "completed"
    },
    "tags": []
   },
   "source": [
    "**This notebook is an exercise in the [Computer Vision](https://www.kaggle.com/learn/computer-vision) course.  You can reference the tutorial at [this link](https://www.kaggle.com/ryanholbrook/the-convolutional-classifier).**\n",
    "\n",
    "---\n"
   ]
  },
  {
   "cell_type": "markdown",
   "id": "ec34129d",
   "metadata": {
    "papermill": {
     "duration": 0.003621,
     "end_time": "2025-02-20T00:55:00.021865",
     "exception": false,
     "start_time": "2025-02-20T00:55:00.018244",
     "status": "completed"
    },
    "tags": []
   },
   "source": [
    "<blockquote style=\"margin-right:auto; margin-left:auto; padding: 1em; margin:24px;\">\n",
    "    <strong>Accelerate Training with a Kaggle GPU!</strong><br>\n",
    "Did you know Kaggle offers free time with a GPU accelerator? You can speed up training neural networks in this course by switching to <strong>GPU</strong> in the <em>Accelerator</em> option on the right. (It may already be turned on.) Two things to be aware of:\n",
    "<ul>\n",
    "<li>Changing the <em>Accelerator</em> option will cause the notebook session to restart. You'll need to rerun any setup code.\n",
    "<li>You can have only one GPU session at a time, so be sure to shut the notebook down after you've finished the exercise.\n",
    "</ul>\n",
    "</blockquote>"
   ]
  },
  {
   "cell_type": "markdown",
   "id": "962b0cd0",
   "metadata": {
    "papermill": {
     "duration": 0.003471,
     "end_time": "2025-02-20T00:55:00.028930",
     "exception": false,
     "start_time": "2025-02-20T00:55:00.025459",
     "status": "completed"
    },
    "tags": []
   },
   "source": [
    "# Introduction #\n",
    "\n",
    "In the tutorial, we saw how to build an image classifier by attaching a head of dense layers to a pretrained base. The base we used was from a model called **VGG16**. We saw that the VGG16 architecture was prone to overfitting this dataset. Over this course, you'll learn a number of ways you can improve upon this initial attempt.\n",
    "\n",
    "The first way you'll see is to use a base more appropriate to the dataset. The base this model comes from is called **InceptionV1** (also known as GoogLeNet). InceptionV1 was one of the early winners of the ImageNet competition. One of its successors, InceptionV4, is among the state of the art today.\n",
    "\n",
    "To get started, run the code cell below to set everything up."
   ]
  },
  {
   "cell_type": "code",
   "execution_count": 1,
   "id": "b714dca7",
   "metadata": {
    "execution": {
     "iopub.execute_input": "2025-02-20T00:55:00.037779Z",
     "iopub.status.busy": "2025-02-20T00:55:00.037395Z",
     "iopub.status.idle": "2025-02-20T00:55:21.267568Z",
     "shell.execute_reply": "2025-02-20T00:55:21.266862Z"
    },
    "lines_to_next_cell": 2,
    "papermill": {
     "duration": 21.236996,
     "end_time": "2025-02-20T00:55:21.269533",
     "exception": false,
     "start_time": "2025-02-20T00:55:00.032537",
     "status": "completed"
    },
    "tags": []
   },
   "outputs": [
    {
     "name": "stderr",
     "output_type": "stream",
     "text": [
      "2025-02-20 00:55:02.734944: E external/local_xla/xla/stream_executor/cuda/cuda_dnn.cc:9261] Unable to register cuDNN factory: Attempting to register factory for plugin cuDNN when one has already been registered\n",
      "2025-02-20 00:55:02.735078: E external/local_xla/xla/stream_executor/cuda/cuda_fft.cc:607] Unable to register cuFFT factory: Attempting to register factory for plugin cuFFT when one has already been registered\n",
      "2025-02-20 00:55:02.872743: E external/local_xla/xla/stream_executor/cuda/cuda_blas.cc:1515] Unable to register cuBLAS factory: Attempting to register factory for plugin cuBLAS when one has already been registered\n"
     ]
    },
    {
     "name": "stdout",
     "output_type": "stream",
     "text": [
      "Found 5117 files belonging to 2 classes.\n",
      "Found 5051 files belonging to 2 classes.\n"
     ]
    }
   ],
   "source": [
    "# Setup feedback system\n",
    "from learntools.core import binder\n",
    "binder.bind(globals())\n",
    "from learntools.computer_vision.ex1 import *\n",
    "\n",
    "# Imports\n",
    "import os, warnings\n",
    "import matplotlib.pyplot as plt\n",
    "from matplotlib import gridspec\n",
    "\n",
    "import numpy as np\n",
    "import tensorflow as tf\n",
    "from tensorflow.keras.preprocessing import image_dataset_from_directory\n",
    "\n",
    "# Reproducability\n",
    "def set_seed(seed=31415):\n",
    "    np.random.seed(seed)\n",
    "    tf.random.set_seed(seed)\n",
    "    os.environ['PYTHONHASHSEED'] = str(seed)\n",
    "    os.environ['TF_DETERMINISTIC_OPS'] = '1'\n",
    "set_seed()\n",
    "\n",
    "# Set Matplotlib defaults\n",
    "plt.rc('figure', autolayout=True)\n",
    "plt.rc('axes', labelweight='bold', labelsize='large',\n",
    "       titleweight='bold', titlesize=18, titlepad=10)\n",
    "plt.rc('image', cmap='magma')\n",
    "warnings.filterwarnings(\"ignore\") # to clean up output cells\n",
    "\n",
    "\n",
    "# Load training and validation sets\n",
    "ds_train_ = image_dataset_from_directory(\n",
    "    '../input/car-or-truck/train',\n",
    "    labels='inferred',\n",
    "    label_mode='binary',\n",
    "    image_size=[128, 128],\n",
    "    interpolation='nearest',\n",
    "    batch_size=64,\n",
    "    shuffle=True,\n",
    ")\n",
    "ds_valid_ = image_dataset_from_directory(\n",
    "    '../input/car-or-truck/valid',\n",
    "    labels='inferred',\n",
    "    label_mode='binary',\n",
    "    image_size=[128, 128],\n",
    "    interpolation='nearest',\n",
    "    batch_size=64,\n",
    "    shuffle=False,\n",
    ")\n",
    "\n",
    "# Data Pipeline\n",
    "def convert_to_float(image, label):\n",
    "    image = tf.image.convert_image_dtype(image, dtype=tf.float32)\n",
    "    return image, label\n",
    "\n",
    "AUTOTUNE = tf.data.experimental.AUTOTUNE\n",
    "ds_train = (\n",
    "    ds_train_\n",
    "    .map(convert_to_float)\n",
    "    .cache()\n",
    "    .prefetch(buffer_size=AUTOTUNE)\n",
    ")\n",
    "ds_valid = (\n",
    "    ds_valid_\n",
    "    .map(convert_to_float)\n",
    "    .cache()\n",
    "    .prefetch(buffer_size=AUTOTUNE)\n",
    ")\n"
   ]
  },
  {
   "cell_type": "markdown",
   "id": "8738f13b",
   "metadata": {
    "papermill": {
     "duration": 0.003596,
     "end_time": "2025-02-20T00:55:21.277253",
     "exception": false,
     "start_time": "2025-02-20T00:55:21.273657",
     "status": "completed"
    },
    "tags": []
   },
   "source": [
    "The **InceptionV1** model pretrained on ImageNet is available in the [TensorFlow Hub](https://www.tensorflow.org/hub/) repository, but we'll load it from a local copy. Run this cell to load InceptionV1 for your base."
   ]
  },
  {
   "cell_type": "code",
   "execution_count": 2,
   "id": "752d8e63",
   "metadata": {
    "execution": {
     "iopub.execute_input": "2025-02-20T00:55:21.285871Z",
     "iopub.status.busy": "2025-02-20T00:55:21.285354Z",
     "iopub.status.idle": "2025-02-20T00:55:24.773697Z",
     "shell.execute_reply": "2025-02-20T00:55:24.772813Z"
    },
    "lines_to_next_cell": 0,
    "papermill": {
     "duration": 3.501459,
     "end_time": "2025-02-20T00:55:24.782266",
     "exception": false,
     "start_time": "2025-02-20T00:55:21.280807",
     "status": "completed"
    },
    "tags": []
   },
   "outputs": [],
   "source": [
    "import tensorflow_hub as hub\n",
    "\n",
    "pretrained_base = tf.keras.models.load_model(\n",
    "    '../input/cv-course-models/cv-course-models/inceptionv1'\n",
    ")"
   ]
  },
  {
   "cell_type": "markdown",
   "id": "bde28292",
   "metadata": {
    "papermill": {
     "duration": 0.004031,
     "end_time": "2025-02-20T00:55:24.790910",
     "exception": false,
     "start_time": "2025-02-20T00:55:24.786879",
     "status": "completed"
    },
    "tags": []
   },
   "source": [
    "# 1) Define Pretrained Base #\n",
    "\n",
    "Now that you have a pretrained base to do our feature extraction, decide whether this base should be trainable or not."
   ]
  },
  {
   "cell_type": "code",
   "execution_count": 3,
   "id": "1864e6bb",
   "metadata": {
    "execution": {
     "iopub.execute_input": "2025-02-20T00:55:24.801039Z",
     "iopub.status.busy": "2025-02-20T00:55:24.800191Z",
     "iopub.status.idle": "2025-02-20T00:55:24.809351Z",
     "shell.execute_reply": "2025-02-20T00:55:24.808437Z"
    },
    "lines_to_next_cell": 0,
    "papermill": {
     "duration": 0.016086,
     "end_time": "2025-02-20T00:55:24.811080",
     "exception": false,
     "start_time": "2025-02-20T00:55:24.794994",
     "status": "completed"
    },
    "tags": []
   },
   "outputs": [
    {
     "data": {
      "application/javascript": [
       "parent.postMessage({\"jupyterEvent\": \"custom.exercise_interaction\", \"data\": {\"outcomeType\": 1, \"valueTowardsCompletion\": 0.25, \"interactionType\": 1, \"questionType\": 2, \"questionId\": \"1_Q1\", \"learnToolsVersion\": \"0.3.4\", \"failureMessage\": \"\", \"exceptionClass\": \"\", \"trace\": \"\"}}, \"*\")"
      ],
      "text/plain": [
       "<IPython.core.display.Javascript object>"
      ]
     },
     "metadata": {},
     "output_type": "display_data"
    },
    {
     "data": {
      "text/markdown": [
       "<span style=\"color:#33cc33\">Correct:</span> When doing transfer learning, it's generally not a good idea to retrain the entire base -- at least not without some care. The reason is that the random weights in the head will initially create large gradient updates, which propogate back into the base layers and destroy much of the pretraining. Using techniques known as **fine tuning** it's possible to further train the base on new data, but this requires some care to do well."
      ],
      "text/plain": [
       "Correct: When doing transfer learning, it's generally not a good idea to retrain the entire base -- at least not without some care. The reason is that the random weights in the head will initially create large gradient updates, which propogate back into the base layers and destroy much of the pretraining. Using techniques known as **fine tuning** it's possible to further train the base on new data, but this requires some care to do well."
      ]
     },
     "metadata": {},
     "output_type": "display_data"
    }
   ],
   "source": [
    "# YOUR_CODE_HERE\n",
    "pretrained_base.trainable = False\n",
    "\n",
    "# Check your answer\n",
    "q_1.check()"
   ]
  },
  {
   "cell_type": "code",
   "execution_count": 4,
   "id": "1e7775bf",
   "metadata": {
    "execution": {
     "iopub.execute_input": "2025-02-20T00:55:24.821149Z",
     "iopub.status.busy": "2025-02-20T00:55:24.820853Z",
     "iopub.status.idle": "2025-02-20T00:55:24.824602Z",
     "shell.execute_reply": "2025-02-20T00:55:24.823726Z"
    },
    "papermill": {
     "duration": 0.011008,
     "end_time": "2025-02-20T00:55:24.826450",
     "exception": false,
     "start_time": "2025-02-20T00:55:24.815442",
     "status": "completed"
    },
    "tags": []
   },
   "outputs": [],
   "source": [
    "# Lines below will give you a hint or solution code\n",
    "#q_1.hint()\n",
    "#q_1.solution()"
   ]
  },
  {
   "cell_type": "markdown",
   "id": "0585fc0c",
   "metadata": {
    "papermill": {
     "duration": 0.004042,
     "end_time": "2025-02-20T00:55:24.835812",
     "exception": false,
     "start_time": "2025-02-20T00:55:24.831770",
     "status": "completed"
    },
    "tags": []
   },
   "source": [
    "# 2) Attach Head #\n",
    "\n",
    "Now that the base is defined to do the feature extraction, create a head of `Dense` layers to perform the classification, following this diagram:\n",
    "\n",
    "<figure>\n",
    "<img src=\"https://storage.googleapis.com/kaggle-media/learn/images/i5VU7Ry.png\" alt=\"Diagram of the dense head.\">\n",
    "</figure>\n"
   ]
  },
  {
   "cell_type": "code",
   "execution_count": 5,
   "id": "92727d18",
   "metadata": {
    "execution": {
     "iopub.execute_input": "2025-02-20T00:55:24.845496Z",
     "iopub.status.busy": "2025-02-20T00:55:24.844926Z",
     "iopub.status.idle": "2025-02-20T00:55:24.863693Z",
     "shell.execute_reply": "2025-02-20T00:55:24.862614Z"
    },
    "lines_to_next_cell": 0,
    "papermill": {
     "duration": 0.025736,
     "end_time": "2025-02-20T00:55:24.865494",
     "exception": false,
     "start_time": "2025-02-20T00:55:24.839758",
     "status": "completed"
    },
    "tags": []
   },
   "outputs": [
    {
     "data": {
      "application/javascript": [
       "parent.postMessage({\"jupyterEvent\": \"custom.exercise_interaction\", \"data\": {\"outcomeType\": 1, \"valueTowardsCompletion\": 0.25, \"interactionType\": 1, \"questionType\": 2, \"questionId\": \"2_Q2\", \"learnToolsVersion\": \"0.3.4\", \"failureMessage\": \"\", \"exceptionClass\": \"\", \"trace\": \"\"}}, \"*\")"
      ],
      "text/plain": [
       "<IPython.core.display.Javascript object>"
      ]
     },
     "metadata": {},
     "output_type": "display_data"
    },
    {
     "data": {
      "text/markdown": [
       "<span style=\"color:#33cc33\">Correct</span>"
      ],
      "text/plain": [
       "Correct"
      ]
     },
     "metadata": {},
     "output_type": "display_data"
    }
   ],
   "source": [
    "from tensorflow import keras\n",
    "from tensorflow.keras import layers\n",
    "\n",
    "model = keras.Sequential([\n",
    "    pretrained_base,\n",
    "    layers.Flatten(),\n",
    "    # YOUR CODE HERE. Attach a head of dense layers.\n",
    "    layers.Dense(6, activation='relu'),\n",
    "    layers.Dense(1, activation='sigmoid')\n",
    "])\n",
    "\n",
    "# Check your answer\n",
    "q_2.check()"
   ]
  },
  {
   "cell_type": "code",
   "execution_count": 6,
   "id": "b7073fcb",
   "metadata": {
    "execution": {
     "iopub.execute_input": "2025-02-20T00:55:24.875996Z",
     "iopub.status.busy": "2025-02-20T00:55:24.875270Z",
     "iopub.status.idle": "2025-02-20T00:55:24.878906Z",
     "shell.execute_reply": "2025-02-20T00:55:24.878158Z"
    },
    "papermill": {
     "duration": 0.010479,
     "end_time": "2025-02-20T00:55:24.880562",
     "exception": false,
     "start_time": "2025-02-20T00:55:24.870083",
     "status": "completed"
    },
    "tags": []
   },
   "outputs": [],
   "source": [
    "# Lines below will give you a hint or solution code\n",
    "#q_2.hint()\n",
    "#q_2.solution()"
   ]
  },
  {
   "cell_type": "markdown",
   "id": "23f00f52",
   "metadata": {
    "papermill": {
     "duration": 0.003857,
     "end_time": "2025-02-20T00:55:24.888561",
     "exception": false,
     "start_time": "2025-02-20T00:55:24.884704",
     "status": "completed"
    },
    "tags": []
   },
   "source": [
    "# 3) Train #\n",
    "\n",
    "Before training a model in Keras, you need to specify an *optimizer* to perform the gradient descent, a *loss function* to be minimized, and (optionally) any *performance metrics*. The optimization algorithm we'll use for this course is called [\"Adam\"](https://keras.io/api/optimizers/adam/), which generally performs well regardless of what kind of problem you're trying to solve.\n",
    "\n",
    "The loss and the metrics, however, need to match the kind of problem you're trying to solve. Our problem is a **binary classification** problem: `Car` coded as 0, and `Truck` coded as 1. Choose an appropriate loss and an appropriate accuracy metric for binary classification."
   ]
  },
  {
   "cell_type": "code",
   "execution_count": 7,
   "id": "7ceaab38",
   "metadata": {
    "execution": {
     "iopub.execute_input": "2025-02-20T00:55:24.898370Z",
     "iopub.status.busy": "2025-02-20T00:55:24.897843Z",
     "iopub.status.idle": "2025-02-20T00:55:24.926746Z",
     "shell.execute_reply": "2025-02-20T00:55:24.925825Z"
    },
    "lines_to_next_cell": 0,
    "papermill": {
     "duration": 0.035715,
     "end_time": "2025-02-20T00:55:24.928558",
     "exception": false,
     "start_time": "2025-02-20T00:55:24.892843",
     "status": "completed"
    },
    "tags": []
   },
   "outputs": [
    {
     "data": {
      "application/javascript": [
       "parent.postMessage({\"jupyterEvent\": \"custom.exercise_interaction\", \"data\": {\"outcomeType\": 1, \"valueTowardsCompletion\": 0.25, \"interactionType\": 1, \"questionType\": 2, \"questionId\": \"3_Q3\", \"learnToolsVersion\": \"0.3.4\", \"failureMessage\": \"\", \"exceptionClass\": \"\", \"trace\": \"\"}}, \"*\")"
      ],
      "text/plain": [
       "<IPython.core.display.Javascript object>"
      ]
     },
     "metadata": {},
     "output_type": "display_data"
    },
    {
     "data": {
      "text/markdown": [
       "<span style=\"color:#33cc33\">Correct</span>"
      ],
      "text/plain": [
       "Correct"
      ]
     },
     "metadata": {},
     "output_type": "display_data"
    }
   ],
   "source": [
    "# YOUR CODE HERE: what loss function should you use for a binary\n",
    "# classification problem? (Your answer for each should be a string.)\n",
    "optimizer = tf.keras.optimizers.Adam(epsilon=0.01)\n",
    "model.compile(\n",
    "    optimizer=optimizer,\n",
    "    loss = 'binary_crossentropy',\n",
    "    metrics=['binary_accuracy'],\n",
    ")\n",
    "\n",
    "# Check your answer\n",
    "q_3.check()"
   ]
  },
  {
   "cell_type": "code",
   "execution_count": 8,
   "id": "cb4aea3c",
   "metadata": {
    "execution": {
     "iopub.execute_input": "2025-02-20T00:55:24.938922Z",
     "iopub.status.busy": "2025-02-20T00:55:24.938593Z",
     "iopub.status.idle": "2025-02-20T00:55:24.942127Z",
     "shell.execute_reply": "2025-02-20T00:55:24.941345Z"
    },
    "lines_to_next_cell": 0,
    "papermill": {
     "duration": 0.010663,
     "end_time": "2025-02-20T00:55:24.943978",
     "exception": false,
     "start_time": "2025-02-20T00:55:24.933315",
     "status": "completed"
    },
    "tags": []
   },
   "outputs": [],
   "source": [
    "# Lines below will give you a hint or solution code\n",
    "#q_3.hint()\n",
    "#q_3.solution()"
   ]
  },
  {
   "cell_type": "code",
   "execution_count": 9,
   "id": "80df383e",
   "metadata": {
    "execution": {
     "iopub.execute_input": "2025-02-20T00:55:24.954086Z",
     "iopub.status.busy": "2025-02-20T00:55:24.953828Z",
     "iopub.status.idle": "2025-02-20T00:57:27.800807Z",
     "shell.execute_reply": "2025-02-20T00:57:27.799786Z"
    },
    "papermill": {
     "duration": 122.90008,
     "end_time": "2025-02-20T00:57:27.848629",
     "exception": false,
     "start_time": "2025-02-20T00:55:24.948549",
     "status": "completed"
    },
    "tags": []
   },
   "outputs": [
    {
     "name": "stdout",
     "output_type": "stream",
     "text": [
      "Epoch 1/30\n"
     ]
    },
    {
     "name": "stderr",
     "output_type": "stream",
     "text": [
      "WARNING: All log messages before absl::InitializeLog() is called are written to STDERR\n",
      "I0000 00:00:1740012933.016065      74 device_compiler.h:186] Compiled cluster using XLA!  This line is logged at most once for the lifetime of the process.\n"
     ]
    },
    {
     "name": "stdout",
     "output_type": "stream",
     "text": [
      "80/80 [==============================] - 20s 149ms/step - loss: 0.5943 - binary_accuracy: 0.6684 - val_loss: 0.4651 - val_binary_accuracy: 0.7911\n",
      "Epoch 2/30\n",
      "80/80 [==============================] - 4s 44ms/step - loss: 0.4303 - binary_accuracy: 0.8038 - val_loss: 0.4070 - val_binary_accuracy: 0.8212\n",
      "Epoch 3/30\n",
      "80/80 [==============================] - 4s 44ms/step - loss: 0.3925 - binary_accuracy: 0.8269 - val_loss: 0.3895 - val_binary_accuracy: 0.8289\n",
      "Epoch 4/30\n",
      "80/80 [==============================] - 4s 45ms/step - loss: 0.3735 - binary_accuracy: 0.8339 - val_loss: 0.3794 - val_binary_accuracy: 0.8351\n",
      "Epoch 5/30\n",
      "80/80 [==============================] - 4s 44ms/step - loss: 0.3592 - binary_accuracy: 0.8419 - val_loss: 0.3718 - val_binary_accuracy: 0.8371\n",
      "Epoch 6/30\n",
      "80/80 [==============================] - 4s 45ms/step - loss: 0.3474 - binary_accuracy: 0.8493 - val_loss: 0.3673 - val_binary_accuracy: 0.8408\n",
      "Epoch 7/30\n",
      "80/80 [==============================] - 4s 45ms/step - loss: 0.3371 - binary_accuracy: 0.8575 - val_loss: 0.3623 - val_binary_accuracy: 0.8418\n",
      "Epoch 8/30\n",
      "80/80 [==============================] - 4s 44ms/step - loss: 0.3277 - binary_accuracy: 0.8614 - val_loss: 0.3590 - val_binary_accuracy: 0.8422\n",
      "Epoch 9/30\n",
      "80/80 [==============================] - 4s 45ms/step - loss: 0.3211 - binary_accuracy: 0.8634 - val_loss: 0.3590 - val_binary_accuracy: 0.8436\n",
      "Epoch 10/30\n",
      "80/80 [==============================] - 4s 44ms/step - loss: 0.3134 - binary_accuracy: 0.8691 - val_loss: 0.3552 - val_binary_accuracy: 0.8456\n",
      "Epoch 11/30\n",
      "80/80 [==============================] - 4s 45ms/step - loss: 0.3063 - binary_accuracy: 0.8757 - val_loss: 0.3525 - val_binary_accuracy: 0.8460\n",
      "Epoch 12/30\n",
      "80/80 [==============================] - 4s 44ms/step - loss: 0.3008 - binary_accuracy: 0.8784 - val_loss: 0.3507 - val_binary_accuracy: 0.8476\n",
      "Epoch 13/30\n",
      "80/80 [==============================] - 4s 45ms/step - loss: 0.2950 - binary_accuracy: 0.8812 - val_loss: 0.3481 - val_binary_accuracy: 0.8495\n",
      "Epoch 14/30\n",
      "80/80 [==============================] - 4s 44ms/step - loss: 0.2899 - binary_accuracy: 0.8839 - val_loss: 0.3473 - val_binary_accuracy: 0.8509\n",
      "Epoch 15/30\n",
      "80/80 [==============================] - 4s 45ms/step - loss: 0.2848 - binary_accuracy: 0.8861 - val_loss: 0.3460 - val_binary_accuracy: 0.8513\n",
      "Epoch 16/30\n",
      "80/80 [==============================] - 4s 45ms/step - loss: 0.2795 - binary_accuracy: 0.8867 - val_loss: 0.3445 - val_binary_accuracy: 0.8523\n",
      "Epoch 17/30\n",
      "80/80 [==============================] - 4s 45ms/step - loss: 0.2749 - binary_accuracy: 0.8904 - val_loss: 0.3413 - val_binary_accuracy: 0.8545\n",
      "Epoch 18/30\n",
      "80/80 [==============================] - 4s 45ms/step - loss: 0.2700 - binary_accuracy: 0.8929 - val_loss: 0.3393 - val_binary_accuracy: 0.8557\n",
      "Epoch 19/30\n",
      "80/80 [==============================] - 4s 44ms/step - loss: 0.2654 - binary_accuracy: 0.8964 - val_loss: 0.3386 - val_binary_accuracy: 0.8557\n",
      "Epoch 20/30\n",
      "80/80 [==============================] - 4s 45ms/step - loss: 0.2610 - binary_accuracy: 0.8974 - val_loss: 0.3406 - val_binary_accuracy: 0.8582\n",
      "Epoch 21/30\n",
      "80/80 [==============================] - 3s 44ms/step - loss: 0.2571 - binary_accuracy: 0.8992 - val_loss: 0.3428 - val_binary_accuracy: 0.8612\n",
      "Epoch 22/30\n",
      "80/80 [==============================] - 4s 44ms/step - loss: 0.2537 - binary_accuracy: 0.8988 - val_loss: 0.3415 - val_binary_accuracy: 0.8622\n",
      "Epoch 23/30\n",
      "80/80 [==============================] - 4s 44ms/step - loss: 0.2502 - binary_accuracy: 0.8996 - val_loss: 0.3432 - val_binary_accuracy: 0.8624\n",
      "Epoch 24/30\n",
      "80/80 [==============================] - 4s 44ms/step - loss: 0.2458 - binary_accuracy: 0.9001 - val_loss: 0.3402 - val_binary_accuracy: 0.8614\n",
      "Epoch 25/30\n",
      "80/80 [==============================] - 4s 45ms/step - loss: 0.2426 - binary_accuracy: 0.9019 - val_loss: 0.3413 - val_binary_accuracy: 0.8608\n",
      "Epoch 26/30\n",
      "80/80 [==============================] - 4s 44ms/step - loss: 0.2387 - binary_accuracy: 0.9050 - val_loss: 0.3419 - val_binary_accuracy: 0.8620\n",
      "Epoch 27/30\n",
      "80/80 [==============================] - 4s 45ms/step - loss: 0.2354 - binary_accuracy: 0.9064 - val_loss: 0.3410 - val_binary_accuracy: 0.8598\n",
      "Epoch 28/30\n",
      "80/80 [==============================] - 4s 44ms/step - loss: 0.2319 - binary_accuracy: 0.9078 - val_loss: 0.3430 - val_binary_accuracy: 0.8594\n",
      "Epoch 29/30\n",
      "80/80 [==============================] - 4s 44ms/step - loss: 0.2292 - binary_accuracy: 0.9099 - val_loss: 0.3432 - val_binary_accuracy: 0.8602\n",
      "Epoch 30/30\n",
      "80/80 [==============================] - 3s 44ms/step - loss: 0.2249 - binary_accuracy: 0.9101 - val_loss: 0.3450 - val_binary_accuracy: 0.8590\n"
     ]
    }
   ],
   "source": [
    "history = model.fit(\n",
    "    ds_train,\n",
    "    validation_data=ds_valid,\n",
    "    epochs=30,\n",
    ")"
   ]
  },
  {
   "cell_type": "markdown",
   "id": "2b554a95",
   "metadata": {
    "papermill": {
     "duration": 0.045749,
     "end_time": "2025-02-20T00:57:27.939640",
     "exception": false,
     "start_time": "2025-02-20T00:57:27.893891",
     "status": "completed"
    },
    "tags": []
   },
   "source": [
    "Run the cell below to plot the loss and metric curves for this training run."
   ]
  },
  {
   "cell_type": "code",
   "execution_count": 10,
   "id": "27b7b9bc",
   "metadata": {
    "execution": {
     "iopub.execute_input": "2025-02-20T00:57:28.080611Z",
     "iopub.status.busy": "2025-02-20T00:57:28.080259Z",
     "iopub.status.idle": "2025-02-20T00:57:28.663958Z",
     "shell.execute_reply": "2025-02-20T00:57:28.662941Z"
    },
    "papermill": {
     "duration": 0.680588,
     "end_time": "2025-02-20T00:57:28.665737",
     "exception": false,
     "start_time": "2025-02-20T00:57:27.985149",
     "status": "completed"
    },
    "tags": []
   },
   "outputs": [
    {
     "data": {
      "image/png": "[encoded data removed]",
      "text/plain": [
       "<Figure size 640x480 with 1 Axes>"
      ]
     },
     "metadata": {},
     "output_type": "display_data"
    },
    {
     "data": {
      "image/png": "[encoded data removed]",
      "text/plain": [
       "<Figure size 640x480 with 1 Axes>"
      ]
     },
     "metadata": {},
     "output_type": "display_data"
    }
   ],
   "source": [
    "import pandas as pd\n",
    "history_frame = pd.DataFrame(history.history)\n",
    "history_frame.loc[:, ['loss', 'val_loss']].plot()\n",
    "history_frame.loc[:, ['binary_accuracy', 'val_binary_accuracy']].plot();"
   ]
  },
  {
   "cell_type": "markdown",
   "id": "a7378450",
   "metadata": {
    "papermill": {
     "duration": 0.048789,
     "end_time": "2025-02-20T00:57:28.762457",
     "exception": false,
     "start_time": "2025-02-20T00:57:28.713668",
     "status": "completed"
    },
    "tags": []
   },
   "source": [
    "# 4) Examine Loss and Accuracy #\n",
    "\n",
    "Do you notice a difference between these learning curves and the curves for VGG16 from the tutorial? What does this difference tell you about what this model (InceptionV2) learned compared to VGG16? Are there ways in which one is better than the other? Worse?\n",
    "\n",
    "After you've thought about it, run the cell below to see the answer."
   ]
  },
  {
   "cell_type": "code",
   "execution_count": 11,
   "id": "1bafb055",
   "metadata": {
    "execution": {
     "iopub.execute_input": "2025-02-20T00:57:28.863397Z",
     "iopub.status.busy": "2025-02-20T00:57:28.863030Z",
     "iopub.status.idle": "2025-02-20T00:57:28.870238Z",
     "shell.execute_reply": "2025-02-20T00:57:28.869413Z"
    },
    "papermill": {
     "duration": 0.057979,
     "end_time": "2025-02-20T00:57:28.871902",
     "exception": false,
     "start_time": "2025-02-20T00:57:28.813923",
     "status": "completed"
    },
    "tags": []
   },
   "outputs": [
    {
     "data": {
      "application/javascript": [
       "parent.postMessage({\"jupyterEvent\": \"custom.exercise_interaction\", \"data\": {\"outcomeType\": 1, \"valueTowardsCompletion\": 0.25, \"interactionType\": 1, \"questionType\": 4, \"questionId\": \"4_Q4\", \"learnToolsVersion\": \"0.3.4\", \"failureMessage\": \"\", \"exceptionClass\": \"\", \"trace\": \"\"}}, \"*\")"
      ],
      "text/plain": [
       "<IPython.core.display.Javascript object>"
      ]
     },
     "metadata": {},
     "output_type": "display_data"
    },
    {
     "data": {
      "text/markdown": [
       "<span style=\"color:#33cc33\">Correct:</span> \n",
       "\n",
       "That the training loss and validation loss stay fairly close is evidence that the model isn't just memorizing the training data, but rather learning general properties of the two classes. But, because this model converges at a loss greater than the VGG16 model, it's likely that it is underfitting some, and could benefit from some extra capacity.\n"
      ],
      "text/plain": [
       "Correct: \n",
       "\n",
       "That the training loss and validation loss stay fairly close is evidence that the model isn't just memorizing the training data, but rather learning general properties of the two classes. But, because this model converges at a loss greater than the VGG16 model, it's likely that it is underfitting some, and could benefit from some extra capacity."
      ]
     },
     "metadata": {},
     "output_type": "display_data"
    }
   ],
   "source": [
    "# View the solution (Run this code cell to receive credit!)\n",
    "q_4.check()"
   ]
  },
  {
   "cell_type": "markdown",
   "id": "a5c18bb2",
   "metadata": {
    "papermill": {
     "duration": 0.045284,
     "end_time": "2025-02-20T00:57:28.963810",
     "exception": false,
     "start_time": "2025-02-20T00:57:28.918526",
     "status": "completed"
    },
    "tags": []
   },
   "source": [
    "# Conclusion #\n",
    "\n",
    "In this first lesson, you learned the basics of **convolutional image classifiers**, that they consist of a **base** for extracting features from images, and a **head** which uses the features to decide the image's class. You also saw how to build a classifier with **transfer learning** on pretrained base. "
   ]
  },
  {
   "cell_type": "markdown",
   "id": "2201aba7",
   "metadata": {
    "papermill": {
     "duration": 0.046656,
     "end_time": "2025-02-20T00:57:29.058160",
     "exception": false,
     "start_time": "2025-02-20T00:57:29.011504",
     "status": "completed"
    },
    "tags": []
   },
   "source": [
    "# Keep Going #\n",
    "\n",
    "Move on to [**Lesson 2**](https://www.kaggle.com/ryanholbrook/convolution-and-relu) for a detailed look at how the base does this feature extraction. (It's really cool!)"
   ]
  },
  {
   "cell_type": "markdown",
   "id": "553a112c",
   "metadata": {
    "papermill": {
     "duration": 0.047122,
     "end_time": "2025-02-20T00:57:29.153523",
     "exception": false,
     "start_time": "2025-02-20T00:57:29.106401",
     "status": "completed"
    },
    "tags": []
   },
   "source": [
    "---\n",
    "\n",
    "\n",
    "\n",
    "\n",
    "*Have questions or comments? Visit the [course discussion forum](https://www.kaggle.com/learn/computer-vision/discussion) to chat with other learners.*"
   ]
  }
 ],
 "metadata": {
  "jupytext": {
   "formats": "ipynb,md",
   "split_at_heading": true
  },
  "kaggle": {
   "accelerator": "gpu",
   "dataSources": [
    {
     "datasetId": 708136,
     "sourceId": 1338830,
     "sourceType": "datasetVersion"
    },
    {
     "datasetId": 701538,
     "sourceId": 1363948,
     "sourceType": "datasetVersion"
    },
    {
     "datasetId": 878523,
     "sourceId": 1495782,
     "sourceType": "datasetVersion"
    }
   ],
   "dockerImageVersionId": 30648,
   "isGpuEnabled": true,
   "isInternetEnabled": false,
   "language": "python",
   "sourceType": "notebook"
  },
  "kernelspec": {
   "display_name": "Python 3",
   "language": "python",
   "name": "python3"
  },
  "language_info": {
   "codemirror_mode": {
    "name": "ipython",
    "version": 3
   },
   "file_extension": ".py",
   "mimetype": "text/x-python",
   "name": "python",
   "nbconvert_exporter": "python",
   "pygments_lexer": "ipython3",
   "version": "3.10.13"
  },
  "papermill": {
   "default_parameters": {},
   "duration": 155.296579,
   "end_time": "2025-02-20T00:57:32.598377",
   "environment_variables": {},
   "exception": null,
   "input_path": "__notebook__.ipynb",
   "output_path": "__notebook__.ipynb",
   "parameters": {},
   "start_time": "2025-02-20T00:54:57.301798",
   "version": "2.5.0"
  }
 },
 "nbformat": 4,
 "nbformat_minor": 5
}
