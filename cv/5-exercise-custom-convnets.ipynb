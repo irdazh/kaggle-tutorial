{
 "cells": [
  {
   "cell_type": "markdown",
   "id": "16a5dfcf",
   "metadata": {
    "papermill": {
     "duration": 0.003444,
     "end_time": "2025-02-20T01:45:01.277756",
     "exception": false,
     "start_time": "2025-02-20T01:45:01.274312",
     "status": "completed"
    },
    "tags": []
   },
   "source": [
    "**This notebook is an exercise in the [Computer Vision](https://www.kaggle.com/learn/computer-vision) course.  You can reference the tutorial at [this link](https://www.kaggle.com/ryanholbrook/custom-convnets).**\n",
    "\n",
    "---\n"
   ]
  },
  {
   "cell_type": "markdown",
   "id": "f12909bb",
   "metadata": {
    "papermill": {
     "duration": 0.00257,
     "end_time": "2025-02-20T01:45:01.283331",
     "exception": false,
     "start_time": "2025-02-20T01:45:01.280761",
     "status": "completed"
    },
    "tags": []
   },
   "source": [
    "# Introduction #\n",
    "\n",
    "In these exercises, you'll build a custom convnet with performance competitive to the VGG16 model from Lesson 1.\n",
    "\n",
    "Get started by running the code cell below."
   ]
  },
  {
   "cell_type": "code",
   "execution_count": 1,
   "id": "0d51c7c7",
   "metadata": {
    "execution": {
     "iopub.execute_input": "2025-02-20T01:45:01.290741Z",
     "iopub.status.busy": "2025-02-20T01:45:01.290039Z",
     "iopub.status.idle": "2025-02-20T01:45:21.243724Z",
     "shell.execute_reply": "2025-02-20T01:45:21.242980Z"
    },
    "papermill": {
     "duration": 19.959604,
     "end_time": "2025-02-20T01:45:21.245673",
     "exception": false,
     "start_time": "2025-02-20T01:45:01.286069",
     "status": "completed"
    },
    "tags": []
   },
   "outputs": [
    {
     "name": "stderr",
     "output_type": "stream",
     "text": [
      "2025-02-20 01:45:03.836504: E external/local_xla/xla/stream_executor/cuda/cuda_dnn.cc:9261] Unable to register cuDNN factory: Attempting to register factory for plugin cuDNN when one has already been registered\n",
      "2025-02-20 01:45:03.836622: E external/local_xla/xla/stream_executor/cuda/cuda_fft.cc:607] Unable to register cuFFT factory: Attempting to register factory for plugin cuFFT when one has already been registered\n",
      "2025-02-20 01:45:03.961056: E external/local_xla/xla/stream_executor/cuda/cuda_blas.cc:1515] Unable to register cuBLAS factory: Attempting to register factory for plugin cuBLAS when one has already been registered\n"
     ]
    },
    {
     "name": "stdout",
     "output_type": "stream",
     "text": [
      "Found 5117 files belonging to 2 classes.\n",
      "Found 5051 files belonging to 2 classes.\n"
     ]
    }
   ],
   "source": [
    "# Setup feedback system\n",
    "from learntools.core import binder\n",
    "binder.bind(globals())\n",
    "from learntools.computer_vision.ex5 import *\n",
    "\n",
    "# Imports\n",
    "import os, warnings\n",
    "import matplotlib.pyplot as plt\n",
    "from matplotlib import gridspec\n",
    "\n",
    "import numpy as np\n",
    "import tensorflow as tf\n",
    "from tensorflow.keras.preprocessing import image_dataset_from_directory\n",
    "\n",
    "# Reproducability\n",
    "def set_seed(seed=31415):\n",
    "    np.random.seed(seed)\n",
    "    tf.random.set_seed(seed)\n",
    "    os.environ['PYTHONHASHSEED'] = str(seed)\n",
    "    os.environ['TF_DETERMINISTIC_OPS'] = '1'\n",
    "set_seed()\n",
    "\n",
    "# Set Matplotlib defaults\n",
    "plt.rc('figure', autolayout=True)\n",
    "plt.rc('axes', labelweight='bold', labelsize='large',\n",
    "       titleweight='bold', titlesize=18, titlepad=10)\n",
    "plt.rc('image', cmap='magma')\n",
    "warnings.filterwarnings(\"ignore\") # to clean up output cells\n",
    "\n",
    "\n",
    "# Load training and validation sets\n",
    "ds_train_ = image_dataset_from_directory(\n",
    "    '../input/car-or-truck/train',\n",
    "    labels='inferred',\n",
    "    label_mode='binary',\n",
    "    image_size=[128, 128],\n",
    "    interpolation='nearest',\n",
    "    batch_size=64,\n",
    "    shuffle=True,\n",
    ")\n",
    "ds_valid_ = image_dataset_from_directory(\n",
    "    '../input/car-or-truck/valid',\n",
    "    labels='inferred',\n",
    "    label_mode='binary',\n",
    "    image_size=[128, 128],\n",
    "    interpolation='nearest',\n",
    "    batch_size=64,\n",
    "    shuffle=False,\n",
    ")\n",
    "\n",
    "# Data Pipeline\n",
    "def convert_to_float(image, label):\n",
    "    image = tf.image.convert_image_dtype(image, dtype=tf.float32)\n",
    "    return image, label\n",
    "\n",
    "AUTOTUNE = tf.data.experimental.AUTOTUNE\n",
    "ds_train = (\n",
    "    ds_train_\n",
    "    .map(convert_to_float)\n",
    "    .cache()\n",
    "    .prefetch(buffer_size=AUTOTUNE)\n",
    ")\n",
    "ds_valid = (\n",
    "    ds_valid_\n",
    "    .map(convert_to_float)\n",
    "    .cache()\n",
    "    .prefetch(buffer_size=AUTOTUNE)\n",
    ")\n"
   ]
  },
  {
   "cell_type": "markdown",
   "id": "ee084923",
   "metadata": {
    "papermill": {
     "duration": 0.002866,
     "end_time": "2025-02-20T01:45:21.252526",
     "exception": false,
     "start_time": "2025-02-20T01:45:21.249660",
     "status": "completed"
    },
    "tags": []
   },
   "source": [
    "# Design a Convnet #\n",
    "\n",
    "Let's design a convolutional network with a block architecture like we saw in the tutorial. The model from the example had three blocks, each with a single convolutional layer. Its performance on the \"Car or Truck\" problem was okay, but far from what the pretrained VGG16 could achieve. It might be that our simple network lacks the ability to extract sufficiently complex features. We could try improving the model either by adding more blocks or by adding convolutions to the blocks we have.\n",
    "\n",
    "Let's go with the second approach. We'll keep the three block structure, but increase the number of `Conv2D` layer in the second block to two, and in the third block to three.\n",
    "\n",
    "<figure>\n",
    "<!-- <img src=\"./images/2-convmodel-2.png\" width=\"250\" alt=\"Diagram of a convolutional model.\"> -->\n",
    "<img src=\"https://storage.googleapis.com/kaggle-media/learn/images/Vko6nCK.png\" width=\"250\" alt=\"Diagram of a convolutional model.\">\n",
    "</figure>\n",
    "\n",
    "# 1) Define Model #\n",
    "\n",
    "Given the diagram above, complete the model by defining the layers of the third block."
   ]
  },
  {
   "cell_type": "code",
   "execution_count": 2,
   "id": "0d424718",
   "metadata": {
    "execution": {
     "iopub.execute_input": "2025-02-20T01:45:21.260638Z",
     "iopub.status.busy": "2025-02-20T01:45:21.260388Z",
     "iopub.status.idle": "2025-02-20T01:45:21.399372Z",
     "shell.execute_reply": "2025-02-20T01:45:21.398500Z"
    },
    "lines_to_next_cell": 0,
    "papermill": {
     "duration": 0.145367,
     "end_time": "2025-02-20T01:45:21.401073",
     "exception": false,
     "start_time": "2025-02-20T01:45:21.255706",
     "status": "completed"
    },
    "tags": []
   },
   "outputs": [
    {
     "data": {
      "application/javascript": [
       "parent.postMessage({\"jupyterEvent\": \"custom.exercise_interaction\", \"data\": {\"outcomeType\": 1, \"valueTowardsCompletion\": 0.3333333333333333, \"interactionType\": 1, \"questionType\": 2, \"questionId\": \"1_Q1\", \"learnToolsVersion\": \"0.3.4\", \"failureMessage\": \"\", \"exceptionClass\": \"\", \"trace\": \"\"}}, \"*\")"
      ],
      "text/plain": [
       "<IPython.core.display.Javascript object>"
      ]
     },
     "metadata": {},
     "output_type": "display_data"
    },
    {
     "data": {
      "text/markdown": [
       "<span style=\"color:#33cc33\">Correct</span>"
      ],
      "text/plain": [
       "Correct"
      ]
     },
     "metadata": {},
     "output_type": "display_data"
    }
   ],
   "source": [
    "from tensorflow import keras\n",
    "from tensorflow.keras import layers\n",
    "\n",
    "model = keras.Sequential([\n",
    "    # Block One\n",
    "    layers.Conv2D(filters=32, kernel_size=3, activation='relu', padding='same',\n",
    "                  input_shape=[128, 128, 3]),\n",
    "    layers.MaxPool2D(),\n",
    "\n",
    "    # Block Two\n",
    "    layers.Conv2D(filters=64, kernel_size=3, activation='relu', padding='same'),\n",
    "    layers.MaxPool2D(),\n",
    "\n",
    "    # Block Three\n",
    "    # YOUR CODE HERE\n",
    "    layers.Conv2D(filters=128, kernel_size=3, activation='relu', padding='same'),\n",
    "    layers.Conv2D(filters=128, kernel_size=3, activation='relu', padding='same'),\n",
    "    layers.MaxPool2D(),\n",
    "\n",
    "    # Head\n",
    "    layers.Flatten(),\n",
    "    layers.Dense(6, activation='relu'),\n",
    "    layers.Dropout(0.2),\n",
    "    layers.Dense(1, activation='sigmoid'),\n",
    "])\n",
    "\n",
    "# Check your answer\n",
    "q_1.check()"
   ]
  },
  {
   "cell_type": "code",
   "execution_count": 3,
   "id": "63cab87d",
   "metadata": {
    "execution": {
     "iopub.execute_input": "2025-02-20T01:45:21.409003Z",
     "iopub.status.busy": "2025-02-20T01:45:21.408467Z",
     "iopub.status.idle": "2025-02-20T01:45:21.411629Z",
     "shell.execute_reply": "2025-02-20T01:45:21.410876Z"
    },
    "papermill": {
     "duration": 0.008723,
     "end_time": "2025-02-20T01:45:21.413204",
     "exception": false,
     "start_time": "2025-02-20T01:45:21.404481",
     "status": "completed"
    },
    "tags": []
   },
   "outputs": [],
   "source": [
    "# Lines below will give you a hint or solution code\n",
    "#q_1.hint()\n",
    "#q_1.solution()"
   ]
  },
  {
   "cell_type": "markdown",
   "id": "4a22e171",
   "metadata": {
    "papermill": {
     "duration": 0.003056,
     "end_time": "2025-02-20T01:45:21.419458",
     "exception": false,
     "start_time": "2025-02-20T01:45:21.416402",
     "status": "completed"
    },
    "tags": []
   },
   "source": [
    "# 2) Compile #\n",
    "\n",
    "To prepare for training, compile the model with an appropriate loss and accuracy metric for the \"Car or Truck\" dataset."
   ]
  },
  {
   "cell_type": "code",
   "execution_count": 4,
   "id": "9a4de795",
   "metadata": {
    "execution": {
     "iopub.execute_input": "2025-02-20T01:45:21.426767Z",
     "iopub.status.busy": "2025-02-20T01:45:21.426554Z",
     "iopub.status.idle": "2025-02-20T01:45:21.622328Z",
     "shell.execute_reply": "2025-02-20T01:45:21.621545Z"
    },
    "lines_to_next_cell": 0,
    "papermill": {
     "duration": 0.201717,
     "end_time": "2025-02-20T01:45:21.624343",
     "exception": false,
     "start_time": "2025-02-20T01:45:21.422626",
     "status": "completed"
    },
    "tags": []
   },
   "outputs": [
    {
     "data": {
      "application/javascript": [
       "parent.postMessage({\"jupyterEvent\": \"custom.exercise_interaction\", \"data\": {\"outcomeType\": 1, \"valueTowardsCompletion\": 0.3333333333333333, \"interactionType\": 1, \"questionType\": 2, \"questionId\": \"2_Q2\", \"learnToolsVersion\": \"0.3.4\", \"failureMessage\": \"\", \"exceptionClass\": \"\", \"trace\": \"\"}}, \"*\")"
      ],
      "text/plain": [
       "<IPython.core.display.Javascript object>"
      ]
     },
     "metadata": {},
     "output_type": "display_data"
    },
    {
     "data": {
      "text/markdown": [
       "<span style=\"color:#33cc33\">Correct</span>"
      ],
      "text/plain": [
       "Correct"
      ]
     },
     "metadata": {},
     "output_type": "display_data"
    }
   ],
   "source": [
    "model.compile(\n",
    "    optimizer=tf.keras.optimizers.Adam(epsilon=0.01),\n",
    "    # YOUR CODE HERE: Add loss and metric\n",
    "    loss = 'binary_crossentropy',\n",
    "    metrics = ['binary_accuracy']\n",
    ")\n",
    "\n",
    "# Check your answer\n",
    "q_2.check()"
   ]
  },
  {
   "cell_type": "code",
   "execution_count": 5,
   "id": "6aa44a2f",
   "metadata": {
    "execution": {
     "iopub.execute_input": "2025-02-20T01:45:21.633179Z",
     "iopub.status.busy": "2025-02-20T01:45:21.632459Z",
     "iopub.status.idle": "2025-02-20T01:45:21.644288Z",
     "shell.execute_reply": "2025-02-20T01:45:21.643494Z"
    },
    "lines_to_next_cell": 0,
    "papermill": {
     "duration": 0.017827,
     "end_time": "2025-02-20T01:45:21.645785",
     "exception": false,
     "start_time": "2025-02-20T01:45:21.627958",
     "status": "completed"
    },
    "tags": []
   },
   "outputs": [
    {
     "data": {
      "application/javascript": [
       "parent.postMessage({\"jupyterEvent\": \"custom.exercise_interaction\", \"data\": {\"outcomeType\": 1, \"valueTowardsCompletion\": 0.3333333333333333, \"interactionType\": 1, \"questionType\": 2, \"questionId\": \"2_Q2\", \"learnToolsVersion\": \"0.3.4\", \"failureMessage\": \"\", \"exceptionClass\": \"\", \"trace\": \"\"}}, \"*\")"
      ],
      "text/plain": [
       "<IPython.core.display.Javascript object>"
      ]
     },
     "metadata": {},
     "output_type": "display_data"
    },
    {
     "data": {
      "text/markdown": [
       "<span style=\"color:#33cc33\">Correct</span>"
      ],
      "text/plain": [
       "Correct"
      ]
     },
     "metadata": {},
     "output_type": "display_data"
    }
   ],
   "source": [
    "model.compile(\n",
    "    optimizer=tf.keras.optimizers.Adam(epsilon=0.01),\n",
    "    loss='binary_crossentropy',\n",
    "    metrics=['binary_accuracy'],\n",
    ")\n",
    "q_2.assert_check_passed()"
   ]
  },
  {
   "cell_type": "code",
   "execution_count": 6,
   "id": "c0b63955",
   "metadata": {
    "execution": {
     "iopub.execute_input": "2025-02-20T01:45:21.653699Z",
     "iopub.status.busy": "2025-02-20T01:45:21.653480Z",
     "iopub.status.idle": "2025-02-20T01:45:21.656641Z",
     "shell.execute_reply": "2025-02-20T01:45:21.655885Z"
    },
    "lines_to_next_cell": 0,
    "papermill": {
     "duration": 0.008909,
     "end_time": "2025-02-20T01:45:21.658205",
     "exception": false,
     "start_time": "2025-02-20T01:45:21.649296",
     "status": "completed"
    },
    "tags": []
   },
   "outputs": [],
   "source": [
    "# Lines below will give you a hint or solution code\n",
    "#q_2.hint()\n",
    "#q_2.solution()"
   ]
  },
  {
   "cell_type": "markdown",
   "id": "e96a6a1e",
   "metadata": {
    "papermill": {
     "duration": 0.003334,
     "end_time": "2025-02-20T01:45:21.665184",
     "exception": false,
     "start_time": "2025-02-20T01:45:21.661850",
     "status": "completed"
    },
    "tags": []
   },
   "source": [
    "Finally, let's test the performance of this new model. First run this cell to fit the model to the training set."
   ]
  },
  {
   "cell_type": "code",
   "execution_count": 7,
   "id": "02937dea",
   "metadata": {
    "execution": {
     "iopub.execute_input": "2025-02-20T01:45:21.674298Z",
     "iopub.status.busy": "2025-02-20T01:45:21.674045Z",
     "iopub.status.idle": "2025-02-20T01:48:12.311991Z",
     "shell.execute_reply": "2025-02-20T01:48:12.311135Z"
    },
    "papermill": {
     "duration": 170.645224,
     "end_time": "2025-02-20T01:48:12.313943",
     "exception": false,
     "start_time": "2025-02-20T01:45:21.668719",
     "status": "completed"
    },
    "tags": []
   },
   "outputs": [
    {
     "name": "stdout",
     "output_type": "stream",
     "text": [
      "Epoch 1/50\n"
     ]
    },
    {
     "name": "stderr",
     "output_type": "stream",
     "text": [
      "WARNING: All log messages before absl::InitializeLog() is called are written to STDERR\n",
      "I0000 00:00:1740015925.659609      75 device_compiler.h:186] Compiled cluster using XLA!  This line is logged at most once for the lifetime of the process.\n"
     ]
    },
    {
     "name": "stdout",
     "output_type": "stream",
     "text": [
      "80/80 [==============================] - 15s 123ms/step - loss: 0.6892 - binary_accuracy: 0.5577 - val_loss: 0.6835 - val_binary_accuracy: 0.5785\n",
      "Epoch 2/50\n",
      "80/80 [==============================] - 3s 40ms/step - loss: 0.6813 - binary_accuracy: 0.5808 - val_loss: 0.6756 - val_binary_accuracy: 0.5785\n",
      "Epoch 3/50\n",
      "80/80 [==============================] - 3s 40ms/step - loss: 0.6719 - binary_accuracy: 0.5816 - val_loss: 0.6622 - val_binary_accuracy: 0.6131\n",
      "Epoch 4/50\n",
      "80/80 [==============================] - 3s 40ms/step - loss: 0.6633 - binary_accuracy: 0.5986 - val_loss: 0.6548 - val_binary_accuracy: 0.6183\n",
      "Epoch 5/50\n",
      "80/80 [==============================] - 3s 40ms/step - loss: 0.6582 - binary_accuracy: 0.6093 - val_loss: 0.6509 - val_binary_accuracy: 0.6240\n",
      "Epoch 6/50\n",
      "80/80 [==============================] - 3s 40ms/step - loss: 0.6539 - binary_accuracy: 0.6152 - val_loss: 0.6453 - val_binary_accuracy: 0.6300\n",
      "Epoch 7/50\n",
      "80/80 [==============================] - 3s 40ms/step - loss: 0.6483 - binary_accuracy: 0.6320 - val_loss: 0.6376 - val_binary_accuracy: 0.6312\n",
      "Epoch 8/50\n",
      "80/80 [==============================] - 3s 40ms/step - loss: 0.6456 - binary_accuracy: 0.6289 - val_loss: 0.6332 - val_binary_accuracy: 0.6391\n",
      "Epoch 9/50\n",
      "80/80 [==============================] - 3s 40ms/step - loss: 0.6362 - binary_accuracy: 0.6316 - val_loss: 0.6258 - val_binary_accuracy: 0.6448\n",
      "Epoch 10/50\n",
      "80/80 [==============================] - 3s 40ms/step - loss: 0.6263 - binary_accuracy: 0.6514 - val_loss: 0.6166 - val_binary_accuracy: 0.6573\n",
      "Epoch 11/50\n",
      "80/80 [==============================] - 3s 40ms/step - loss: 0.6221 - binary_accuracy: 0.6467 - val_loss: 0.6073 - val_binary_accuracy: 0.6656\n",
      "Epoch 12/50\n",
      "80/80 [==============================] - 3s 40ms/step - loss: 0.6163 - binary_accuracy: 0.6574 - val_loss: 0.6058 - val_binary_accuracy: 0.6666\n",
      "Epoch 13/50\n",
      "80/80 [==============================] - 3s 40ms/step - loss: 0.6055 - binary_accuracy: 0.6566 - val_loss: 0.6002 - val_binary_accuracy: 0.6735\n",
      "Epoch 14/50\n",
      "80/80 [==============================] - 3s 41ms/step - loss: 0.6061 - binary_accuracy: 0.6689 - val_loss: 0.5937 - val_binary_accuracy: 0.6870\n",
      "Epoch 15/50\n",
      "80/80 [==============================] - 3s 41ms/step - loss: 0.5952 - binary_accuracy: 0.6811 - val_loss: 0.5885 - val_binary_accuracy: 0.6860\n",
      "Epoch 16/50\n",
      "80/80 [==============================] - 3s 41ms/step - loss: 0.5881 - binary_accuracy: 0.6809 - val_loss: 0.5778 - val_binary_accuracy: 0.6937\n",
      "Epoch 17/50\n",
      "80/80 [==============================] - 3s 40ms/step - loss: 0.5774 - binary_accuracy: 0.6863 - val_loss: 0.5661 - val_binary_accuracy: 0.7074\n",
      "Epoch 18/50\n",
      "80/80 [==============================] - 3s 40ms/step - loss: 0.5634 - binary_accuracy: 0.7039 - val_loss: 0.5518 - val_binary_accuracy: 0.7163\n",
      "Epoch 19/50\n",
      "80/80 [==============================] - 3s 40ms/step - loss: 0.5580 - binary_accuracy: 0.7147 - val_loss: 0.5633 - val_binary_accuracy: 0.7050\n",
      "Epoch 20/50\n",
      "80/80 [==============================] - 3s 40ms/step - loss: 0.5410 - binary_accuracy: 0.7184 - val_loss: 0.5322 - val_binary_accuracy: 0.7305\n",
      "Epoch 21/50\n",
      "80/80 [==============================] - 3s 39ms/step - loss: 0.5329 - binary_accuracy: 0.7241 - val_loss: 0.5241 - val_binary_accuracy: 0.7339\n",
      "Epoch 22/50\n",
      "80/80 [==============================] - 3s 40ms/step - loss: 0.5178 - binary_accuracy: 0.7243 - val_loss: 0.5651 - val_binary_accuracy: 0.7131\n",
      "Epoch 23/50\n",
      "80/80 [==============================] - 3s 40ms/step - loss: 0.5022 - binary_accuracy: 0.7375 - val_loss: 0.4980 - val_binary_accuracy: 0.7553\n",
      "Epoch 24/50\n",
      "80/80 [==============================] - 3s 39ms/step - loss: 0.4907 - binary_accuracy: 0.7538 - val_loss: 0.4950 - val_binary_accuracy: 0.7589\n",
      "Epoch 25/50\n",
      "80/80 [==============================] - 3s 40ms/step - loss: 0.4715 - binary_accuracy: 0.7610 - val_loss: 0.4738 - val_binary_accuracy: 0.7711\n",
      "Epoch 26/50\n",
      "80/80 [==============================] - 3s 40ms/step - loss: 0.4634 - binary_accuracy: 0.7651 - val_loss: 0.4715 - val_binary_accuracy: 0.7791\n",
      "Epoch 27/50\n",
      "80/80 [==============================] - 3s 40ms/step - loss: 0.4534 - binary_accuracy: 0.7647 - val_loss: 0.4562 - val_binary_accuracy: 0.7897\n",
      "Epoch 28/50\n",
      "80/80 [==============================] - 3s 40ms/step - loss: 0.4327 - binary_accuracy: 0.7799 - val_loss: 0.4457 - val_binary_accuracy: 0.7955\n",
      "Epoch 29/50\n",
      "80/80 [==============================] - 3s 40ms/step - loss: 0.4206 - binary_accuracy: 0.7856 - val_loss: 0.4661 - val_binary_accuracy: 0.7812\n",
      "Epoch 30/50\n",
      "80/80 [==============================] - 3s 40ms/step - loss: 0.4108 - binary_accuracy: 0.7885 - val_loss: 0.4307 - val_binary_accuracy: 0.8036\n",
      "Epoch 31/50\n",
      "80/80 [==============================] - 3s 40ms/step - loss: 0.3824 - binary_accuracy: 0.8050 - val_loss: 0.4394 - val_binary_accuracy: 0.7959\n",
      "Epoch 32/50\n",
      "80/80 [==============================] - 3s 39ms/step - loss: 0.3714 - binary_accuracy: 0.8079 - val_loss: 0.4236 - val_binary_accuracy: 0.8099\n",
      "Epoch 33/50\n",
      "80/80 [==============================] - 3s 39ms/step - loss: 0.3588 - binary_accuracy: 0.8169 - val_loss: 0.4072 - val_binary_accuracy: 0.8200\n",
      "Epoch 34/50\n",
      "80/80 [==============================] - 3s 40ms/step - loss: 0.3470 - binary_accuracy: 0.8253 - val_loss: 0.4565 - val_binary_accuracy: 0.7965\n",
      "Epoch 35/50\n",
      "80/80 [==============================] - 3s 40ms/step - loss: 0.3408 - binary_accuracy: 0.8214 - val_loss: 0.4490 - val_binary_accuracy: 0.7979\n",
      "Epoch 36/50\n",
      "80/80 [==============================] - 3s 39ms/step - loss: 0.3395 - binary_accuracy: 0.8249 - val_loss: 0.4419 - val_binary_accuracy: 0.7992\n",
      "Epoch 37/50\n",
      "80/80 [==============================] - 3s 39ms/step - loss: 0.3550 - binary_accuracy: 0.8106 - val_loss: 0.4367 - val_binary_accuracy: 0.8016\n",
      "Epoch 38/50\n",
      "80/80 [==============================] - 3s 40ms/step - loss: 0.3226 - binary_accuracy: 0.8292 - val_loss: 0.4348 - val_binary_accuracy: 0.7979\n",
      "Epoch 39/50\n",
      "80/80 [==============================] - 3s 40ms/step - loss: 0.3048 - binary_accuracy: 0.8345 - val_loss: 0.4452 - val_binary_accuracy: 0.8072\n",
      "Epoch 40/50\n",
      "80/80 [==============================] - 3s 40ms/step - loss: 0.2680 - binary_accuracy: 0.8583 - val_loss: 0.4735 - val_binary_accuracy: 0.7850\n",
      "Epoch 41/50\n",
      "80/80 [==============================] - 3s 40ms/step - loss: 0.2707 - binary_accuracy: 0.8534 - val_loss: 0.4102 - val_binary_accuracy: 0.8125\n",
      "Epoch 42/50\n",
      "80/80 [==============================] - 3s 40ms/step - loss: 0.2634 - binary_accuracy: 0.8581 - val_loss: 0.4674 - val_binary_accuracy: 0.7907\n",
      "Epoch 43/50\n",
      "80/80 [==============================] - 3s 39ms/step - loss: 0.2724 - binary_accuracy: 0.8505 - val_loss: 0.4810 - val_binary_accuracy: 0.7804\n",
      "Epoch 44/50\n",
      "80/80 [==============================] - 3s 39ms/step - loss: 0.2734 - binary_accuracy: 0.8440 - val_loss: 0.4653 - val_binary_accuracy: 0.7796\n",
      "Epoch 45/50\n",
      "80/80 [==============================] - 3s 39ms/step - loss: 0.2582 - binary_accuracy: 0.8548 - val_loss: 0.5474 - val_binary_accuracy: 0.7794\n",
      "Epoch 46/50\n",
      "80/80 [==============================] - 3s 40ms/step - loss: 0.2707 - binary_accuracy: 0.8466 - val_loss: 0.3954 - val_binary_accuracy: 0.8248\n",
      "Epoch 47/50\n",
      "80/80 [==============================] - 3s 39ms/step - loss: 0.2818 - binary_accuracy: 0.8472 - val_loss: 0.3922 - val_binary_accuracy: 0.8343\n",
      "Epoch 48/50\n",
      "80/80 [==============================] - 3s 40ms/step - loss: 0.2756 - binary_accuracy: 0.8464 - val_loss: 0.4328 - val_binary_accuracy: 0.8185\n",
      "Epoch 49/50\n",
      "80/80 [==============================] - 3s 40ms/step - loss: 0.2370 - binary_accuracy: 0.8693 - val_loss: 0.4774 - val_binary_accuracy: 0.8034\n",
      "Epoch 50/50\n",
      "80/80 [==============================] - 3s 40ms/step - loss: 0.2128 - binary_accuracy: 0.8837 - val_loss: 0.4790 - val_binary_accuracy: 0.8226\n"
     ]
    }
   ],
   "source": [
    "history = model.fit(\n",
    "    ds_train,\n",
    "    validation_data=ds_valid,\n",
    "    epochs=50,\n",
    ")"
   ]
  },
  {
   "cell_type": "markdown",
   "id": "e2bb8b80",
   "metadata": {
    "papermill": {
     "duration": 0.094571,
     "end_time": "2025-02-20T01:48:12.554919",
     "exception": false,
     "start_time": "2025-02-20T01:48:12.460348",
     "status": "completed"
    },
    "tags": []
   },
   "source": [
    "And now run the cell below to plot the loss and metric curves for this training run."
   ]
  },
  {
   "cell_type": "code",
   "execution_count": 8,
   "id": "c1b6a9ae",
   "metadata": {
    "execution": {
     "iopub.execute_input": "2025-02-20T01:48:12.745596Z",
     "iopub.status.busy": "2025-02-20T01:48:12.744994Z",
     "iopub.status.idle": "2025-02-20T01:48:13.265949Z",
     "shell.execute_reply": "2025-02-20T01:48:13.264938Z"
    },
    "papermill": {
     "duration": 0.61882,
     "end_time": "2025-02-20T01:48:13.267751",
     "exception": false,
     "start_time": "2025-02-20T01:48:12.648931",
     "status": "completed"
    },
    "tags": []
   },
   "outputs": [
    {
     "data": {
      "image/png": "[encoded data removed]",
      "text/plain": [
       "<Figure size 640x480 with 1 Axes>"
      ]
     },
     "metadata": {},
     "output_type": "display_data"
    },
    {
     "data": {
      "image/png": "[encoded data removed]",
      "text/plain": [
       "<Figure size 640x480 with 1 Axes>"
      ]
     },
     "metadata": {},
     "output_type": "display_data"
    }
   ],
   "source": [
    "import pandas as pd\n",
    "history_frame = pd.DataFrame(history.history)\n",
    "history_frame.loc[:, ['loss', 'val_loss']].plot()\n",
    "history_frame.loc[:, ['binary_accuracy', 'val_binary_accuracy']].plot();"
   ]
  },
  {
   "cell_type": "markdown",
   "id": "429578aa",
   "metadata": {
    "papermill": {
     "duration": 0.095761,
     "end_time": "2025-02-20T01:48:13.458993",
     "exception": false,
     "start_time": "2025-02-20T01:48:13.363232",
     "status": "completed"
    },
    "tags": []
   },
   "source": [
    "# 3) Train the Model #\n",
    "\n",
    "How would you interpret these training curves? Did this model improve upon the model from the tutorial?"
   ]
  },
  {
   "cell_type": "code",
   "execution_count": 9,
   "id": "afc3e115",
   "metadata": {
    "execution": {
     "iopub.execute_input": "2025-02-20T01:48:13.647870Z",
     "iopub.status.busy": "2025-02-20T01:48:13.647549Z",
     "iopub.status.idle": "2025-02-20T01:48:13.654427Z",
     "shell.execute_reply": "2025-02-20T01:48:13.653572Z"
    },
    "lines_to_next_cell": 0,
    "papermill": {
     "duration": 0.103453,
     "end_time": "2025-02-20T01:48:13.655895",
     "exception": false,
     "start_time": "2025-02-20T01:48:13.552442",
     "status": "completed"
    },
    "tags": []
   },
   "outputs": [
    {
     "data": {
      "application/javascript": [
       "parent.postMessage({\"jupyterEvent\": \"custom.exercise_interaction\", \"data\": {\"outcomeType\": 1, \"valueTowardsCompletion\": 0.3333333333333333, \"interactionType\": 1, \"questionType\": 4, \"questionId\": \"3_Q3\", \"learnToolsVersion\": \"0.3.4\", \"failureMessage\": \"\", \"exceptionClass\": \"\", \"trace\": \"\"}}, \"*\")"
      ],
      "text/plain": [
       "<IPython.core.display.Javascript object>"
      ]
     },
     "metadata": {},
     "output_type": "display_data"
    },
    {
     "data": {
      "text/markdown": [
       "<span style=\"color:#33cc33\">Correct:</span> \n",
       "\n",
       "\n",
       "The learning curves for the model from the tutorial diverged fairly rapidly. This would indicate that it was prone to overfitting and in need of some regularization. The additional layer in our new model would make it even more prone to overfitting. However, adding some regularization with the `Dropout` layer helped prevent this. These changes improved the validation accuracy of the model by several points.\n"
      ],
      "text/plain": [
       "Correct: \n",
       "\n",
       "\n",
       "The learning curves for the model from the tutorial diverged fairly rapidly. This would indicate that it was prone to overfitting and in need of some regularization. The additional layer in our new model would make it even more prone to overfitting. However, adding some regularization with the `Dropout` layer helped prevent this. These changes improved the validation accuracy of the model by several points."
      ]
     },
     "metadata": {},
     "output_type": "display_data"
    }
   ],
   "source": [
    "# View the solution (Run this code cell to receive credit!)\n",
    "q_3.check()"
   ]
  },
  {
   "cell_type": "markdown",
   "id": "c4cc5c2f",
   "metadata": {
    "papermill": {
     "duration": 0.095366,
     "end_time": "2025-02-20T01:48:13.846926",
     "exception": false,
     "start_time": "2025-02-20T01:48:13.751560",
     "status": "completed"
    },
    "tags": []
   },
   "source": [
    "# Conclusion #\n",
    "\n",
    "These exercises showed you how to design a custom convolutional network to solve a specific classification problem. Though most models these days will be built on top of a pretrained base, it certain circumstances a smaller custom convnet might still be preferable -- such as with a smaller or unusual dataset or when computing resources are very limited. As you saw here, for certain problems they can perform just as well as a pretrained model.\n",
    "\n",
    "# Keep Going #\n",
    "\n",
    "Continue on to [**Lesson 6**](https://www.kaggle.com/ryanholbrook/data-augmentation), where you'll learn a widely-used technique that can give a boost to your training data: **data augmentation**."
   ]
  },
  {
   "cell_type": "markdown",
   "id": "6f5ea699",
   "metadata": {
    "papermill": {
     "duration": 0.094963,
     "end_time": "2025-02-20T01:48:14.037747",
     "exception": false,
     "start_time": "2025-02-20T01:48:13.942784",
     "status": "completed"
    },
    "tags": []
   },
   "source": [
    "---\n",
    "\n",
    "\n",
    "\n",
    "\n",
    "*Have questions or comments? Visit the [course discussion forum](https://www.kaggle.com/learn/computer-vision/discussion) to chat with other learners.*"
   ]
  }
 ],
 "metadata": {
  "jupytext": {
   "formats": "md,ipynb"
  },
  "kaggle": {
   "accelerator": "gpu",
   "dataSources": [
    {
     "datasetId": 708136,
     "sourceId": 1338830,
     "sourceType": "datasetVersion"
    },
    {
     "datasetId": 701538,
     "sourceId": 1363948,
     "sourceType": "datasetVersion"
    },
    {
     "datasetId": 878523,
     "sourceId": 1495782,
     "sourceType": "datasetVersion"
    }
   ],
   "dockerImageVersionId": 30648,
   "isGpuEnabled": true,
   "isInternetEnabled": false,
   "language": "python",
   "sourceType": "notebook"
  },
  "kernelspec": {
   "display_name": "Python 3",
   "language": "python",
   "name": "python3"
  },
  "language_info": {
   "codemirror_mode": {
    "name": "ipython",
    "version": 3
   },
   "file_extension": ".py",
   "mimetype": "text/x-python",
   "name": "python",
   "nbconvert_exporter": "python",
   "pygments_lexer": "ipython3",
   "version": "3.10.13"
  },
  "papermill": {
   "default_parameters": {},
   "duration": 198.203919,
   "end_time": "2025-02-20T01:48:16.912122",
   "environment_variables": {},
   "exception": null,
   "input_path": "__notebook__.ipynb",
   "output_path": "__notebook__.ipynb",
   "parameters": {},
   "start_time": "2025-02-20T01:44:58.708203",
   "version": "2.5.0"
  }
 },
 "nbformat": 4,
 "nbformat_minor": 5
}
