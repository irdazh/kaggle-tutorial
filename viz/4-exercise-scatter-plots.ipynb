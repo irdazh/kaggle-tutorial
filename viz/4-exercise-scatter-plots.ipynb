{
 "cells": [
  {
   "cell_type": "markdown",
   "id": "2077cb3f",
   "metadata": {
    "_cell_guid": "68dfcac8-dca7-4018-a580-c05654c5ea15",
    "_uuid": "8b694363-ec75-4687-af50-615d9e6d3d38",
    "papermill": {
     "duration": 0.007666,
     "end_time": "2025-04-24T13:33:58.011571",
     "exception": false,
     "start_time": "2025-04-24T13:33:58.003905",
     "status": "completed"
    },
    "tags": []
   },
   "source": [
    "**This notebook is an exercise in the [Data Visualization](https://www.kaggle.com/learn/data-visualization) course.  You can reference the tutorial at [this link](https://www.kaggle.com/alexisbcook/scatter-plots).**\n",
    "\n",
    "---"
   ]
  },
  {
   "cell_type": "markdown",
   "id": "0123df4f",
   "metadata": {
    "_cell_guid": "ff4184cc-6715-4bad-bb01-bf91a00ca7f9",
    "_uuid": "3bca5b90-358d-4bf7-8dc9-6eb2c253f5d4",
    "papermill": {
     "duration": 0.006355,
     "end_time": "2025-04-24T13:33:58.024821",
     "exception": false,
     "start_time": "2025-04-24T13:33:58.018466",
     "status": "completed"
    },
    "tags": []
   },
   "source": [
    "In this exercise, you will use your new knowledge to propose a solution to a real-world scenario.  To succeed, you will need to import data into Python, answer questions using the data, and generate **scatter plots** to understand patterns in the data.\n",
    "\n",
    "## Scenario\n",
    "\n",
    "You work for a major candy producer, and your goal is to write a report that your company can use to guide the design of its next product.  Soon after starting your research, you stumble across this [very interesting dataset](https://fivethirtyeight.com/features/the-ultimate-halloween-candy-power-ranking/) containing results from a fun survey to crowdsource favorite candies.\n",
    "\n",
    "## Setup\n",
    "\n",
    "Run the next cell to import and configure the Python libraries that you need to complete the exercise."
   ]
  },
  {
   "cell_type": "code",
   "execution_count": 1,
   "id": "6a3dec6f",
   "metadata": {
    "_cell_guid": "ca872887-1090-422b-8679-c6d8819b43a6",
    "_uuid": "e578c5ea-870a-4313-8713-b38a63de62e6",
    "collapsed": false,
    "execution": {
     "iopub.execute_input": "2025-04-24T13:33:58.040135Z",
     "iopub.status.busy": "2025-04-24T13:33:58.039180Z",
     "iopub.status.idle": "2025-04-24T13:34:02.013571Z",
     "shell.execute_reply": "2025-04-24T13:34:02.012470Z"
    },
    "jupyter": {
     "outputs_hidden": false
    },
    "papermill": {
     "duration": 3.983684,
     "end_time": "2025-04-24T13:34:02.015129",
     "exception": false,
     "start_time": "2025-04-24T13:33:58.031445",
     "status": "completed"
    },
    "tags": []
   },
   "outputs": [
    {
     "name": "stdout",
     "output_type": "stream",
     "text": [
      "Setup Complete\n"
     ]
    }
   ],
   "source": [
    "import pandas as pd\n",
    "pd.plotting.register_matplotlib_converters()\n",
    "import matplotlib.pyplot as plt\n",
    "%matplotlib inline\n",
    "import seaborn as sns\n",
    "print(\"Setup Complete\")"
   ]
  },
  {
   "cell_type": "markdown",
   "id": "b1dbeb9c",
   "metadata": {
    "_cell_guid": "53fd63a5-cc85-4c11-a0fe-19a71235d3ab",
    "_uuid": "cd8cb7f0-7b02-4d54-a209-c58fbf0e46d3",
    "papermill": {
     "duration": 0.006592,
     "end_time": "2025-04-24T13:34:02.028927",
     "exception": false,
     "start_time": "2025-04-24T13:34:02.022335",
     "status": "completed"
    },
    "tags": []
   },
   "source": [
    "The questions below will give you feedback on your work. Run the following cell to set up our feedback system."
   ]
  },
  {
   "cell_type": "code",
   "execution_count": 2,
   "id": "d71dcd81",
   "metadata": {
    "_cell_guid": "d34fef32-d6a1-4024-8ef0-7e332892d9ac",
    "_uuid": "c50dd1fc-cd6c-429e-8876-e2b47ce1893c",
    "collapsed": false,
    "execution": {
     "iopub.execute_input": "2025-04-24T13:34:02.044851Z",
     "iopub.status.busy": "2025-04-24T13:34:02.043988Z",
     "iopub.status.idle": "2025-04-24T13:34:02.124799Z",
     "shell.execute_reply": "2025-04-24T13:34:02.123655Z"
    },
    "jupyter": {
     "outputs_hidden": false
    },
    "papermill": {
     "duration": 0.090787,
     "end_time": "2025-04-24T13:34:02.126549",
     "exception": false,
     "start_time": "2025-04-24T13:34:02.035762",
     "status": "completed"
    },
    "tags": []
   },
   "outputs": [
    {
     "name": "stdout",
     "output_type": "stream",
     "text": [
      "Setup Complete\n"
     ]
    }
   ],
   "source": [
    "# Set up code checking\n",
    "import os\n",
    "if not os.path.exists(\"../input/candy.csv\"):\n",
    "    os.symlink(\"../input/data-for-datavis/candy.csv\", \"../input/candy.csv\") \n",
    "from learntools.core import binder\n",
    "binder.bind(globals())\n",
    "from learntools.data_viz_to_coder.ex4 import *\n",
    "print(\"Setup Complete\")"
   ]
  },
  {
   "cell_type": "markdown",
   "id": "489e14c7",
   "metadata": {
    "_cell_guid": "6752bc86-b8e7-4c26-b866-f98a530eb889",
    "_uuid": "53a7c07c-4355-48c8-8631-cdec0a4ae43c",
    "papermill": {
     "duration": 0.006504,
     "end_time": "2025-04-24T13:34:02.140568",
     "exception": false,
     "start_time": "2025-04-24T13:34:02.134064",
     "status": "completed"
    },
    "tags": []
   },
   "source": [
    "## Step 1: Load the Data\n",
    "\n",
    "Read the candy data file into `candy_data`.  Use the `\"id\"` column to label the rows."
   ]
  },
  {
   "cell_type": "code",
   "execution_count": 3,
   "id": "77379bb6",
   "metadata": {
    "_cell_guid": "3d3ac112-87de-4e11-bb68-37cb8d326a47",
    "_uuid": "32007acd-48f6-4354-8774-72ed46ece13f",
    "collapsed": false,
    "execution": {
     "iopub.execute_input": "2025-04-24T13:34:02.155848Z",
     "iopub.status.busy": "2025-04-24T13:34:02.155139Z",
     "iopub.status.idle": "2025-04-24T13:34:02.169804Z",
     "shell.execute_reply": "2025-04-24T13:34:02.168839Z"
    },
    "jupyter": {
     "outputs_hidden": false
    },
    "papermill": {
     "duration": 0.024041,
     "end_time": "2025-04-24T13:34:02.171435",
     "exception": false,
     "start_time": "2025-04-24T13:34:02.147394",
     "status": "completed"
    },
    "tags": []
   },
   "outputs": [
    {
     "data": {
      "application/javascript": [
       "parent.postMessage({\"jupyterEvent\": \"custom.exercise_interaction\", \"data\": {\"outcomeType\": 1, \"valueTowardsCompletion\": 0.3333333333333333, \"interactionType\": 1, \"questionType\": 1, \"questionId\": \"1_LoadData\", \"learnToolsVersion\": \"0.3.5\", \"failureMessage\": \"\", \"exceptionClass\": \"\", \"trace\": \"\"}}, \"*\")"
      ],
      "text/plain": [
       "<IPython.core.display.Javascript object>"
      ]
     },
     "metadata": {},
     "output_type": "display_data"
    },
    {
     "data": {
      "text/markdown": [
       "<span style=\"color:#33cc33\">Correct</span>"
      ],
      "text/plain": [
       "Correct"
      ]
     },
     "metadata": {},
     "output_type": "display_data"
    }
   ],
   "source": [
    "# Path of the file to read\n",
    "candy_filepath = \"../input/candy.csv\"\n",
    "\n",
    "# Fill in the line below to read the file into a variable candy_data\n",
    "candy_data = pd.read_csv(candy_filepath, index_col=\"id\")\n",
    "\n",
    "# Run the line below with no changes to check that you've loaded the data correctly\n",
    "step_1.check()"
   ]
  },
  {
   "cell_type": "code",
   "execution_count": 4,
   "id": "35b89a8c",
   "metadata": {
    "_cell_guid": "c915e0df-b966-4a0c-9198-f302891e9054",
    "_uuid": "dcfd5efe-29f6-4d88-9b15-c5b7ea9aff2a",
    "collapsed": false,
    "execution": {
     "iopub.execute_input": "2025-04-24T13:34:02.187201Z",
     "iopub.status.busy": "2025-04-24T13:34:02.186813Z",
     "iopub.status.idle": "2025-04-24T13:34:02.191220Z",
     "shell.execute_reply": "2025-04-24T13:34:02.190239Z"
    },
    "jupyter": {
     "outputs_hidden": false
    },
    "papermill": {
     "duration": 0.014147,
     "end_time": "2025-04-24T13:34:02.192991",
     "exception": false,
     "start_time": "2025-04-24T13:34:02.178844",
     "status": "completed"
    },
    "tags": []
   },
   "outputs": [],
   "source": [
    "# Lines below will give you a hint or solution code\n",
    "#step_1.hint()\n",
    "#step_1.solution()"
   ]
  },
  {
   "cell_type": "markdown",
   "id": "7cbdf4fa",
   "metadata": {
    "_cell_guid": "d2e61227-a6ce-439c-8dda-bea65652613c",
    "_uuid": "047c5cd1-1210-40b4-beb3-abbda297fea6",
    "papermill": {
     "duration": 0.006731,
     "end_time": "2025-04-24T13:34:02.207148",
     "exception": false,
     "start_time": "2025-04-24T13:34:02.200417",
     "status": "completed"
    },
    "tags": []
   },
   "source": [
    "## Step 2: Review the data\n",
    "\n",
    "Use a Python command to print the first five rows of the data."
   ]
  },
  {
   "cell_type": "code",
   "execution_count": 5,
   "id": "2fde4b9a",
   "metadata": {
    "_cell_guid": "0569c118-18d7-4fb4-a0a2-c8027d931fc6",
    "_uuid": "80588b76-e869-48d9-a0de-20ac9b441a70",
    "collapsed": false,
    "execution": {
     "iopub.execute_input": "2025-04-24T13:34:02.222750Z",
     "iopub.status.busy": "2025-04-24T13:34:02.222365Z",
     "iopub.status.idle": "2025-04-24T13:34:02.248312Z",
     "shell.execute_reply": "2025-04-24T13:34:02.247227Z"
    },
    "jupyter": {
     "outputs_hidden": false
    },
    "papermill": {
     "duration": 0.035641,
     "end_time": "2025-04-24T13:34:02.249972",
     "exception": false,
     "start_time": "2025-04-24T13:34:02.214331",
     "status": "completed"
    },
    "tags": []
   },
   "outputs": [
    {
     "data": {
      "text/html": [
       "<div>\n",
       "<style scoped>\n",
       "    .dataframe tbody tr th:only-of-type {\n",
       "        vertical-align: middle;\n",
       "    }\n",
       "\n",
       "    .dataframe tbody tr th {\n",
       "        vertical-align: top;\n",
       "    }\n",
       "\n",
       "    .dataframe thead th {\n",
       "        text-align: right;\n",
       "    }\n",
       "</style>\n",
       "<table border=\"1\" class=\"dataframe\">\n",
       "  <thead>\n",
       "    <tr style=\"text-align: right;\">\n",
       "      <th></th>\n",
       "      <th>competitorname</th>\n",
       "      <th>chocolate</th>\n",
       "      <th>fruity</th>\n",
       "      <th>caramel</th>\n",
       "      <th>peanutyalmondy</th>\n",
       "      <th>nougat</th>\n",
       "      <th>crispedricewafer</th>\n",
       "      <th>hard</th>\n",
       "      <th>bar</th>\n",
       "      <th>pluribus</th>\n",
       "      <th>sugarpercent</th>\n",
       "      <th>pricepercent</th>\n",
       "      <th>winpercent</th>\n",
       "    </tr>\n",
       "    <tr>\n",
       "      <th>id</th>\n",
       "      <th></th>\n",
       "      <th></th>\n",
       "      <th></th>\n",
       "      <th></th>\n",
       "      <th></th>\n",
       "      <th></th>\n",
       "      <th></th>\n",
       "      <th></th>\n",
       "      <th></th>\n",
       "      <th></th>\n",
       "      <th></th>\n",
       "      <th></th>\n",
       "      <th></th>\n",
       "    </tr>\n",
       "  </thead>\n",
       "  <tbody>\n",
       "    <tr>\n",
       "      <th>0</th>\n",
       "      <td>100 Grand</td>\n",
       "      <td>Yes</td>\n",
       "      <td>No</td>\n",
       "      <td>Yes</td>\n",
       "      <td>No</td>\n",
       "      <td>No</td>\n",
       "      <td>Yes</td>\n",
       "      <td>No</td>\n",
       "      <td>Yes</td>\n",
       "      <td>No</td>\n",
       "      <td>0.732</td>\n",
       "      <td>0.860</td>\n",
       "      <td>66.971725</td>\n",
       "    </tr>\n",
       "    <tr>\n",
       "      <th>1</th>\n",
       "      <td>3 Musketeers</td>\n",
       "      <td>Yes</td>\n",
       "      <td>No</td>\n",
       "      <td>No</td>\n",
       "      <td>No</td>\n",
       "      <td>Yes</td>\n",
       "      <td>No</td>\n",
       "      <td>No</td>\n",
       "      <td>Yes</td>\n",
       "      <td>No</td>\n",
       "      <td>0.604</td>\n",
       "      <td>0.511</td>\n",
       "      <td>67.602936</td>\n",
       "    </tr>\n",
       "    <tr>\n",
       "      <th>2</th>\n",
       "      <td>Air Heads</td>\n",
       "      <td>No</td>\n",
       "      <td>Yes</td>\n",
       "      <td>No</td>\n",
       "      <td>No</td>\n",
       "      <td>No</td>\n",
       "      <td>No</td>\n",
       "      <td>No</td>\n",
       "      <td>No</td>\n",
       "      <td>No</td>\n",
       "      <td>0.906</td>\n",
       "      <td>0.511</td>\n",
       "      <td>52.341465</td>\n",
       "    </tr>\n",
       "    <tr>\n",
       "      <th>3</th>\n",
       "      <td>Almond Joy</td>\n",
       "      <td>Yes</td>\n",
       "      <td>No</td>\n",
       "      <td>No</td>\n",
       "      <td>Yes</td>\n",
       "      <td>No</td>\n",
       "      <td>No</td>\n",
       "      <td>No</td>\n",
       "      <td>Yes</td>\n",
       "      <td>No</td>\n",
       "      <td>0.465</td>\n",
       "      <td>0.767</td>\n",
       "      <td>50.347546</td>\n",
       "    </tr>\n",
       "    <tr>\n",
       "      <th>4</th>\n",
       "      <td>Baby Ruth</td>\n",
       "      <td>Yes</td>\n",
       "      <td>No</td>\n",
       "      <td>Yes</td>\n",
       "      <td>Yes</td>\n",
       "      <td>Yes</td>\n",
       "      <td>No</td>\n",
       "      <td>No</td>\n",
       "      <td>Yes</td>\n",
       "      <td>No</td>\n",
       "      <td>0.604</td>\n",
       "      <td>0.767</td>\n",
       "      <td>56.914547</td>\n",
       "    </tr>\n",
       "  </tbody>\n",
       "</table>\n",
       "</div>"
      ],
      "text/plain": [
       "   competitorname chocolate fruity caramel peanutyalmondy nougat  \\\n",
       "id                                                                 \n",
       "0       100 Grand       Yes     No     Yes             No     No   \n",
       "1    3 Musketeers       Yes     No      No             No    Yes   \n",
       "2       Air Heads        No    Yes      No             No     No   \n",
       "3      Almond Joy       Yes     No      No            Yes     No   \n",
       "4       Baby Ruth       Yes     No     Yes            Yes    Yes   \n",
       "\n",
       "   crispedricewafer hard  bar pluribus  sugarpercent  pricepercent  winpercent  \n",
       "id                                                                              \n",
       "0               Yes   No  Yes       No         0.732         0.860   66.971725  \n",
       "1                No   No  Yes       No         0.604         0.511   67.602936  \n",
       "2                No   No   No       No         0.906         0.511   52.341465  \n",
       "3                No   No  Yes       No         0.465         0.767   50.347546  \n",
       "4                No   No  Yes       No         0.604         0.767   56.914547  "
      ]
     },
     "execution_count": 5,
     "metadata": {},
     "output_type": "execute_result"
    }
   ],
   "source": [
    "# Print the first five rows of the data\n",
    "candy_data.head() # Your code here"
   ]
  },
  {
   "cell_type": "markdown",
   "id": "1f347225",
   "metadata": {
    "_cell_guid": "3737b887-9491-41c5-aa16-27d95227a47d",
    "_uuid": "849337d8-defa-4da1-a01c-d0c016f72804",
    "papermill": {
     "duration": 0.00704,
     "end_time": "2025-04-24T13:34:02.264649",
     "exception": false,
     "start_time": "2025-04-24T13:34:02.257609",
     "status": "completed"
    },
    "tags": []
   },
   "source": [
    "The dataset contains 83 rows, where each corresponds to a different candy bar.  There are 13 columns:\n",
    "- `'competitorname'` contains the name of the candy bar. \n",
    "- the next **9** columns (from `'chocolate'` to `'pluribus'`) describe the candy.  For instance, rows with chocolate candies have `\"Yes\"` in the `'chocolate'` column (and candies without chocolate have `\"No\"` in the same column).\n",
    "- `'sugarpercent'` provides some indication of the amount of sugar, where higher values signify higher sugar content.\n",
    "- `'pricepercent'` shows the price per unit, relative to the other candies in the dataset.\n",
    "- `'winpercent'` is calculated from the survey results; higher values indicate that the candy was more popular with survey respondents.\n",
    "\n",
    "Use the first five rows of the data to answer the questions below."
   ]
  },
  {
   "cell_type": "code",
   "execution_count": 6,
   "id": "e0891aee",
   "metadata": {
    "_cell_guid": "d27a13f0-0f2c-4ab9-a39c-d1635773fe84",
    "_uuid": "b65a7b21-5b7c-49e0-ab27-c212d0101110",
    "collapsed": false,
    "execution": {
     "iopub.execute_input": "2025-04-24T13:34:02.280267Z",
     "iopub.status.busy": "2025-04-24T13:34:02.279871Z",
     "iopub.status.idle": "2025-04-24T13:34:02.287943Z",
     "shell.execute_reply": "2025-04-24T13:34:02.287013Z"
    },
    "jupyter": {
     "outputs_hidden": false
    },
    "papermill": {
     "duration": 0.017783,
     "end_time": "2025-04-24T13:34:02.289594",
     "exception": false,
     "start_time": "2025-04-24T13:34:02.271811",
     "status": "completed"
    },
    "tags": []
   },
   "outputs": [
    {
     "data": {
      "application/javascript": [
       "parent.postMessage({\"jupyterEvent\": \"custom.exercise_interaction\", \"data\": {\"outcomeType\": 1, \"valueTowardsCompletion\": 0.3333333333333333, \"interactionType\": 1, \"questionType\": 1, \"questionId\": \"2_ReviewData\", \"learnToolsVersion\": \"0.3.5\", \"failureMessage\": \"\", \"exceptionClass\": \"\", \"trace\": \"\"}}, \"*\")"
      ],
      "text/plain": [
       "<IPython.core.display.Javascript object>"
      ]
     },
     "metadata": {},
     "output_type": "display_data"
    },
    {
     "data": {
      "text/markdown": [
       "<span style=\"color:#33cc33\">Correct</span>"
      ],
      "text/plain": [
       "Correct"
      ]
     },
     "metadata": {},
     "output_type": "display_data"
    }
   ],
   "source": [
    "# Fill in the line below: Which candy was more popular with survey respondents:\n",
    "# '3 Musketeers' or 'Almond Joy'?  (Please enclose your answer in single quotes.)\n",
    "more_popular = '3 Musketeers'\n",
    "\n",
    "# Fill in the line below: Which candy has higher sugar content: 'Air Heads'\n",
    "# or 'Baby Ruth'? (Please enclose your answer in single quotes.)\n",
    "more_sugar = 'Air Heads'\n",
    "\n",
    "# Check your answers\n",
    "step_2.check()"
   ]
  },
  {
   "cell_type": "code",
   "execution_count": 7,
   "id": "57a5e1e1",
   "metadata": {
    "_cell_guid": "579df5f2-59ae-40da-bee9-dce8c4800a17",
    "_uuid": "75b64634-b85b-4385-bf5b-0adac7da1d49",
    "collapsed": false,
    "execution": {
     "iopub.execute_input": "2025-04-24T13:34:02.307220Z",
     "iopub.status.busy": "2025-04-24T13:34:02.306241Z",
     "iopub.status.idle": "2025-04-24T13:34:02.311076Z",
     "shell.execute_reply": "2025-04-24T13:34:02.310006Z"
    },
    "jupyter": {
     "outputs_hidden": false
    },
    "papermill": {
     "duration": 0.015592,
     "end_time": "2025-04-24T13:34:02.312929",
     "exception": false,
     "start_time": "2025-04-24T13:34:02.297337",
     "status": "completed"
    },
    "tags": []
   },
   "outputs": [],
   "source": [
    "# Lines below will give you a hint or solution code\n",
    "#step_2.hint()\n",
    "#step_2.solution()"
   ]
  },
  {
   "cell_type": "markdown",
   "id": "53f9c102",
   "metadata": {
    "_cell_guid": "cf2b4902-49e2-455c-8225-4935c24a88fe",
    "_uuid": "830b55e3-1f96-449e-b9fc-fc28c8f9a29b",
    "papermill": {
     "duration": 0.009092,
     "end_time": "2025-04-24T13:34:02.329764",
     "exception": false,
     "start_time": "2025-04-24T13:34:02.320672",
     "status": "completed"
    },
    "tags": []
   },
   "source": [
    "## Step 3: The role of sugar\n",
    "\n",
    "Do people tend to prefer candies with higher sugar content?  \n",
    "\n",
    "#### Part A\n",
    "\n",
    "Create a scatter plot that shows the relationship between `'sugarpercent'` (on the horizontal x-axis) and `'winpercent'` (on the vertical y-axis).  _Don't add a regression line just yet -- you'll do that in the next step!_"
   ]
  },
  {
   "cell_type": "code",
   "execution_count": 8,
   "id": "1f3ca77f",
   "metadata": {
    "_cell_guid": "e3e1dfcb-27da-4411-8e66-f851d6ead9b0",
    "_uuid": "32530c30-d149-462b-ac3d-7b3473a1f489",
    "collapsed": false,
    "execution": {
     "iopub.execute_input": "2025-04-24T13:34:02.346730Z",
     "iopub.status.busy": "2025-04-24T13:34:02.345858Z",
     "iopub.status.idle": "2025-04-24T13:34:02.630075Z",
     "shell.execute_reply": "2025-04-24T13:34:02.629132Z"
    },
    "jupyter": {
     "outputs_hidden": false
    },
    "papermill": {
     "duration": 0.29449,
     "end_time": "2025-04-24T13:34:02.631946",
     "exception": false,
     "start_time": "2025-04-24T13:34:02.337456",
     "status": "completed"
    },
    "tags": []
   },
   "outputs": [
    {
     "data": {
      "application/javascript": [
       "parent.postMessage({\"jupyterEvent\": \"custom.exercise_interaction\", \"data\": {\"outcomeType\": 1, \"valueTowardsCompletion\": 0.3333333333333333, \"interactionType\": 1, \"questionType\": 2, \"questionId\": \"3.1_PlotBlueScatter\", \"learnToolsVersion\": \"0.3.5\", \"failureMessage\": \"\", \"exceptionClass\": \"\", \"trace\": \"\"}}, \"*\")"
      ],
      "text/plain": [
       "<IPython.core.display.Javascript object>"
      ]
     },
     "metadata": {},
     "output_type": "display_data"
    },
    {
     "data": {
      "text/markdown": [
       "<span style=\"color:#33cc33\">Correct</span>"
      ],
      "text/plain": [
       "Correct"
      ]
     },
     "metadata": {},
     "output_type": "display_data"
    },
    {
     "data": {
      "image/png": "[encoded data removed]",
      "text/plain": [
       "<Figure size 640x480 with 1 Axes>"
      ]
     },
     "metadata": {},
     "output_type": "display_data"
    }
   ],
   "source": [
    "# Scatter plot showing the relationship between 'sugarpercent' and 'winpercent'\n",
    "#sns.scatterplot(x=candy_data.sugarpercent, y=candy_data.winpercent) # Your code here\n",
    "sns.scatterplot(x=\"sugarpercent\", y=\"winpercent\", data=candy_data) \n",
    "\n",
    "\n",
    "# Check your answer\n",
    "step_3.a.check()"
   ]
  },
  {
   "cell_type": "code",
   "execution_count": 9,
   "id": "8c01a36c",
   "metadata": {
    "_cell_guid": "13170853-9b55-409c-ad4b-6ca5116edfda",
    "_uuid": "0aca058b-59fa-454d-a067-f43abcf0e1ac",
    "collapsed": false,
    "execution": {
     "iopub.execute_input": "2025-04-24T13:34:02.650846Z",
     "iopub.status.busy": "2025-04-24T13:34:02.650520Z",
     "iopub.status.idle": "2025-04-24T13:34:02.940444Z",
     "shell.execute_reply": "2025-04-24T13:34:02.939373Z"
    },
    "jupyter": {
     "outputs_hidden": false
    },
    "papermill": {
     "duration": 0.301513,
     "end_time": "2025-04-24T13:34:02.942124",
     "exception": false,
     "start_time": "2025-04-24T13:34:02.640611",
     "status": "completed"
    },
    "tags": []
   },
   "outputs": [
    {
     "data": {
      "application/javascript": [
       "parent.postMessage({\"jupyterEvent\": \"custom.exercise_interaction\", \"data\": {\"interactionType\": 3, \"questionType\": 2, \"questionId\": \"3.1_PlotBlueScatter\", \"learnToolsVersion\": \"0.3.5\", \"valueTowardsCompletion\": 0.0, \"failureMessage\": \"\", \"exceptionClass\": \"\", \"trace\": \"\", \"outcomeType\": 4}}, \"*\")"
      ],
      "text/plain": [
       "<IPython.core.display.Javascript object>"
      ]
     },
     "metadata": {},
     "output_type": "display_data"
    },
    {
     "data": {
      "text/markdown": [
       "<span style=\"color:#33cc99\">Solution:</span> \n",
       "```python\n",
       "# Scatter plot showing the relationship between 'sugarpercent' and 'winpercent'\n",
       "sns.scatterplot(x=candy_data['sugarpercent'], y=candy_data['winpercent'])\n",
       "\n",
       "```"
      ],
      "text/plain": [
       "Solution: \n",
       "```python\n",
       "# Scatter plot showing the relationship between 'sugarpercent' and 'winpercent'\n",
       "sns.scatterplot(x=candy_data['sugarpercent'], y=candy_data['winpercent'])\n",
       "\n",
       "```"
      ]
     },
     "metadata": {},
     "output_type": "display_data"
    },
    {
     "data": {
      "image/png": "[encoded data removed]",
      "text/plain": [
       "<Figure size 640x480 with 1 Axes>"
      ]
     },
     "metadata": {},
     "output_type": "display_data"
    }
   ],
   "source": [
    "# Lines below will give you a hint or solution code\n",
    "#step_3.a.hint()\n",
    "step_3.a.solution_plot()"
   ]
  },
  {
   "cell_type": "markdown",
   "id": "a97fc5d6",
   "metadata": {
    "_cell_guid": "d2205329-0b17-4cc6-98dc-2db8b098fdb5",
    "_uuid": "961fd776-3656-46c2-8e49-3ea8ce7e799b",
    "papermill": {
     "duration": 0.008276,
     "end_time": "2025-04-24T13:34:02.959137",
     "exception": false,
     "start_time": "2025-04-24T13:34:02.950861",
     "status": "completed"
    },
    "tags": []
   },
   "source": [
    "#### Part B\n",
    "\n",
    "Does the scatter plot show a **strong** correlation between the two variables?  If so, are candies with more sugar relatively more or less popular with the survey respondents?"
   ]
  },
  {
   "cell_type": "code",
   "execution_count": 10,
   "id": "bc1bfc33",
   "metadata": {
    "_cell_guid": "580e070d-593e-4d39-8a3a-4cce8772b501",
    "_uuid": "2ff4dc31-e407-41ed-a4bf-6ab84e7582b4",
    "collapsed": false,
    "execution": {
     "iopub.execute_input": "2025-04-24T13:34:02.977464Z",
     "iopub.status.busy": "2025-04-24T13:34:02.977069Z",
     "iopub.status.idle": "2025-04-24T13:34:02.981439Z",
     "shell.execute_reply": "2025-04-24T13:34:02.980447Z"
    },
    "jupyter": {
     "outputs_hidden": false
    },
    "papermill": {
     "duration": 0.015531,
     "end_time": "2025-04-24T13:34:02.983112",
     "exception": false,
     "start_time": "2025-04-24T13:34:02.967581",
     "status": "completed"
    },
    "tags": []
   },
   "outputs": [],
   "source": [
    "#step_3.b.hint()"
   ]
  },
  {
   "cell_type": "code",
   "execution_count": 11,
   "id": "c99a13e8",
   "metadata": {
    "_cell_guid": "d78c4d9b-4d8a-4ef0-97d3-a84e99ee0e63",
    "_uuid": "bf67b2a3-b937-4b8b-a9a9-25399fa6bcef",
    "collapsed": false,
    "execution": {
     "iopub.execute_input": "2025-04-24T13:34:03.001781Z",
     "iopub.status.busy": "2025-04-24T13:34:03.001444Z",
     "iopub.status.idle": "2025-04-24T13:34:03.008607Z",
     "shell.execute_reply": "2025-04-24T13:34:03.007681Z"
    },
    "jupyter": {
     "outputs_hidden": false
    },
    "papermill": {
     "duration": 0.018158,
     "end_time": "2025-04-24T13:34:03.009971",
     "exception": false,
     "start_time": "2025-04-24T13:34:02.991813",
     "status": "completed"
    },
    "tags": []
   },
   "outputs": [
    {
     "data": {
      "application/javascript": [
       "parent.postMessage({\"jupyterEvent\": \"custom.exercise_interaction\", \"data\": {\"interactionType\": 3, \"questionType\": 4, \"questionId\": \"3.2_ThinkBlueScatter\", \"learnToolsVersion\": \"0.3.5\", \"valueTowardsCompletion\": 0.0, \"failureMessage\": \"\", \"exceptionClass\": \"\", \"trace\": \"\", \"outcomeType\": 4}}, \"*\")"
      ],
      "text/plain": [
       "<IPython.core.display.Javascript object>"
      ]
     },
     "metadata": {},
     "output_type": "display_data"
    },
    {
     "data": {
      "text/markdown": [
       "<span style=\"color:#33cc99\">Solution:</span> The scatter plot does not show a strong correlation between the two variables. Since there is no clear relationship between the two variables, this tells us that sugar content does not play a strong role in candy popularity."
      ],
      "text/plain": [
       "Solution: The scatter plot does not show a strong correlation between the two variables. Since there is no clear relationship between the two variables, this tells us that sugar content does not play a strong role in candy popularity."
      ]
     },
     "metadata": {},
     "output_type": "display_data"
    }
   ],
   "source": [
    "# Check your answer (Run this code cell to receive credit!)\n",
    "step_3.b.solution()"
   ]
  },
  {
   "cell_type": "markdown",
   "id": "a170404c",
   "metadata": {
    "_cell_guid": "4192bf36-6f71-4fbf-999f-8cb68c45061d",
    "_uuid": "7ea5bcf8-1f52-4ef9-881c-3011b61abf66",
    "papermill": {
     "duration": 0.009793,
     "end_time": "2025-04-24T13:34:03.028756",
     "exception": false,
     "start_time": "2025-04-24T13:34:03.018963",
     "status": "completed"
    },
    "tags": []
   },
   "source": [
    "## Step 4: Take a closer look\n",
    "\n",
    "#### Part A\n",
    "\n",
    "Create the same scatter plot you created in **Step 3**, but now with a regression line!"
   ]
  },
  {
   "cell_type": "code",
   "execution_count": 12,
   "id": "d1a0c360",
   "metadata": {
    "_cell_guid": "b029d557-9737-4a80-970c-ebea516cf8ac",
    "_uuid": "1de8aba4-ea37-499b-b2da-0f6589fabc72",
    "collapsed": false,
    "execution": {
     "iopub.execute_input": "2025-04-24T13:34:03.047733Z",
     "iopub.status.busy": "2025-04-24T13:34:03.047397Z",
     "iopub.status.idle": "2025-04-24T13:34:03.352504Z",
     "shell.execute_reply": "2025-04-24T13:34:03.351505Z"
    },
    "jupyter": {
     "outputs_hidden": false
    },
    "papermill": {
     "duration": 0.316521,
     "end_time": "2025-04-24T13:34:03.354072",
     "exception": false,
     "start_time": "2025-04-24T13:34:03.037551",
     "status": "completed"
    },
    "tags": []
   },
   "outputs": [
    {
     "data": {
      "application/javascript": [
       "parent.postMessage({\"jupyterEvent\": \"custom.exercise_interaction\", \"data\": {\"outcomeType\": 1, \"valueTowardsCompletion\": 0.3333333333333333, \"interactionType\": 1, \"questionType\": 2, \"questionId\": \"4.1_PlotBlueReg\", \"learnToolsVersion\": \"0.3.5\", \"failureMessage\": \"\", \"exceptionClass\": \"\", \"trace\": \"\"}}, \"*\")"
      ],
      "text/plain": [
       "<IPython.core.display.Javascript object>"
      ]
     },
     "metadata": {},
     "output_type": "display_data"
    },
    {
     "data": {
      "text/markdown": [
       "<span style=\"color:#33cc33\">Correct</span>"
      ],
      "text/plain": [
       "Correct"
      ]
     },
     "metadata": {},
     "output_type": "display_data"
    },
    {
     "data": {
      "image/png": "[encoded data removed]",
      "text/plain": [
       "<Figure size 640x480 with 1 Axes>"
      ]
     },
     "metadata": {},
     "output_type": "display_data"
    }
   ],
   "source": [
    "# Scatter plot w/ regression line showing the relationship between 'sugarpercent' and 'winpercent'\n",
    "\n",
    "# sns.regplot(x=candy_data[\"sugarpercent\"], y=candy_data[\"winpercent\"]) # Your code here\n",
    "sns.regplot(x=\"sugarpercent\", y=\"winpercent\", data=candy_data) # Your code here\n",
    "\n",
    "\n",
    "# Check your answer\n",
    "step_4.a.check()"
   ]
  },
  {
   "cell_type": "code",
   "execution_count": 13,
   "id": "63094d2b",
   "metadata": {
    "_cell_guid": "08a4b488-b82c-43b3-bddf-4ebe1bc7a282",
    "_uuid": "b9b95816-e6c7-4fbe-b8b4-f3e66bbcf434",
    "collapsed": false,
    "execution": {
     "iopub.execute_input": "2025-04-24T13:34:03.443487Z",
     "iopub.status.busy": "2025-04-24T13:34:03.442911Z",
     "iopub.status.idle": "2025-04-24T13:34:03.717683Z",
     "shell.execute_reply": "2025-04-24T13:34:03.716657Z"
    },
    "jupyter": {
     "outputs_hidden": false
    },
    "papermill": {
     "duration": 0.287218,
     "end_time": "2025-04-24T13:34:03.719587",
     "exception": false,
     "start_time": "2025-04-24T13:34:03.432369",
     "status": "completed"
    },
    "tags": []
   },
   "outputs": [
    {
     "data": {
      "application/javascript": [
       "parent.postMessage({\"jupyterEvent\": \"custom.exercise_interaction\", \"data\": {\"interactionType\": 3, \"questionType\": 2, \"questionId\": \"4.1_PlotBlueReg\", \"learnToolsVersion\": \"0.3.5\", \"valueTowardsCompletion\": 0.0, \"failureMessage\": \"\", \"exceptionClass\": \"\", \"trace\": \"\", \"outcomeType\": 4}}, \"*\")"
      ],
      "text/plain": [
       "<IPython.core.display.Javascript object>"
      ]
     },
     "metadata": {},
     "output_type": "display_data"
    },
    {
     "data": {
      "text/markdown": [
       "<span style=\"color:#33cc99\">Solution:</span> \n",
       "```python\n",
       "# Scatter plot w/ regression line showing the relationship between 'sugarpercent' and 'winpercent'\n",
       "sns.regplot(x=candy_data['sugarpercent'], y=candy_data['winpercent'])\n",
       "\n",
       "```"
      ],
      "text/plain": [
       "Solution: \n",
       "```python\n",
       "# Scatter plot w/ regression line showing the relationship between 'sugarpercent' and 'winpercent'\n",
       "sns.regplot(x=candy_data['sugarpercent'], y=candy_data['winpercent'])\n",
       "\n",
       "```"
      ]
     },
     "metadata": {},
     "output_type": "display_data"
    },
    {
     "data": {
      "image/png": "[encoded data removed]",
      "text/plain": [
       "<Figure size 640x480 with 1 Axes>"
      ]
     },
     "metadata": {},
     "output_type": "display_data"
    }
   ],
   "source": [
    "# Lines below will give you a hint or solution code\n",
    "#step_4.a.hint()\n",
    "step_4.a.solution_plot()"
   ]
  },
  {
   "cell_type": "markdown",
   "id": "f6c57878",
   "metadata": {
    "_cell_guid": "d8422998-1639-4e73-9995-8ce58028bcbe",
    "_uuid": "463bbfbd-d97a-445c-9cd0-8a22e578e278",
    "papermill": {
     "duration": 0.009937,
     "end_time": "2025-04-24T13:34:03.740520",
     "exception": false,
     "start_time": "2025-04-24T13:34:03.730583",
     "status": "completed"
    },
    "tags": []
   },
   "source": [
    "#### Part B\n",
    "\n",
    "According to the plot above, is there a **slight** correlation between `'winpercent'` and `'sugarpercent'`?  What does this tell you about the candy that people tend to prefer?"
   ]
  },
  {
   "cell_type": "code",
   "execution_count": 14,
   "id": "935d9d1e",
   "metadata": {
    "_cell_guid": "ea393914-0c38-4015-90cb-c27ed88bee4b",
    "_uuid": "b7c812ef-948d-4562-94ee-0d0786da5a3c",
    "collapsed": false,
    "execution": {
     "iopub.execute_input": "2025-04-24T13:34:03.761701Z",
     "iopub.status.busy": "2025-04-24T13:34:03.761413Z",
     "iopub.status.idle": "2025-04-24T13:34:03.765705Z",
     "shell.execute_reply": "2025-04-24T13:34:03.764733Z"
    },
    "jupyter": {
     "outputs_hidden": false
    },
    "papermill": {
     "duration": 0.016921,
     "end_time": "2025-04-24T13:34:03.767281",
     "exception": false,
     "start_time": "2025-04-24T13:34:03.750360",
     "status": "completed"
    },
    "tags": []
   },
   "outputs": [],
   "source": [
    "#step_4.b.hint()"
   ]
  },
  {
   "cell_type": "code",
   "execution_count": 15,
   "id": "ec2b4f3b",
   "metadata": {
    "_cell_guid": "97cf7715-c910-491f-ae2e-7176a45c5c13",
    "_uuid": "f58a63f6-e93e-4012-b059-99c3a7b75350",
    "collapsed": false,
    "execution": {
     "iopub.execute_input": "2025-04-24T13:34:03.789214Z",
     "iopub.status.busy": "2025-04-24T13:34:03.788819Z",
     "iopub.status.idle": "2025-04-24T13:34:03.796709Z",
     "shell.execute_reply": "2025-04-24T13:34:03.795864Z"
    },
    "jupyter": {
     "outputs_hidden": false
    },
    "papermill": {
     "duration": 0.020741,
     "end_time": "2025-04-24T13:34:03.798310",
     "exception": false,
     "start_time": "2025-04-24T13:34:03.777569",
     "status": "completed"
    },
    "tags": []
   },
   "outputs": [
    {
     "data": {
      "application/javascript": [
       "parent.postMessage({\"jupyterEvent\": \"custom.exercise_interaction\", \"data\": {\"interactionType\": 3, \"questionType\": 4, \"questionId\": \"4.2_ThinkBlueReg\", \"learnToolsVersion\": \"0.3.5\", \"valueTowardsCompletion\": 0.0, \"failureMessage\": \"\", \"exceptionClass\": \"\", \"trace\": \"\", \"outcomeType\": 4}}, \"*\")"
      ],
      "text/plain": [
       "<IPython.core.display.Javascript object>"
      ]
     },
     "metadata": {},
     "output_type": "display_data"
    },
    {
     "data": {
      "text/markdown": [
       "<span style=\"color:#33cc99\">Solution:</span> Since the regression line has a slightly positive slope, this tells us that there is a slightly positive correlation between `'winpercent'` and `'sugarpercent'`. Thus, people have a slight preference for candies containing relatively more sugar."
      ],
      "text/plain": [
       "Solution: Since the regression line has a slightly positive slope, this tells us that there is a slightly positive correlation between `'winpercent'` and `'sugarpercent'`. Thus, people have a slight preference for candies containing relatively more sugar."
      ]
     },
     "metadata": {},
     "output_type": "display_data"
    }
   ],
   "source": [
    "# Check your answer (Run this code cell to receive credit!)\n",
    "step_4.b.solution()"
   ]
  },
  {
   "cell_type": "markdown",
   "id": "4f7df63e",
   "metadata": {
    "_cell_guid": "2645a7db-d014-4672-9c96-97db1df84da1",
    "_uuid": "de429967-ba8b-4db9-bf31-cc073c542ba8",
    "papermill": {
     "duration": 0.010271,
     "end_time": "2025-04-24T13:34:03.819184",
     "exception": false,
     "start_time": "2025-04-24T13:34:03.808913",
     "status": "completed"
    },
    "tags": []
   },
   "source": [
    "## Step 5: Chocolate!\n",
    "\n",
    "In the code cell below, create a scatter plot to show the relationship between `'pricepercent'` (on the horizontal x-axis) and `'winpercent'` (on the vertical y-axis). Use the `'chocolate'` column to color-code the points.  _Don't add any regression lines just yet -- you'll do that in the next step!_"
   ]
  },
  {
   "cell_type": "code",
   "execution_count": 16,
   "id": "a5df0a0d",
   "metadata": {
    "_cell_guid": "1a34f19f-8f51-4aec-9e18-5f7c6989d2d4",
    "_uuid": "203448c3-4093-41e2-ad38-b547979e0b66",
    "collapsed": false,
    "execution": {
     "iopub.execute_input": "2025-04-24T13:34:03.842223Z",
     "iopub.status.busy": "2025-04-24T13:34:03.841751Z",
     "iopub.status.idle": "2025-04-24T13:34:04.098064Z",
     "shell.execute_reply": "2025-04-24T13:34:04.097225Z"
    },
    "jupyter": {
     "outputs_hidden": false
    },
    "papermill": {
     "duration": 0.269336,
     "end_time": "2025-04-24T13:34:04.099668",
     "exception": false,
     "start_time": "2025-04-24T13:34:03.830332",
     "status": "completed"
    },
    "tags": []
   },
   "outputs": [
    {
     "data": {
      "application/javascript": [
       "parent.postMessage({\"jupyterEvent\": \"custom.exercise_interaction\", \"data\": {\"outcomeType\": 1, \"valueTowardsCompletion\": 0.3333333333333333, \"interactionType\": 1, \"questionType\": 2, \"questionId\": \"5_ColorScatter\", \"learnToolsVersion\": \"0.3.5\", \"failureMessage\": \"\", \"exceptionClass\": \"\", \"trace\": \"\"}}, \"*\")"
      ],
      "text/plain": [
       "<IPython.core.display.Javascript object>"
      ]
     },
     "metadata": {},
     "output_type": "display_data"
    },
    {
     "data": {
      "text/markdown": [
       "<span style=\"color:#33cc33\">Correct</span>"
      ],
      "text/plain": [
       "Correct"
      ]
     },
     "metadata": {},
     "output_type": "display_data"
    },
    {
     "data": {
      "image/png": "[encoded data removed]",
      "text/plain": [
       "<Figure size 640x480 with 1 Axes>"
      ]
     },
     "metadata": {},
     "output_type": "display_data"
    }
   ],
   "source": [
    "# Scatter plot showing the relationship between 'pricepercent', 'winpercent', and 'chocolate'\n",
    "# sns.scatterplot(x=candy_data[\"pricepercent\"], y=candy_data[\"winpercent\"],\n",
    "#                hue=candy_data.chocolate) # Your code here\n",
    "\n",
    "sns.scatterplot(x=\"pricepercent\", y=\"winpercent\",\n",
    "               hue=\"chocolate\", data=candy_data) # Your code here\n",
    "\n",
    "\n",
    "# Check your answer\n",
    "step_5.check()"
   ]
  },
  {
   "cell_type": "code",
   "execution_count": 17,
   "id": "275b6573",
   "metadata": {
    "_cell_guid": "08e20fc4-e57a-4771-85b3-23b8869db822",
    "_uuid": "a0e133c7-c169-4b12-948b-8ba5790e41b8",
    "collapsed": false,
    "execution": {
     "iopub.execute_input": "2025-04-24T13:34:04.123639Z",
     "iopub.status.busy": "2025-04-24T13:34:04.123238Z",
     "iopub.status.idle": "2025-04-24T13:34:04.379392Z",
     "shell.execute_reply": "2025-04-24T13:34:04.378332Z"
    },
    "jupyter": {
     "outputs_hidden": false
    },
    "papermill": {
     "duration": 0.27002,
     "end_time": "2025-04-24T13:34:04.381159",
     "exception": false,
     "start_time": "2025-04-24T13:34:04.111139",
     "status": "completed"
    },
    "tags": []
   },
   "outputs": [
    {
     "data": {
      "application/javascript": [
       "parent.postMessage({\"jupyterEvent\": \"custom.exercise_interaction\", \"data\": {\"interactionType\": 3, \"questionType\": 2, \"questionId\": \"5_ColorScatter\", \"learnToolsVersion\": \"0.3.5\", \"valueTowardsCompletion\": 0.0, \"failureMessage\": \"\", \"exceptionClass\": \"\", \"trace\": \"\", \"outcomeType\": 4}}, \"*\")"
      ],
      "text/plain": [
       "<IPython.core.display.Javascript object>"
      ]
     },
     "metadata": {},
     "output_type": "display_data"
    },
    {
     "data": {
      "text/markdown": [
       "<span style=\"color:#33cc99\">Solution:</span> \n",
       "```python\n",
       "# Scatter plot showing the relationship between 'pricepercent', 'winpercent', and 'chocolate'\n",
       "sns.scatterplot(x=candy_data['pricepercent'], y=candy_data['winpercent'], hue=candy_data['chocolate'])\n",
       "\n",
       "```"
      ],
      "text/plain": [
       "Solution: \n",
       "```python\n",
       "# Scatter plot showing the relationship between 'pricepercent', 'winpercent', and 'chocolate'\n",
       "sns.scatterplot(x=candy_data['pricepercent'], y=candy_data['winpercent'], hue=candy_data['chocolate'])\n",
       "\n",
       "```"
      ]
     },
     "metadata": {},
     "output_type": "display_data"
    },
    {
     "data": {
      "image/png": "[encoded data removed]",
      "text/plain": [
       "<Figure size 640x480 with 1 Axes>"
      ]
     },
     "metadata": {},
     "output_type": "display_data"
    }
   ],
   "source": [
    "# Lines below will give you a hint or solution code\n",
    "#step_5.hint()\n",
    "step_5.solution_plot()"
   ]
  },
  {
   "cell_type": "markdown",
   "id": "e73d2f99",
   "metadata": {
    "_cell_guid": "487a561f-801c-423f-8fdc-adae2f8d5c95",
    "_uuid": "66ad5c8b-41a5-493b-b22f-e049a0ec1501",
    "papermill": {
     "duration": 0.011371,
     "end_time": "2025-04-24T13:34:04.404589",
     "exception": false,
     "start_time": "2025-04-24T13:34:04.393218",
     "status": "completed"
    },
    "tags": []
   },
   "source": [
    "Can you see any interesting patterns in the scatter plot?  We'll investigate this plot further  by adding regression lines in the next step!\n",
    "\n",
    "## Step 6: Investigate chocolate\n",
    "\n",
    "#### Part A\n",
    "\n",
    "Create the same scatter plot you created in **Step 5**, but now with two regression lines, corresponding to (1) chocolate candies and (2) candies without chocolate."
   ]
  },
  {
   "cell_type": "code",
   "execution_count": 18,
   "id": "2cb3fc9a",
   "metadata": {
    "_cell_guid": "0f8715eb-a32f-421c-a07b-8055c6b70529",
    "_uuid": "a5ebd68a-655c-4716-8274-ab785cc66598",
    "collapsed": false,
    "execution": {
     "iopub.execute_input": "2025-04-24T13:34:04.429207Z",
     "iopub.status.busy": "2025-04-24T13:34:04.428852Z",
     "iopub.status.idle": "2025-04-24T13:34:05.036742Z",
     "shell.execute_reply": "2025-04-24T13:34:05.035783Z"
    },
    "jupyter": {
     "outputs_hidden": false
    },
    "papermill": {
     "duration": 0.622297,
     "end_time": "2025-04-24T13:34:05.038519",
     "exception": false,
     "start_time": "2025-04-24T13:34:04.416222",
     "status": "completed"
    },
    "tags": []
   },
   "outputs": [
    {
     "data": {
      "application/javascript": [
       "parent.postMessage({\"jupyterEvent\": \"custom.exercise_interaction\", \"data\": {\"outcomeType\": 1, \"valueTowardsCompletion\": 0.3333333333333333, \"interactionType\": 1, \"questionType\": 2, \"questionId\": \"6.1_PlotColorReg\", \"learnToolsVersion\": \"0.3.5\", \"failureMessage\": \"\", \"exceptionClass\": \"\", \"trace\": \"\"}}, \"*\")"
      ],
      "text/plain": [
       "<IPython.core.display.Javascript object>"
      ]
     },
     "metadata": {},
     "output_type": "display_data"
    },
    {
     "data": {
      "text/markdown": [
       "<span style=\"color:#33cc33\">Correct</span>"
      ],
      "text/plain": [
       "Correct"
      ]
     },
     "metadata": {},
     "output_type": "display_data"
    },
    {
     "data": {
      "image/png": "[encoded data removed]",
      "text/plain": [
       "<Figure size 578.611x500 with 1 Axes>"
      ]
     },
     "metadata": {},
     "output_type": "display_data"
    }
   ],
   "source": [
    "# Color-coded scatter plot w/ regression lines\n",
    "sns.lmplot(x=\"pricepercent\", y=\"winpercent\",\n",
    "               hue=\"chocolate\", data=candy_data) # Your code here\n",
    "\n",
    "# Check your answer\n",
    "step_6.a.check()"
   ]
  },
  {
   "cell_type": "code",
   "execution_count": 19,
   "id": "80959ade",
   "metadata": {
    "_cell_guid": "3924cb5f-af18-42f3-8db3-298db67e6cf7",
    "_uuid": "cc62d0d7-bc8a-4bef-8cdd-d4e012a2891b",
    "collapsed": false,
    "execution": {
     "iopub.execute_input": "2025-04-24T13:34:05.068221Z",
     "iopub.status.busy": "2025-04-24T13:34:05.067830Z",
     "iopub.status.idle": "2025-04-24T13:34:05.071749Z",
     "shell.execute_reply": "2025-04-24T13:34:05.071007Z"
    },
    "jupyter": {
     "outputs_hidden": false
    },
    "papermill": {
     "duration": 0.019137,
     "end_time": "2025-04-24T13:34:05.073304",
     "exception": false,
     "start_time": "2025-04-24T13:34:05.054167",
     "status": "completed"
    },
    "tags": []
   },
   "outputs": [],
   "source": [
    "# Lines below will give you a hint or solution code\n",
    "#step_6.a.hint()\n",
    "#step_6.a.solution_plot()"
   ]
  },
  {
   "cell_type": "markdown",
   "id": "8287b9a5",
   "metadata": {
    "_cell_guid": "f6def7aa-6bac-4772-bdd5-d9a57837c122",
    "_uuid": "6762c98d-9305-4e7a-b9c1-f38618bec4e8",
    "papermill": {
     "duration": 0.012297,
     "end_time": "2025-04-24T13:34:05.098244",
     "exception": false,
     "start_time": "2025-04-24T13:34:05.085947",
     "status": "completed"
    },
    "tags": []
   },
   "source": [
    "#### Part B\n",
    "\n",
    "Using the regression lines, what conclusions can you draw about the effects of chocolate and price on candy popularity?"
   ]
  },
  {
   "cell_type": "code",
   "execution_count": 20,
   "id": "05ed8f76",
   "metadata": {
    "_cell_guid": "bdb4d256-979e-47fd-bb98-f1ab577a0f1b",
    "_uuid": "4c7fe4af-8e73-4d89-9c56-4111abf589ca",
    "collapsed": false,
    "execution": {
     "iopub.execute_input": "2025-04-24T13:34:05.124710Z",
     "iopub.status.busy": "2025-04-24T13:34:05.124020Z",
     "iopub.status.idle": "2025-04-24T13:34:05.127850Z",
     "shell.execute_reply": "2025-04-24T13:34:05.127136Z"
    },
    "jupyter": {
     "outputs_hidden": false
    },
    "papermill": {
     "duration": 0.018653,
     "end_time": "2025-04-24T13:34:05.129322",
     "exception": false,
     "start_time": "2025-04-24T13:34:05.110669",
     "status": "completed"
    },
    "tags": []
   },
   "outputs": [],
   "source": [
    "#step_6.b.hint()"
   ]
  },
  {
   "cell_type": "code",
   "execution_count": 21,
   "id": "9389b9bd",
   "metadata": {
    "_cell_guid": "b6239044-7bda-42f1-8cb7-428155374f02",
    "_uuid": "ca90fdba-9613-4053-907d-26b09cb38a7c",
    "collapsed": false,
    "execution": {
     "iopub.execute_input": "2025-04-24T13:34:05.155621Z",
     "iopub.status.busy": "2025-04-24T13:34:05.155337Z",
     "iopub.status.idle": "2025-04-24T13:34:05.162746Z",
     "shell.execute_reply": "2025-04-24T13:34:05.162015Z"
    },
    "jupyter": {
     "outputs_hidden": false
    },
    "papermill": {
     "duration": 0.022113,
     "end_time": "2025-04-24T13:34:05.164136",
     "exception": false,
     "start_time": "2025-04-24T13:34:05.142023",
     "status": "completed"
    },
    "tags": []
   },
   "outputs": [
    {
     "data": {
      "application/javascript": [
       "parent.postMessage({\"jupyterEvent\": \"custom.exercise_interaction\", \"data\": {\"interactionType\": 3, \"questionType\": 4, \"questionId\": \"6.2_ThinkColorReg\", \"learnToolsVersion\": \"0.3.5\", \"valueTowardsCompletion\": 0.0, \"failureMessage\": \"\", \"exceptionClass\": \"\", \"trace\": \"\", \"outcomeType\": 4}}, \"*\")"
      ],
      "text/plain": [
       "<IPython.core.display.Javascript object>"
      ]
     },
     "metadata": {},
     "output_type": "display_data"
    },
    {
     "data": {
      "text/markdown": [
       "<span style=\"color:#33cc99\">Solution:</span> We'll begin with the regression line for chocolate candies. Since this line has a slightly positive slope, we can say that more expensive chocolate candies tend to be more popular (than relatively cheaper chocolate candies).  Likewise, since the regression line for candies without chocolate has a negative slope, we can say that if candies don't contain chocolate, they tend to be more popular when they are cheaper.  One important note, however, is that the dataset is quite small -- so we shouldn't invest too much trust in these patterns!  To inspire more confidence in the results, we should add more candies to the dataset."
      ],
      "text/plain": [
       "Solution: We'll begin with the regression line for chocolate candies. Since this line has a slightly positive slope, we can say that more expensive chocolate candies tend to be more popular (than relatively cheaper chocolate candies).  Likewise, since the regression line for candies without chocolate has a negative slope, we can say that if candies don't contain chocolate, they tend to be more popular when they are cheaper.  One important note, however, is that the dataset is quite small -- so we shouldn't invest too much trust in these patterns!  To inspire more confidence in the results, we should add more candies to the dataset."
      ]
     },
     "metadata": {},
     "output_type": "display_data"
    }
   ],
   "source": [
    "# Check your answer (Run this code cell to receive credit!)\n",
    "step_6.b.solution()"
   ]
  },
  {
   "cell_type": "markdown",
   "id": "fba7c559",
   "metadata": {
    "_cell_guid": "dcee6762-522b-4baf-8e80-d6d10c4331f6",
    "_uuid": "414d08d4-d251-4f4f-8c20-1ea36be179d8",
    "papermill": {
     "duration": 0.012825,
     "end_time": "2025-04-24T13:34:05.190439",
     "exception": false,
     "start_time": "2025-04-24T13:34:05.177614",
     "status": "completed"
    },
    "tags": []
   },
   "source": [
    "## Step 7: Everybody loves chocolate.\n",
    "\n",
    "#### Part A\n",
    "\n",
    "Create a categorical scatter plot to highlight the relationship between `'chocolate'` and `'winpercent'`.  Put `'chocolate'` on the (horizontal) x-axis, and `'winpercent'` on the (vertical) y-axis."
   ]
  },
  {
   "cell_type": "code",
   "execution_count": 22,
   "id": "be051dbf",
   "metadata": {
    "_cell_guid": "cdca562b-99b5-4e9d-8ec3-bd3b88d076cc",
    "_uuid": "95974675-c0eb-45f0-98a9-c9d6e6f0f7da",
    "collapsed": false,
    "execution": {
     "iopub.execute_input": "2025-04-24T13:34:05.217720Z",
     "iopub.status.busy": "2025-04-24T13:34:05.217432Z",
     "iopub.status.idle": "2025-04-24T13:34:05.474906Z",
     "shell.execute_reply": "2025-04-24T13:34:05.473839Z"
    },
    "jupyter": {
     "outputs_hidden": false
    },
    "papermill": {
     "duration": 0.273041,
     "end_time": "2025-04-24T13:34:05.476446",
     "exception": false,
     "start_time": "2025-04-24T13:34:05.203405",
     "status": "completed"
    },
    "tags": []
   },
   "outputs": [
    {
     "data": {
      "application/javascript": [
       "parent.postMessage({\"jupyterEvent\": \"custom.exercise_interaction\", \"data\": {\"outcomeType\": 1, \"valueTowardsCompletion\": 0.3333333333333333, \"interactionType\": 1, \"questionType\": 2, \"questionId\": \"7.1_PlotSwarm\", \"learnToolsVersion\": \"0.3.5\", \"failureMessage\": \"\", \"exceptionClass\": \"\", \"trace\": \"\"}}, \"*\")"
      ],
      "text/plain": [
       "<IPython.core.display.Javascript object>"
      ]
     },
     "metadata": {},
     "output_type": "display_data"
    },
    {
     "data": {
      "text/markdown": [
       "<span style=\"color:#33cc33\">Correct</span>"
      ],
      "text/plain": [
       "Correct"
      ]
     },
     "metadata": {},
     "output_type": "display_data"
    },
    {
     "data": {
      "image/png": "[encoded data removed]",
      "text/plain": [
       "<Figure size 640x480 with 1 Axes>"
      ]
     },
     "metadata": {},
     "output_type": "display_data"
    }
   ],
   "source": [
    "# Scatter plot showing the relationship between 'chocolate' and 'winpercent'\n",
    "\n",
    "# sns.swarmplot(x=candy_data[\"chocolate\"], y=candy_data[\"winpercent\"]) # Your code here\n",
    "sns.swarmplot(x=\"chocolate\", y=\"winpercent\", data=candy_data) # Your code here\n",
    "\n",
    "# Check your answer\n",
    "step_7.a.check()"
   ]
  },
  {
   "cell_type": "code",
   "execution_count": 23,
   "id": "6e47bc34",
   "metadata": {
    "_cell_guid": "613b9651-41cd-46bd-b253-80de3cf4325a",
    "_uuid": "67ee3e46-0fb1-4877-b9b5-26c416f34dff",
    "collapsed": false,
    "execution": {
     "iopub.execute_input": "2025-04-24T13:34:05.504854Z",
     "iopub.status.busy": "2025-04-24T13:34:05.504534Z",
     "iopub.status.idle": "2025-04-24T13:34:05.508610Z",
     "shell.execute_reply": "2025-04-24T13:34:05.507723Z"
    },
    "jupyter": {
     "outputs_hidden": false
    },
    "papermill": {
     "duration": 0.019806,
     "end_time": "2025-04-24T13:34:05.510124",
     "exception": false,
     "start_time": "2025-04-24T13:34:05.490318",
     "status": "completed"
    },
    "tags": []
   },
   "outputs": [],
   "source": [
    "# Lines below will give you a hint or solution code\n",
    "#step_7.a.hint()\n",
    "#step_7.a.solution_plot()"
   ]
  },
  {
   "cell_type": "markdown",
   "id": "ca5f9d6a",
   "metadata": {
    "_cell_guid": "9aa4495a-688a-44e2-9d20-62f6c993e135",
    "_uuid": "d8b45ed6-d49e-4562-a76e-b465e848cebe",
    "papermill": {
     "duration": 0.013135,
     "end_time": "2025-04-24T13:34:05.536875",
     "exception": false,
     "start_time": "2025-04-24T13:34:05.523740",
     "status": "completed"
    },
    "tags": []
   },
   "source": [
    "#### Part B\n",
    "\n",
    "You decide to dedicate a section of your report to the fact that chocolate candies tend to be more popular than candies without chocolate.  Which plot is more appropriate to tell this story: the plot from **Step 6**, or the plot from **Step 7**?"
   ]
  },
  {
   "cell_type": "code",
   "execution_count": 24,
   "id": "89720eca",
   "metadata": {
    "_cell_guid": "aa1d3e4f-415e-4b02-b4ef-6f938404d320",
    "_uuid": "e467fe23-a686-4b83-af0d-cb5911cd1faf",
    "collapsed": false,
    "execution": {
     "iopub.execute_input": "2025-04-24T13:34:05.566178Z",
     "iopub.status.busy": "2025-04-24T13:34:05.565788Z",
     "iopub.status.idle": "2025-04-24T13:34:05.571099Z",
     "shell.execute_reply": "2025-04-24T13:34:05.570094Z"
    },
    "jupyter": {
     "outputs_hidden": false
    },
    "papermill": {
     "duration": 0.022267,
     "end_time": "2025-04-24T13:34:05.572601",
     "exception": false,
     "start_time": "2025-04-24T13:34:05.550334",
     "status": "completed"
    },
    "tags": []
   },
   "outputs": [],
   "source": [
    "#step_7.b.hint()"
   ]
  },
  {
   "cell_type": "code",
   "execution_count": 25,
   "id": "6436f185",
   "metadata": {
    "_cell_guid": "bee072ee-64a8-458a-b7dc-311801fd13b5",
    "_uuid": "618c42e4-6344-4d47-8cb6-f5d34d5a3f22",
    "collapsed": false,
    "execution": {
     "iopub.execute_input": "2025-04-24T13:34:05.601423Z",
     "iopub.status.busy": "2025-04-24T13:34:05.601027Z",
     "iopub.status.idle": "2025-04-24T13:34:05.608752Z",
     "shell.execute_reply": "2025-04-24T13:34:05.607809Z"
    },
    "jupyter": {
     "outputs_hidden": false
    },
    "papermill": {
     "duration": 0.024185,
     "end_time": "2025-04-24T13:34:05.610390",
     "exception": false,
     "start_time": "2025-04-24T13:34:05.586205",
     "status": "completed"
    },
    "tags": []
   },
   "outputs": [
    {
     "data": {
      "application/javascript": [
       "parent.postMessage({\"jupyterEvent\": \"custom.exercise_interaction\", \"data\": {\"interactionType\": 3, \"questionType\": 4, \"questionId\": \"7.2_ThinkSwarm\", \"learnToolsVersion\": \"0.3.5\", \"valueTowardsCompletion\": 0.0, \"failureMessage\": \"\", \"exceptionClass\": \"\", \"trace\": \"\", \"outcomeType\": 4}}, \"*\")"
      ],
      "text/plain": [
       "<IPython.core.display.Javascript object>"
      ]
     },
     "metadata": {},
     "output_type": "display_data"
    },
    {
     "data": {
      "text/markdown": [
       "<span style=\"color:#33cc99\">Solution:</span> In this case, the categorical scatter plot from **Step 7** is the more appropriate plot. While both plots tell the desired story, the plot from **Step 6** conveys far more information that could distract from the main point."
      ],
      "text/plain": [
       "Solution: In this case, the categorical scatter plot from **Step 7** is the more appropriate plot. While both plots tell the desired story, the plot from **Step 6** conveys far more information that could distract from the main point."
      ]
     },
     "metadata": {},
     "output_type": "display_data"
    }
   ],
   "source": [
    "# Check your answer (Run this code cell to receive credit!)\n",
    "step_7.b.solution()"
   ]
  },
  {
   "cell_type": "markdown",
   "id": "cff31c6d",
   "metadata": {
    "_cell_guid": "9fdf5002-b317-4a4d-aa8a-a4336cece4fc",
    "_uuid": "269e068b-d978-4fc6-b51e-03cd7e1730d0",
    "papermill": {
     "duration": 0.013929,
     "end_time": "2025-04-24T13:34:05.638292",
     "exception": false,
     "start_time": "2025-04-24T13:34:05.624363",
     "status": "completed"
    },
    "tags": []
   },
   "source": [
    "## Keep going\n",
    "\n",
    "Explore **[histograms and density plots](https://www.kaggle.com/alexisbcook/distributions)**."
   ]
  },
  {
   "cell_type": "markdown",
   "id": "8ba911f5",
   "metadata": {
    "_cell_guid": "4e9624d1-b853-4e52-9167-af722b3b7955",
    "_uuid": "9661bcba-385d-4319-ad1e-81d3baba3062",
    "papermill": {
     "duration": 0.013692,
     "end_time": "2025-04-24T13:34:05.665945",
     "exception": false,
     "start_time": "2025-04-24T13:34:05.652253",
     "status": "completed"
    },
    "tags": []
   },
   "source": [
    "---\n",
    "\n",
    "\n",
    "\n",
    "\n",
    "*Have questions or comments? Visit the [course discussion forum](https://www.kaggle.com/learn/data-visualization/discussion) to chat with other learners.*"
   ]
  }
 ],
 "metadata": {
  "kaggle": {
   "accelerator": "none",
   "dataSources": [
    {
     "datasetId": 116573,
     "sourceId": 3551030,
     "sourceType": "datasetVersion"
    }
   ],
   "isGpuEnabled": false,
   "isInternetEnabled": false,
   "language": "python",
   "sourceType": "notebook"
  },
  "kernelspec": {
   "display_name": "Python 3",
   "language": "python",
   "name": "python3"
  },
  "language_info": {
   "codemirror_mode": {
    "name": "ipython",
    "version": 3
   },
   "file_extension": ".py",
   "mimetype": "text/x-python",
   "name": "python",
   "nbconvert_exporter": "python",
   "pygments_lexer": "ipython3",
   "version": "3.11.11"
  },
  "papermill": {
   "default_parameters": {},
   "duration": 13.33329,
   "end_time": "2025-04-24T13:34:06.401221",
   "environment_variables": {},
   "exception": null,
   "input_path": "__notebook__.ipynb",
   "output_path": "__notebook__.ipynb",
   "parameters": {},
   "start_time": "2025-04-24T13:33:53.067931",
   "version": "2.6.0"
  }
 },
 "nbformat": 4,
 "nbformat_minor": 5
}
